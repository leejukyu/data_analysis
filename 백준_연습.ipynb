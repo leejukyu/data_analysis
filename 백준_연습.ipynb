{
  "nbformat": 4,
  "nbformat_minor": 0,
  "metadata": {
    "colab": {
      "name": "백준 연습.ipynb",
      "provenance": [],
      "collapsed_sections": [],
      "authorship_tag": "ABX9TyP1ozYjIGgXbOlV+YROD9Gx",
      "include_colab_link": true
    },
    "kernelspec": {
      "name": "python3",
      "display_name": "Python 3"
    },
    "language_info": {
      "name": "python"
    }
  },
  "cells": [
    {
      "cell_type": "markdown",
      "metadata": {
        "id": "view-in-github",
        "colab_type": "text"
      },
      "source": [
        "<a href=\"https://colab.research.google.com/github/leejukyu/nado/blob/main/%EB%B0%B1%EC%A4%80_%EC%97%B0%EC%8A%B5.ipynb\" target=\"_parent\"><img src=\"https://colab.research.google.com/assets/colab-badge.svg\" alt=\"Open In Colab\"/></a>"
      ]
    },
    {
      "cell_type": "code",
      "metadata": {
        "colab": {
          "base_uri": "https://localhost:8080/"
        },
        "id": "qfwhd4eQLmbx",
        "outputId": "24367f14-280f-4170-b453-d11d1d2f4afb"
      },
      "source": [
        "a, b = input().split()\n",
        "x = int(a) * int(b[2])\n",
        "y = int(a) * int(b[1])\n",
        "z = int(a) * int(b[0])\n",
        "print(x)\n",
        "print(y)\n",
        "print(z)\n",
        "print(x + y*10 + z*100)"
      ],
      "execution_count": null,
      "outputs": [
        {
          "output_type": "stream",
          "text": [
            "123 111\n",
            "123\n",
            "123\n",
            "123\n",
            "13653\n"
          ],
          "name": "stdout"
        }
      ]
    },
    {
      "cell_type": "code",
      "metadata": {
        "colab": {
          "base_uri": "https://localhost:8080/"
        },
        "id": "-z0_SuApO5qx",
        "outputId": "ad08c9a9-316e-4b17-a766-aec3c55ee484"
      },
      "source": [
        "A, B = input().split()\n",
        "if A > B:\n",
        "    print(\">\")\n",
        "elif A < B :\n",
        "    print(\"<\")\n",
        "else:\n",
        "    print(\"==\")"
      ],
      "execution_count": null,
      "outputs": [
        {
          "output_type": "stream",
          "text": [
            "5 4\n",
            ">\n"
          ],
          "name": "stdout"
        }
      ]
    },
    {
      "cell_type": "code",
      "metadata": {
        "colab": {
          "base_uri": "https://localhost:8080/"
        },
        "id": "1L8Jt8omRLGH",
        "outputId": "ec9204cf-f5ce-446e-b2ea-ed38bb45960b"
      },
      "source": [
        "a = int(input())\n",
        "if a>= 90:\n",
        "    print(\"A\")\n",
        "elif 80 <= a < 90:\n",
        "    print(\"B\")\n",
        "elif 70 <= a < 80:\n",
        "    print(\"C\")\n",
        "elif 60 <= a < 70:\n",
        "    print(\"D\")\n",
        "else:\n",
        "    print(\"F\")"
      ],
      "execution_count": null,
      "outputs": [
        {
          "output_type": "stream",
          "text": [
            "89\n",
            "B\n"
          ],
          "name": "stdout"
        }
      ]
    },
    {
      "cell_type": "code",
      "metadata": {
        "colab": {
          "base_uri": "https://localhost:8080/"
        },
        "id": "BG-9m9Z7TqZN",
        "outputId": "60851fa1-a0e2-4851-c0b7-5854e032391a"
      },
      "source": [
        "a = int(input())\n",
        "if (a%4 == 0) & ((a%100 != 0) + (a%400 == 0)):\n",
        "    print(\"1\")\n",
        "else:\n",
        "    print(\"0\")"
      ],
      "execution_count": null,
      "outputs": [
        {
          "output_type": "stream",
          "text": [
            "5\n",
            "0\n"
          ],
          "name": "stdout"
        }
      ]
    },
    {
      "cell_type": "code",
      "metadata": {
        "colab": {
          "base_uri": "https://localhost:8080/"
        },
        "id": "L4q6dv2NUp3-",
        "outputId": "7854305a-42ec-4125-ce71-81435057aeff"
      },
      "source": [
        "x = int(input())\n",
        "y = int(input())\n",
        "if x>0 and y>0:\n",
        "    print(\"1\")\n",
        "elif x<0 and y>0:\n",
        "    print(\"2\")\n",
        "elif x<0 and y<0:\n",
        "    print(\"3\")\n",
        "else: print(\"4\")"
      ],
      "execution_count": null,
      "outputs": [
        {
          "output_type": "stream",
          "text": [
            "-5\n",
            "-8\n",
            "3\n"
          ],
          "name": "stdout"
        }
      ]
    },
    {
      "cell_type": "code",
      "metadata": {
        "colab": {
          "base_uri": "https://localhost:8080/"
        },
        "id": "AXdaZXKCVOgO",
        "outputId": "13ba612b-ae54-4e52-d881-656eab4015d9"
      },
      "source": [
        "h, m = input().split()\n",
        "h = int(h)\n",
        "m = int(m)\n",
        "if (m-45) < 0:\n",
        "    if h-1 < 0:\n",
        "        h = 24 -1\n",
        "    else: h = h-1\n",
        "    m = 60-(45-m)\n",
        "else: m = m-45 \n",
        "print(h,m)"
      ],
      "execution_count": null,
      "outputs": [
        {
          "output_type": "stream",
          "text": [
            "23 40\n",
            "22 55\n"
          ],
          "name": "stdout"
        }
      ]
    },
    {
      "cell_type": "code",
      "metadata": {
        "colab": {
          "base_uri": "https://localhost:8080/"
        },
        "id": "3PvVc60eWxiO",
        "outputId": "68944247-894c-4a57-9fa5-83bd90196b26"
      },
      "source": [
        "n = int(input())\n",
        "for i in range(1,10):\n",
        "    print(\"{} * {} = {}\".format(n, i,n*i))"
      ],
      "execution_count": null,
      "outputs": [
        {
          "output_type": "stream",
          "text": [
            "2\n",
            "2 * 1 = 2\n",
            "2 * 2 = 4\n",
            "2 * 3 = 6\n",
            "2 * 4 = 8\n",
            "2 * 5 = 10\n",
            "2 * 6 = 12\n",
            "2 * 7 = 14\n",
            "2 * 8 = 16\n",
            "2 * 9 = 18\n"
          ],
          "name": "stdout"
        }
      ]
    },
    {
      "cell_type": "code",
      "metadata": {
        "colab": {
          "base_uri": "https://localhost:8080/"
        },
        "id": "nKaZgn10Xgu_",
        "outputId": "7f902734-d7b3-4048-90cf-5266f043a555"
      },
      "source": [
        "T = int(input())\n",
        "plus = []\n",
        "for i in range(T):\n",
        "    a,b = input().split()\n",
        "    a = int(a)\n",
        "    b = int(b)\n",
        "    plus.append(a+b)\n",
        "print(plus)\n"
      ],
      "execution_count": null,
      "outputs": [
        {
          "output_type": "stream",
          "text": [
            "5\n",
            "1 1\n",
            "2 3\n",
            "3 4\n",
            "9 8\n",
            "5 2\n",
            "[2, 5, 7, 17, 7]\n"
          ],
          "name": "stdout"
        }
      ]
    },
    {
      "cell_type": "code",
      "metadata": {
        "colab": {
          "base_uri": "https://localhost:8080/"
        },
        "id": "ugQw-lY_Yp-G",
        "outputId": "04a030da-6730-4b14-ef2a-88fe81d60147"
      },
      "source": [
        "a = int(input())\n",
        "for i in range(1, a+1):\n",
        "    i += i\n",
        "print(i)"
      ],
      "execution_count": null,
      "outputs": [
        {
          "output_type": "stream",
          "text": [
            "3\n",
            "6\n"
          ],
          "name": "stdout"
        }
      ]
    },
    {
      "cell_type": "code",
      "metadata": {
        "colab": {
          "base_uri": "https://localhost:8080/"
        },
        "id": "UCMqlt8kahhG",
        "outputId": "ec1720fe-6040-4954-ed6f-d992c404493f"
      },
      "source": [
        "a = int(input())\n",
        "for i in range(a+1):\n",
        "    print(\"*\"*i)"
      ],
      "execution_count": null,
      "outputs": [
        {
          "output_type": "stream",
          "text": [
            "5\n",
            "\n",
            "*\n",
            "**\n",
            "***\n",
            "****\n",
            "*****\n"
          ],
          "name": "stdout"
        }
      ]
    },
    {
      "cell_type": "code",
      "metadata": {
        "colab": {
          "base_uri": "https://localhost:8080/"
        },
        "id": "wL-9fE0_il6U",
        "outputId": "abad395b-84d4-420d-9e8a-f74a19664f0a"
      },
      "source": [
        "a = int(input())\n",
        "for i in range(a+1):\n",
        "    print((\"*\"*i).rjust(a))"
      ],
      "execution_count": null,
      "outputs": [
        {
          "output_type": "stream",
          "text": [
            "5\n",
            "     \n",
            "    *\n",
            "   **\n",
            "  ***\n",
            " ****\n",
            "*****\n"
          ],
          "name": "stdout"
        }
      ]
    },
    {
      "cell_type": "code",
      "metadata": {
        "colab": {
          "base_uri": "https://localhost:8080/"
        },
        "id": "cTknkWvqjVAJ",
        "outputId": "02499daf-5f09-4e8e-b4fe-556aca3b5769"
      },
      "source": [
        "n, x = map(int,input().split())\n",
        "a = list(map(int,input().split()))\n",
        "print(type(a[1]))\n",
        "for i in range(n):\n",
        "    if a[i]< x:\n",
        "        print(a[i])"
      ],
      "execution_count": null,
      "outputs": [
        {
          "output_type": "stream",
          "text": [
            "10 5\n",
            "1 10 9 5 4 8 2 3 6 7\n",
            "<class 'int'>\n",
            "1\n",
            "4\n",
            "2\n",
            "3\n"
          ],
          "name": "stdout"
        }
      ]
    },
    {
      "cell_type": "code",
      "metadata": {
        "colab": {
          "base_uri": "https://localhost:8080/",
          "height": 556
        },
        "id": "D8tSnYVlmJ-q",
        "outputId": "06bdeb19-b0fa-42dd-dd66-adddb27528c0"
      },
      "source": [
        "while True:\n",
        "    a, b = map(int, input().split())\n",
        "    print(a+b)"
      ],
      "execution_count": null,
      "outputs": [
        {
          "output_type": "error",
          "ename": "KeyboardInterrupt",
          "evalue": "ignored",
          "traceback": [
            "\u001b[0;31m---------------------------------------------------------------------------\u001b[0m",
            "\u001b[0;31mKeyboardInterrupt\u001b[0m                         Traceback (most recent call last)",
            "\u001b[0;32m/usr/local/lib/python3.7/dist-packages/ipykernel/kernelbase.py\u001b[0m in \u001b[0;36m_input_request\u001b[0;34m(self, prompt, ident, parent, password)\u001b[0m\n\u001b[1;32m    728\u001b[0m             \u001b[0;32mtry\u001b[0m\u001b[0;34m:\u001b[0m\u001b[0;34m\u001b[0m\u001b[0;34m\u001b[0m\u001b[0m\n\u001b[0;32m--> 729\u001b[0;31m                 \u001b[0mident\u001b[0m\u001b[0;34m,\u001b[0m \u001b[0mreply\u001b[0m \u001b[0;34m=\u001b[0m \u001b[0mself\u001b[0m\u001b[0;34m.\u001b[0m\u001b[0msession\u001b[0m\u001b[0;34m.\u001b[0m\u001b[0mrecv\u001b[0m\u001b[0;34m(\u001b[0m\u001b[0mself\u001b[0m\u001b[0;34m.\u001b[0m\u001b[0mstdin_socket\u001b[0m\u001b[0;34m,\u001b[0m \u001b[0;36m0\u001b[0m\u001b[0;34m)\u001b[0m\u001b[0;34m\u001b[0m\u001b[0;34m\u001b[0m\u001b[0m\n\u001b[0m\u001b[1;32m    730\u001b[0m             \u001b[0;32mexcept\u001b[0m \u001b[0mException\u001b[0m\u001b[0;34m:\u001b[0m\u001b[0;34m\u001b[0m\u001b[0;34m\u001b[0m\u001b[0m\n",
            "\u001b[0;32m/usr/local/lib/python3.7/dist-packages/jupyter_client/session.py\u001b[0m in \u001b[0;36mrecv\u001b[0;34m(self, socket, mode, content, copy)\u001b[0m\n\u001b[1;32m    802\u001b[0m         \u001b[0;32mtry\u001b[0m\u001b[0;34m:\u001b[0m\u001b[0;34m\u001b[0m\u001b[0;34m\u001b[0m\u001b[0m\n\u001b[0;32m--> 803\u001b[0;31m             \u001b[0mmsg_list\u001b[0m \u001b[0;34m=\u001b[0m \u001b[0msocket\u001b[0m\u001b[0;34m.\u001b[0m\u001b[0mrecv_multipart\u001b[0m\u001b[0;34m(\u001b[0m\u001b[0mmode\u001b[0m\u001b[0;34m,\u001b[0m \u001b[0mcopy\u001b[0m\u001b[0;34m=\u001b[0m\u001b[0mcopy\u001b[0m\u001b[0;34m)\u001b[0m\u001b[0;34m\u001b[0m\u001b[0;34m\u001b[0m\u001b[0m\n\u001b[0m\u001b[1;32m    804\u001b[0m         \u001b[0;32mexcept\u001b[0m \u001b[0mzmq\u001b[0m\u001b[0;34m.\u001b[0m\u001b[0mZMQError\u001b[0m \u001b[0;32mas\u001b[0m \u001b[0me\u001b[0m\u001b[0;34m:\u001b[0m\u001b[0;34m\u001b[0m\u001b[0;34m\u001b[0m\u001b[0m\n",
            "\u001b[0;32m/usr/local/lib/python3.7/dist-packages/zmq/sugar/socket.py\u001b[0m in \u001b[0;36mrecv_multipart\u001b[0;34m(self, flags, copy, track)\u001b[0m\n\u001b[1;32m    582\u001b[0m         \"\"\"\n\u001b[0;32m--> 583\u001b[0;31m         \u001b[0mparts\u001b[0m \u001b[0;34m=\u001b[0m \u001b[0;34m[\u001b[0m\u001b[0mself\u001b[0m\u001b[0;34m.\u001b[0m\u001b[0mrecv\u001b[0m\u001b[0;34m(\u001b[0m\u001b[0mflags\u001b[0m\u001b[0;34m,\u001b[0m \u001b[0mcopy\u001b[0m\u001b[0;34m=\u001b[0m\u001b[0mcopy\u001b[0m\u001b[0;34m,\u001b[0m \u001b[0mtrack\u001b[0m\u001b[0;34m=\u001b[0m\u001b[0mtrack\u001b[0m\u001b[0;34m)\u001b[0m\u001b[0;34m]\u001b[0m\u001b[0;34m\u001b[0m\u001b[0;34m\u001b[0m\u001b[0m\n\u001b[0m\u001b[1;32m    584\u001b[0m         \u001b[0;31m# have first part already, only loop while more to receive\u001b[0m\u001b[0;34m\u001b[0m\u001b[0;34m\u001b[0m\u001b[0;34m\u001b[0m\u001b[0m\n",
            "\u001b[0;32mzmq/backend/cython/socket.pyx\u001b[0m in \u001b[0;36mzmq.backend.cython.socket.Socket.recv\u001b[0;34m()\u001b[0m\n",
            "\u001b[0;32mzmq/backend/cython/socket.pyx\u001b[0m in \u001b[0;36mzmq.backend.cython.socket.Socket.recv\u001b[0;34m()\u001b[0m\n",
            "\u001b[0;32mzmq/backend/cython/socket.pyx\u001b[0m in \u001b[0;36mzmq.backend.cython.socket._recv_copy\u001b[0;34m()\u001b[0m\n",
            "\u001b[0;32m/usr/local/lib/python3.7/dist-packages/zmq/backend/cython/checkrc.pxd\u001b[0m in \u001b[0;36mzmq.backend.cython.checkrc._check_rc\u001b[0;34m()\u001b[0m\n",
            "\u001b[0;31mKeyboardInterrupt\u001b[0m: ",
            "\nDuring handling of the above exception, another exception occurred:\n",
            "\u001b[0;31mKeyboardInterrupt\u001b[0m                         Traceback (most recent call last)",
            "\u001b[0;32m<ipython-input-124-ab5dc16245ad>\u001b[0m in \u001b[0;36m<module>\u001b[0;34m()\u001b[0m\n\u001b[1;32m      1\u001b[0m \u001b[0;32mwhile\u001b[0m \u001b[0;32mTrue\u001b[0m\u001b[0;34m:\u001b[0m\u001b[0;34m\u001b[0m\u001b[0;34m\u001b[0m\u001b[0m\n\u001b[0;32m----> 2\u001b[0;31m     \u001b[0ma\u001b[0m\u001b[0;34m,\u001b[0m \u001b[0mb\u001b[0m \u001b[0;34m=\u001b[0m \u001b[0mmap\u001b[0m\u001b[0;34m(\u001b[0m\u001b[0mint\u001b[0m\u001b[0;34m,\u001b[0m \u001b[0minput\u001b[0m\u001b[0;34m(\u001b[0m\u001b[0;34m)\u001b[0m\u001b[0;34m.\u001b[0m\u001b[0msplit\u001b[0m\u001b[0;34m(\u001b[0m\u001b[0;34m)\u001b[0m\u001b[0;34m)\u001b[0m\u001b[0;34m\u001b[0m\u001b[0;34m\u001b[0m\u001b[0m\n\u001b[0m\u001b[1;32m      3\u001b[0m     \u001b[0mprint\u001b[0m\u001b[0;34m(\u001b[0m\u001b[0ma\u001b[0m\u001b[0;34m+\u001b[0m\u001b[0mb\u001b[0m\u001b[0;34m)\u001b[0m\u001b[0;34m\u001b[0m\u001b[0;34m\u001b[0m\u001b[0m\n",
            "\u001b[0;32m/usr/local/lib/python3.7/dist-packages/ipykernel/kernelbase.py\u001b[0m in \u001b[0;36mraw_input\u001b[0;34m(self, prompt)\u001b[0m\n\u001b[1;32m    702\u001b[0m             \u001b[0mself\u001b[0m\u001b[0;34m.\u001b[0m\u001b[0m_parent_ident\u001b[0m\u001b[0;34m,\u001b[0m\u001b[0;34m\u001b[0m\u001b[0;34m\u001b[0m\u001b[0m\n\u001b[1;32m    703\u001b[0m             \u001b[0mself\u001b[0m\u001b[0;34m.\u001b[0m\u001b[0m_parent_header\u001b[0m\u001b[0;34m,\u001b[0m\u001b[0;34m\u001b[0m\u001b[0;34m\u001b[0m\u001b[0m\n\u001b[0;32m--> 704\u001b[0;31m             \u001b[0mpassword\u001b[0m\u001b[0;34m=\u001b[0m\u001b[0;32mFalse\u001b[0m\u001b[0;34m,\u001b[0m\u001b[0;34m\u001b[0m\u001b[0;34m\u001b[0m\u001b[0m\n\u001b[0m\u001b[1;32m    705\u001b[0m         )\n\u001b[1;32m    706\u001b[0m \u001b[0;34m\u001b[0m\u001b[0m\n",
            "\u001b[0;32m/usr/local/lib/python3.7/dist-packages/ipykernel/kernelbase.py\u001b[0m in \u001b[0;36m_input_request\u001b[0;34m(self, prompt, ident, parent, password)\u001b[0m\n\u001b[1;32m    732\u001b[0m             \u001b[0;32mexcept\u001b[0m \u001b[0mKeyboardInterrupt\u001b[0m\u001b[0;34m:\u001b[0m\u001b[0;34m\u001b[0m\u001b[0;34m\u001b[0m\u001b[0m\n\u001b[1;32m    733\u001b[0m                 \u001b[0;31m# re-raise KeyboardInterrupt, to truncate traceback\u001b[0m\u001b[0;34m\u001b[0m\u001b[0;34m\u001b[0m\u001b[0;34m\u001b[0m\u001b[0m\n\u001b[0;32m--> 734\u001b[0;31m                 \u001b[0;32mraise\u001b[0m \u001b[0mKeyboardInterrupt\u001b[0m\u001b[0;34m\u001b[0m\u001b[0;34m\u001b[0m\u001b[0m\n\u001b[0m\u001b[1;32m    735\u001b[0m             \u001b[0;32melse\u001b[0m\u001b[0;34m:\u001b[0m\u001b[0;34m\u001b[0m\u001b[0;34m\u001b[0m\u001b[0m\n\u001b[1;32m    736\u001b[0m                 \u001b[0;32mbreak\u001b[0m\u001b[0;34m\u001b[0m\u001b[0;34m\u001b[0m\u001b[0m\n",
            "\u001b[0;31mKeyboardInterrupt\u001b[0m: "
          ]
        }
      ]
    },
    {
      "cell_type": "code",
      "metadata": {
        "colab": {
          "base_uri": "https://localhost:8080/"
        },
        "id": "qecQS6UBDoZx",
        "outputId": "521bdf72-df2b-4cd3-c4a7-fb1ae766f8a1"
      },
      "source": [
        "index = 0\n",
        "num_1 = input()\n",
        "num_2 = num_1\n",
        "\n",
        "if int(num_1) < 10:\n",
        "    num_2 = '0' + num_2\n",
        "\n",
        "while True:\n",
        "\n",
        "    index += 1\n",
        "    a = int(num_2[0]) + int(num_2[1])\n",
        "    \n",
        "    if a < 10:\n",
        "        a = '0' + str(a)\n",
        "    else: \n",
        "        a = str(a)\n",
        "    \n",
        "    num_2 = num_2[1] + a[1]\n",
        "\n",
        "    if num_1 == num_2:\n",
        "        break\n",
        "\n",
        "print(index)"
      ],
      "execution_count": null,
      "outputs": [
        {
          "output_type": "stream",
          "text": [
            "26\n",
            "4\n"
          ],
          "name": "stdout"
        }
      ]
    },
    {
      "cell_type": "code",
      "metadata": {
        "colab": {
          "base_uri": "https://localhost:8080/"
        },
        "id": "9WZevftDSKqN",
        "outputId": "b8f6b798-682a-4f5c-db7f-374be8f0d147"
      },
      "source": [
        "n = int(input())\n",
        "a = list(map(int, input().split()))\n",
        "print(min(a), max(a))"
      ],
      "execution_count": null,
      "outputs": [
        {
          "output_type": "stream",
          "text": [
            "5\n",
            "20 10 35 30 7\n",
            "7 35\n"
          ],
          "name": "stdout"
        }
      ]
    },
    {
      "cell_type": "code",
      "metadata": {
        "colab": {
          "base_uri": "https://localhost:8080/"
        },
        "id": "iHK4yoI4UufA",
        "outputId": "f69d2fdc-7de8-4af3-f45a-338a80991d27"
      },
      "source": [
        "a = list(map(int, input().split()))\n",
        "print(max(a), a.index(max(a)) + 1)"
      ],
      "execution_count": null,
      "outputs": [
        {
          "output_type": "stream",
          "text": [
            "3 29 38 12 57 74 40 85 61\n",
            "85 8\n"
          ],
          "name": "stdout"
        }
      ]
    },
    {
      "cell_type": "code",
      "metadata": {
        "colab": {
          "base_uri": "https://localhost:8080/"
        },
        "id": "dJlrVd1gVeMD",
        "outputId": "38b02591-7e81-4c01-8203-924ffa9f5b7c"
      },
      "source": [
        "a, b, c = map(int, input().split())\n",
        "x = a * b * c\n",
        "x = list(str(x))\n",
        "\n",
        "for i in range(10):\n",
        "    z = 0\n",
        "    for j in x:\n",
        "        if int(j) == i:\n",
        "            z += 1\n",
        "    print(z)"
      ],
      "execution_count": null,
      "outputs": [
        {
          "output_type": "stream",
          "text": [
            "150 266 427\n",
            "3\n",
            "1\n",
            "0\n",
            "2\n",
            "0\n",
            "0\n",
            "0\n",
            "2\n",
            "0\n",
            "0\n"
          ],
          "name": "stdout"
        }
      ]
    },
    {
      "cell_type": "code",
      "metadata": {
        "colab": {
          "base_uri": "https://localhost:8080/"
        },
        "id": "Zl3N3Kosdu_p",
        "outputId": "972b75b5-6f0c-455a-99a2-bedc8c1f3890"
      },
      "source": [
        "x=[]\n",
        "z = 0\n",
        "for i in range(10):\n",
        "    a = int(input())%42\n",
        "    x.append(a)\n",
        "for i in x:\n",
        "    for j in x:\n",
        "        if i != j:\n",
        "            z += 1\n",
        "print(z)"
      ],
      "execution_count": null,
      "outputs": [
        {
          "output_type": "stream",
          "text": [
            "1\n",
            "2\n",
            "3\n",
            "4\n",
            "5\n",
            "6\n",
            "7\n",
            "8\n",
            "9\n",
            "10\n",
            "90\n"
          ],
          "name": "stdout"
        }
      ]
    },
    {
      "cell_type": "code",
      "metadata": {
        "colab": {
          "base_uri": "https://localhost:8080/"
        },
        "id": "CnLWlj17eveq",
        "outputId": "906cd003-3844-40c0-8bdb-d03155f590e2"
      },
      "source": [
        "n = int(input())\n",
        "x = []\n",
        "for i in range(n):\n",
        "    a = int(input())\n",
        "    x.append(a)\n",
        "m = sum(x)/max(x)/n*100\n",
        "print(m)"
      ],
      "execution_count": null,
      "outputs": [
        {
          "output_type": "stream",
          "text": [
            "3\n",
            "40\n",
            "80\n",
            "60\n",
            "75.0\n"
          ],
          "name": "stdout"
        }
      ]
    },
    {
      "cell_type": "code",
      "metadata": {
        "id": "e4bq8COoqXeP",
        "colab": {
          "base_uri": "https://localhost:8080/"
        },
        "outputId": "d595be88-8611-458b-d703-722bb20bf1a3"
      },
      "source": [
        "a ={'국어':80,'영어':75,'수학':55}\n",
        "sum(a.values())/len(a)"
      ],
      "execution_count": null,
      "outputs": [
        {
          "output_type": "execute_result",
          "data": {
            "text/plain": [
              "70.0"
            ]
          },
          "metadata": {
            "tags": []
          },
          "execution_count": 7
        }
      ]
    },
    {
      "cell_type": "code",
      "metadata": {
        "colab": {
          "base_uri": "https://localhost:8080/"
        },
        "id": "E30U7gCOhlQ8",
        "outputId": "2ccfaa39-e9df-40c9-ee56-441408b7c8b5"
      },
      "source": [
        "a = 13\n",
        "if a%2 == 0:\n",
        "    print(\"짝수\")\n",
        "else: print(\"홀수\")"
      ],
      "execution_count": null,
      "outputs": [
        {
          "output_type": "stream",
          "text": [
            "홀수\n"
          ],
          "name": "stdout"
        }
      ]
    },
    {
      "cell_type": "code",
      "metadata": {
        "colab": {
          "base_uri": "https://localhost:8080/",
          "height": 35
        },
        "id": "ZTZf9tmYiBKw",
        "outputId": "9200fd07-1cf0-436d-bd21-a18852cf6b44"
      },
      "source": [
        "a = \"881120-1068234\"\n",
        "a[:a.index(\"-\")]\n",
        "a[a.index(\"-\")+1 :]\n",
        "\n",
        "yyyymmdd = a[:6]\n",
        "num = a[7:]\n",
        "print(yyyymmdd)\n",
        "print(num)"
      ],
      "execution_count": null,
      "outputs": [
        {
          "output_type": "execute_result",
          "data": {
            "application/vnd.google.colaboratory.intrinsic+json": {
              "type": "string"
            },
            "text/plain": [
              "'1068234'"
            ]
          },
          "metadata": {
            "tags": []
          },
          "execution_count": 28
        }
      ]
    },
    {
      "cell_type": "code",
      "metadata": {
        "colab": {
          "base_uri": "https://localhost:8080/",
          "height": 35
        },
        "id": "hOFpsmGuiJeh",
        "outputId": "6d7ef0e3-9489-4a54-a6b5-e152641b3ef0"
      },
      "source": [
        "a = \"a:b:c:d\"\n",
        "a.replace(\":\",\"#\")"
      ],
      "execution_count": null,
      "outputs": [
        {
          "output_type": "execute_result",
          "data": {
            "application/vnd.google.colaboratory.intrinsic+json": {
              "type": "string"
            },
            "text/plain": [
              "'a#b#c#d'"
            ]
          },
          "metadata": {
            "tags": []
          },
          "execution_count": 29
        }
      ]
    },
    {
      "cell_type": "code",
      "metadata": {
        "colab": {
          "base_uri": "https://localhost:8080/"
        },
        "id": "ALw-D6ySjc_f",
        "outputId": "feb87675-4c03-41e4-d0d9-9175330cb63d"
      },
      "source": [
        "a = [1,3,5,4,2]\n",
        "a.sort(reverse=True)\n",
        "a"
      ],
      "execution_count": null,
      "outputs": [
        {
          "output_type": "execute_result",
          "data": {
            "text/plain": [
              "[5, 4, 3, 2, 1]"
            ]
          },
          "metadata": {
            "tags": []
          },
          "execution_count": 43
        }
      ]
    },
    {
      "cell_type": "code",
      "metadata": {
        "colab": {
          "base_uri": "https://localhost:8080/",
          "height": 35
        },
        "id": "0VDNbGB2jgmo",
        "outputId": "2769a001-dd34-435a-f972-358264517da6"
      },
      "source": [
        "a = ['Life', 'is', 'too', 'short']\n",
        "result = \" \".join(a)\n",
        "result"
      ],
      "execution_count": null,
      "outputs": [
        {
          "output_type": "execute_result",
          "data": {
            "application/vnd.google.colaboratory.intrinsic+json": {
              "type": "string"
            },
            "text/plain": [
              "'Life is too short'"
            ]
          },
          "metadata": {
            "tags": []
          },
          "execution_count": 58
        }
      ]
    },
    {
      "cell_type": "code",
      "metadata": {
        "colab": {
          "base_uri": "https://localhost:8080/"
        },
        "id": "rp2TofwFkUUr",
        "outputId": "43b50693-456a-4ce2-8f6c-936dee26a911"
      },
      "source": [
        "a = 1,2,3\n",
        "a = a + (4,)\n",
        "a"
      ],
      "execution_count": null,
      "outputs": [
        {
          "output_type": "execute_result",
          "data": {
            "text/plain": [
              "(1, 2, 3, 4)"
            ]
          },
          "metadata": {
            "tags": []
          },
          "execution_count": 59
        }
      ]
    },
    {
      "cell_type": "code",
      "metadata": {
        "colab": {
          "base_uri": "https://localhost:8080/"
        },
        "id": "K-fDzLfnk8WB",
        "outputId": "385eed89-c68a-43dd-eec4-65e2defcba2f"
      },
      "source": [
        "a = {'A':90, 'B':80, 'C':70}\n",
        "a.pop('B')"
      ],
      "execution_count": null,
      "outputs": [
        {
          "output_type": "execute_result",
          "data": {
            "text/plain": [
              "80"
            ]
          },
          "metadata": {
            "tags": []
          },
          "execution_count": 61
        }
      ]
    },
    {
      "cell_type": "code",
      "metadata": {
        "colab": {
          "base_uri": "https://localhost:8080/"
        },
        "id": "P6RWuSV9mQbH",
        "outputId": "b8cfb290-364a-4aac-cfd0-453fedf5eecf"
      },
      "source": [
        "a = [1,1,1,2,2,3,3,3,4,4,5]\n",
        "a = set(a)\n",
        "a"
      ],
      "execution_count": null,
      "outputs": [
        {
          "output_type": "execute_result",
          "data": {
            "text/plain": [
              "{1, 2, 3, 4, 5}"
            ]
          },
          "metadata": {
            "tags": []
          },
          "execution_count": 64
        }
      ]
    },
    {
      "cell_type": "code",
      "metadata": {
        "colab": {
          "base_uri": "https://localhost:8080/"
        },
        "id": "qOAJiaDFoRHi",
        "outputId": "cf8bb73a-df46-453e-c65f-0d0b1661b47e"
      },
      "source": [
        "sum = 0\n",
        "while i <= 1000:\n",
        "    if i % 3 == 0:\n",
        "        sum += i\n",
        "    i += 1\n",
        "print(sum)"
      ],
      "execution_count": null,
      "outputs": [
        {
          "output_type": "stream",
          "text": [
            "165150\n"
          ],
          "name": "stdout"
        }
      ]
    },
    {
      "cell_type": "code",
      "metadata": {
        "colab": {
          "base_uri": "https://localhost:8080/"
        },
        "id": "W5FoJlsduy5s",
        "outputId": "d152e2da-153b-4290-aabd-8e5d08f1e1bd"
      },
      "source": [
        "for i in range(101):\n",
        "    print(i)"
      ],
      "execution_count": null,
      "outputs": [
        {
          "output_type": "stream",
          "text": [
            "0\n",
            "1\n",
            "2\n",
            "3\n",
            "4\n",
            "5\n",
            "6\n",
            "7\n",
            "8\n",
            "9\n",
            "10\n",
            "11\n",
            "12\n",
            "13\n",
            "14\n",
            "15\n",
            "16\n",
            "17\n",
            "18\n",
            "19\n",
            "20\n",
            "21\n",
            "22\n",
            "23\n",
            "24\n",
            "25\n",
            "26\n",
            "27\n",
            "28\n",
            "29\n",
            "30\n",
            "31\n",
            "32\n",
            "33\n",
            "34\n",
            "35\n",
            "36\n",
            "37\n",
            "38\n",
            "39\n",
            "40\n",
            "41\n",
            "42\n",
            "43\n",
            "44\n",
            "45\n",
            "46\n",
            "47\n",
            "48\n",
            "49\n",
            "50\n",
            "51\n",
            "52\n",
            "53\n",
            "54\n",
            "55\n",
            "56\n",
            "57\n",
            "58\n",
            "59\n",
            "60\n",
            "61\n",
            "62\n",
            "63\n",
            "64\n",
            "65\n",
            "66\n",
            "67\n",
            "68\n",
            "69\n",
            "70\n",
            "71\n",
            "72\n",
            "73\n",
            "74\n",
            "75\n",
            "76\n",
            "77\n",
            "78\n",
            "79\n",
            "80\n",
            "81\n",
            "82\n",
            "83\n",
            "84\n",
            "85\n",
            "86\n",
            "87\n",
            "88\n",
            "89\n",
            "90\n",
            "91\n",
            "92\n",
            "93\n",
            "94\n",
            "95\n",
            "96\n",
            "97\n",
            "98\n",
            "99\n",
            "100\n"
          ],
          "name": "stdout"
        }
      ]
    },
    {
      "cell_type": "code",
      "metadata": {
        "colab": {
          "base_uri": "https://localhost:8080/"
        },
        "id": "pDxhV3gCvVOJ",
        "outputId": "ee02e881-0033-42c1-cf76-c10352c5d9f3"
      },
      "source": [
        "a = [70,60,55,75,95,90,80,80,85,100]\n",
        "sum = 0\n",
        "for i in a:\n",
        "    sum += i\n",
        "avg = sum/len(a)\n",
        "avg"
      ],
      "execution_count": null,
      "outputs": [
        {
          "output_type": "execute_result",
          "data": {
            "text/plain": [
              "79.0"
            ]
          },
          "metadata": {
            "tags": []
          },
          "execution_count": 71
        }
      ]
    },
    {
      "cell_type": "code",
      "metadata": {
        "colab": {
          "base_uri": "https://localhost:8080/"
        },
        "id": "RApcizwDvsQE",
        "outputId": "510b78e3-8b14-4e52-8434-9d24b95ab1f4"
      },
      "source": [
        "numbers = [1,2,3,4,5]\n",
        "result = [n*2 for n in numbers if n%2==1]\n",
        "result"
      ],
      "execution_count": null,
      "outputs": [
        {
          "output_type": "execute_result",
          "data": {
            "text/plain": [
              "[2, 6, 10]"
            ]
          },
          "metadata": {
            "tags": []
          },
          "execution_count": 92
        }
      ]
    },
    {
      "cell_type": "code",
      "metadata": {
        "colab": {
          "base_uri": "https://localhost:8080/"
        },
        "id": "_qAk__s0DHVh",
        "outputId": "32564771-e014-404b-875f-07c05a65e282"
      },
      "source": [
        "def is_odd(a):\n",
        "    if a %2 ==0:\n",
        "        print(\"짝수\")\n",
        "    else: \n",
        "        print(\"홀수\")\n",
        "is_odd(3)"
      ],
      "execution_count": null,
      "outputs": [
        {
          "output_type": "stream",
          "text": [
            "홀수\n"
          ],
          "name": "stdout"
        }
      ]
    },
    {
      "cell_type": "code",
      "metadata": {
        "colab": {
          "base_uri": "https://localhost:8080/"
        },
        "id": "iPWUOD9KZwKJ",
        "outputId": "f5434296-96ab-4a75-88bb-465c4c5bc9b8"
      },
      "source": [
        "def avg(*a):\n",
        "    result = 0\n",
        "    for i in a:\n",
        "        result += i\n",
        "    return result/len(a)\n",
        "\n",
        "avg(1,2,3,4,5)"
      ],
      "execution_count": null,
      "outputs": [
        {
          "output_type": "execute_result",
          "data": {
            "text/plain": [
              "3.0"
            ]
          },
          "metadata": {
            "tags": []
          },
          "execution_count": 96
        }
      ]
    },
    {
      "cell_type": "code",
      "metadata": {
        "colab": {
          "base_uri": "https://localhost:8080/"
        },
        "id": "FuYP49f3aca5",
        "outputId": "fd857da9-346f-479b-8b0a-5f9a722b95ed"
      },
      "source": [
        "input1 = input(\"첫번째 숫자를 입력하세요:\")\n",
        "input2 = input(\"두번째 숫자를 입력하세요:\")\n",
        "\n",
        "total = int(input1) + int(input2)\n",
        "print(\"두 수의 합은 %s 입니다\"% total)"
      ],
      "execution_count": null,
      "outputs": [
        {
          "output_type": "stream",
          "text": [
            "첫번째 숫자를 입력하세요:3\n",
            "두번째 숫자를 입력하세요:6\n",
            "두 수의 합은 9 입니다\n"
          ],
          "name": "stdout"
        }
      ]
    },
    {
      "cell_type": "code",
      "metadata": {
        "colab": {
          "base_uri": "https://localhost:8080/"
        },
        "id": "gZZcdggObs-w",
        "outputId": "1beca5f4-81c6-41e2-9ec2-9598390cb1fb"
      },
      "source": [
        "a = int(input())\n",
        "for i in range(a):\n",
        "    x = input()\n",
        "    count = 0\n",
        "    sum = 0\n",
        "    for j in range(len(x)):\n",
        "        if x[j] == \"O\":\n",
        "            count += 1\n",
        "            sum += count\n",
        "        else:\n",
        "            count = 0\n",
        "    print(sum)"
      ],
      "execution_count": null,
      "outputs": [
        {
          "output_type": "stream",
          "text": [
            "5\n",
            "OOXXOXXOOO\n",
            "10\n",
            "OOXXOOXXOO\n",
            "9\n",
            "OXOXOXOXOXOXOX\n",
            "7\n",
            "OOOOOOOOOO\n",
            "55\n",
            "OOOOXOOOOXOOOOX\n",
            "30\n"
          ],
          "name": "stdout"
        }
      ]
    },
    {
      "cell_type": "code",
      "metadata": {
        "colab": {
          "base_uri": "https://localhost:8080/"
        },
        "id": "bzbGdc9dlLsl",
        "outputId": "1cb8b524-23eb-4a57-b20f-534eb831e59b"
      },
      "source": [
        "a = int(input())\n",
        "for i in range(a):\n",
        "    b = 0\n",
        "    sum = 0\n",
        "    count = 0\n",
        "\n",
        "    b = int(input())\n",
        "    c = list(map(int,input().split()))\n",
        "\n",
        "    for k in c:\n",
        "        sum += k\n",
        "    avg = sum/b\n",
        "    \n",
        "    for k in c:\n",
        "        if k > avg:\n",
        "            count += 1\n",
        "\n",
        "    print(f'{count/b*100:0.3f}'\"%\")\n"
      ],
      "execution_count": null,
      "outputs": [
        {
          "output_type": "stream",
          "text": [
            "5\n",
            "5\n",
            "50 50 70 80 100\n",
            "40.000%\n",
            "7\n",
            "100 95 90 80 70 60 50\n",
            "57.143%\n",
            "3\n",
            "70 90 80\n",
            "33.333%\n",
            "3\n",
            "70 90 81\n",
            "66.667%\n",
            "9\n",
            "100 99 98 97 96 95 94 93 91\n",
            "55.556%\n"
          ],
          "name": "stdout"
        }
      ]
    },
    {
      "cell_type": "code",
      "metadata": {
        "id": "G8ziewkA0_p6"
      },
      "source": [
        ""
      ],
      "execution_count": null,
      "outputs": []
    }
  ]
}