{
  "nbformat": 4,
  "nbformat_minor": 0,
  "metadata": {
    "colab": {
      "name": "백준 연습.ipynb",
      "provenance": [],
      "collapsed_sections": [],
      "authorship_tag": "ABX9TyMsmAb+KgvPYtZ4SJ+cf4nN",
      "include_colab_link": true
    },
    "kernelspec": {
      "display_name": "Python 3",
      "name": "python3"
    },
    "language_info": {
      "name": "python"
    }
  },
  "cells": [
    {
      "cell_type": "markdown",
      "metadata": {
        "id": "view-in-github",
        "colab_type": "text"
      },
      "source": [
        "<a href=\"https://colab.research.google.com/github/leejukyu/nado/blob/main/%EB%B0%B1%EC%A4%80_%EC%97%B0%EC%8A%B5.ipynb\" target=\"_parent\"><img src=\"https://colab.research.google.com/assets/colab-badge.svg\" alt=\"Open In Colab\"/></a>"
      ]
    },
    {
      "cell_type": "code",
      "metadata": {
        "colab": {
          "base_uri": "https://localhost:8080/"
        },
        "id": "qfwhd4eQLmbx",
        "outputId": "24367f14-280f-4170-b453-d11d1d2f4afb"
      },
      "source": [
        "a, b = input().split()\n",
        "x = int(a) * int(b[2])\n",
        "y = int(a) * int(b[1])\n",
        "z = int(a) * int(b[0])\n",
        "print(x)\n",
        "print(y)\n",
        "print(z)\n",
        "print(x + y*10 + z*100)"
      ],
      "execution_count": null,
      "outputs": [
        {
          "output_type": "stream",
          "text": [
            "123 111\n",
            "123\n",
            "123\n",
            "123\n",
            "13653\n"
          ],
          "name": "stdout"
        }
      ]
    },
    {
      "cell_type": "code",
      "metadata": {
        "colab": {
          "base_uri": "https://localhost:8080/"
        },
        "id": "-z0_SuApO5qx",
        "outputId": "ad08c9a9-316e-4b17-a766-aec3c55ee484"
      },
      "source": [
        "A, B = input().split()\n",
        "if A > B:\n",
        "    print(\">\")\n",
        "elif A < B :\n",
        "    print(\"<\")\n",
        "else:\n",
        "    print(\"==\")"
      ],
      "execution_count": null,
      "outputs": [
        {
          "output_type": "stream",
          "text": [
            "5 4\n",
            ">\n"
          ],
          "name": "stdout"
        }
      ]
    },
    {
      "cell_type": "code",
      "metadata": {
        "colab": {
          "base_uri": "https://localhost:8080/"
        },
        "id": "1L8Jt8omRLGH",
        "outputId": "ec9204cf-f5ce-446e-b2ea-ed38bb45960b"
      },
      "source": [
        "a = int(input())\n",
        "if a>= 90:\n",
        "    print(\"A\")\n",
        "elif 80 <= a < 90:\n",
        "    print(\"B\")\n",
        "elif 70 <= a < 80:\n",
        "    print(\"C\")\n",
        "elif 60 <= a < 70:\n",
        "    print(\"D\")\n",
        "else:\n",
        "    print(\"F\")"
      ],
      "execution_count": null,
      "outputs": [
        {
          "output_type": "stream",
          "text": [
            "89\n",
            "B\n"
          ],
          "name": "stdout"
        }
      ]
    },
    {
      "cell_type": "code",
      "metadata": {
        "colab": {
          "base_uri": "https://localhost:8080/"
        },
        "id": "BG-9m9Z7TqZN",
        "outputId": "60851fa1-a0e2-4851-c0b7-5854e032391a"
      },
      "source": [
        "a = int(input())\n",
        "if (a%4 == 0) & ((a%100 != 0) + (a%400 == 0)):\n",
        "    print(\"1\")\n",
        "else:\n",
        "    print(\"0\")"
      ],
      "execution_count": null,
      "outputs": [
        {
          "output_type": "stream",
          "text": [
            "5\n",
            "0\n"
          ],
          "name": "stdout"
        }
      ]
    },
    {
      "cell_type": "code",
      "metadata": {
        "colab": {
          "base_uri": "https://localhost:8080/"
        },
        "id": "L4q6dv2NUp3-",
        "outputId": "7854305a-42ec-4125-ce71-81435057aeff"
      },
      "source": [
        "x = int(input())\n",
        "y = int(input())\n",
        "if x>0 and y>0:\n",
        "    print(\"1\")\n",
        "elif x<0 and y>0:\n",
        "    print(\"2\")\n",
        "elif x<0 and y<0:\n",
        "    print(\"3\")\n",
        "else: print(\"4\")"
      ],
      "execution_count": null,
      "outputs": [
        {
          "output_type": "stream",
          "text": [
            "-5\n",
            "-8\n",
            "3\n"
          ],
          "name": "stdout"
        }
      ]
    },
    {
      "cell_type": "code",
      "metadata": {
        "colab": {
          "base_uri": "https://localhost:8080/"
        },
        "id": "AXdaZXKCVOgO",
        "outputId": "13ba612b-ae54-4e52-d881-656eab4015d9"
      },
      "source": [
        "h, m = input().split()\n",
        "h = int(h)\n",
        "m = int(m)\n",
        "if (m-45) < 0:\n",
        "    if h-1 < 0:\n",
        "        h = 24 -1\n",
        "    else: h = h-1\n",
        "    m = 60-(45-m)\n",
        "else: m = m-45 \n",
        "print(h,m)"
      ],
      "execution_count": null,
      "outputs": [
        {
          "output_type": "stream",
          "text": [
            "23 40\n",
            "22 55\n"
          ],
          "name": "stdout"
        }
      ]
    },
    {
      "cell_type": "code",
      "metadata": {
        "colab": {
          "base_uri": "https://localhost:8080/"
        },
        "id": "3PvVc60eWxiO",
        "outputId": "68944247-894c-4a57-9fa5-83bd90196b26"
      },
      "source": [
        "n = int(input())\n",
        "for i in range(1,10):\n",
        "    print(\"{} * {} = {}\".format(n, i,n*i))"
      ],
      "execution_count": null,
      "outputs": [
        {
          "output_type": "stream",
          "text": [
            "2\n",
            "2 * 1 = 2\n",
            "2 * 2 = 4\n",
            "2 * 3 = 6\n",
            "2 * 4 = 8\n",
            "2 * 5 = 10\n",
            "2 * 6 = 12\n",
            "2 * 7 = 14\n",
            "2 * 8 = 16\n",
            "2 * 9 = 18\n"
          ],
          "name": "stdout"
        }
      ]
    },
    {
      "cell_type": "code",
      "metadata": {
        "colab": {
          "base_uri": "https://localhost:8080/"
        },
        "id": "nKaZgn10Xgu_",
        "outputId": "7f902734-d7b3-4048-90cf-5266f043a555"
      },
      "source": [
        "T = int(input())\n",
        "plus = []\n",
        "for i in range(T):\n",
        "    a,b = input().split()\n",
        "    a = int(a)\n",
        "    b = int(b)\n",
        "    plus.append(a+b)\n",
        "print(plus)\n"
      ],
      "execution_count": null,
      "outputs": [
        {
          "output_type": "stream",
          "text": [
            "5\n",
            "1 1\n",
            "2 3\n",
            "3 4\n",
            "9 8\n",
            "5 2\n",
            "[2, 5, 7, 17, 7]\n"
          ],
          "name": "stdout"
        }
      ]
    },
    {
      "cell_type": "code",
      "metadata": {
        "colab": {
          "base_uri": "https://localhost:8080/"
        },
        "id": "ugQw-lY_Yp-G",
        "outputId": "04a030da-6730-4b14-ef2a-88fe81d60147"
      },
      "source": [
        "a = int(input())\n",
        "for i in range(1, a+1):\n",
        "    i += i\n",
        "print(i)"
      ],
      "execution_count": null,
      "outputs": [
        {
          "output_type": "stream",
          "text": [
            "3\n",
            "6\n"
          ],
          "name": "stdout"
        }
      ]
    },
    {
      "cell_type": "code",
      "metadata": {
        "colab": {
          "base_uri": "https://localhost:8080/"
        },
        "id": "UCMqlt8kahhG",
        "outputId": "ec1720fe-6040-4954-ed6f-d992c404493f"
      },
      "source": [
        "a = int(input())\n",
        "for i in range(a+1):\n",
        "    print(\"*\"*i)"
      ],
      "execution_count": null,
      "outputs": [
        {
          "output_type": "stream",
          "text": [
            "5\n",
            "\n",
            "*\n",
            "**\n",
            "***\n",
            "****\n",
            "*****\n"
          ],
          "name": "stdout"
        }
      ]
    },
    {
      "cell_type": "code",
      "metadata": {
        "colab": {
          "base_uri": "https://localhost:8080/"
        },
        "id": "wL-9fE0_il6U",
        "outputId": "abad395b-84d4-420d-9e8a-f74a19664f0a"
      },
      "source": [
        "a = int(input())\n",
        "for i in range(a+1):\n",
        "    print((\"*\"*i).rjust(a))"
      ],
      "execution_count": null,
      "outputs": [
        {
          "output_type": "stream",
          "text": [
            "5\n",
            "     \n",
            "    *\n",
            "   **\n",
            "  ***\n",
            " ****\n",
            "*****\n"
          ],
          "name": "stdout"
        }
      ]
    },
    {
      "cell_type": "code",
      "metadata": {
        "colab": {
          "base_uri": "https://localhost:8080/"
        },
        "id": "cTknkWvqjVAJ",
        "outputId": "02499daf-5f09-4e8e-b4fe-556aca3b5769"
      },
      "source": [
        "n, x = map(int,input().split())\n",
        "a = list(map(int,input().split()))\n",
        "print(type(a[1]))\n",
        "for i in range(n):\n",
        "    if a[i]< x:\n",
        "        print(a[i])"
      ],
      "execution_count": null,
      "outputs": [
        {
          "output_type": "stream",
          "text": [
            "10 5\n",
            "1 10 9 5 4 8 2 3 6 7\n",
            "<class 'int'>\n",
            "1\n",
            "4\n",
            "2\n",
            "3\n"
          ],
          "name": "stdout"
        }
      ]
    },
    {
      "cell_type": "code",
      "metadata": {
        "colab": {
          "base_uri": "https://localhost:8080/",
          "height": 556
        },
        "id": "D8tSnYVlmJ-q",
        "outputId": "06bdeb19-b0fa-42dd-dd66-adddb27528c0"
      },
      "source": [
        "while True:\n",
        "    a, b = map(int, input().split())\n",
        "    print(a+b)"
      ],
      "execution_count": null,
      "outputs": [
        {
          "output_type": "error",
          "ename": "KeyboardInterrupt",
          "evalue": "ignored",
          "traceback": [
            "\u001b[0;31m---------------------------------------------------------------------------\u001b[0m",
            "\u001b[0;31mKeyboardInterrupt\u001b[0m                         Traceback (most recent call last)",
            "\u001b[0;32m/usr/local/lib/python3.7/dist-packages/ipykernel/kernelbase.py\u001b[0m in \u001b[0;36m_input_request\u001b[0;34m(self, prompt, ident, parent, password)\u001b[0m\n\u001b[1;32m    728\u001b[0m             \u001b[0;32mtry\u001b[0m\u001b[0;34m:\u001b[0m\u001b[0;34m\u001b[0m\u001b[0;34m\u001b[0m\u001b[0m\n\u001b[0;32m--> 729\u001b[0;31m                 \u001b[0mident\u001b[0m\u001b[0;34m,\u001b[0m \u001b[0mreply\u001b[0m \u001b[0;34m=\u001b[0m \u001b[0mself\u001b[0m\u001b[0;34m.\u001b[0m\u001b[0msession\u001b[0m\u001b[0;34m.\u001b[0m\u001b[0mrecv\u001b[0m\u001b[0;34m(\u001b[0m\u001b[0mself\u001b[0m\u001b[0;34m.\u001b[0m\u001b[0mstdin_socket\u001b[0m\u001b[0;34m,\u001b[0m \u001b[0;36m0\u001b[0m\u001b[0;34m)\u001b[0m\u001b[0;34m\u001b[0m\u001b[0;34m\u001b[0m\u001b[0m\n\u001b[0m\u001b[1;32m    730\u001b[0m             \u001b[0;32mexcept\u001b[0m \u001b[0mException\u001b[0m\u001b[0;34m:\u001b[0m\u001b[0;34m\u001b[0m\u001b[0;34m\u001b[0m\u001b[0m\n",
            "\u001b[0;32m/usr/local/lib/python3.7/dist-packages/jupyter_client/session.py\u001b[0m in \u001b[0;36mrecv\u001b[0;34m(self, socket, mode, content, copy)\u001b[0m\n\u001b[1;32m    802\u001b[0m         \u001b[0;32mtry\u001b[0m\u001b[0;34m:\u001b[0m\u001b[0;34m\u001b[0m\u001b[0;34m\u001b[0m\u001b[0m\n\u001b[0;32m--> 803\u001b[0;31m             \u001b[0mmsg_list\u001b[0m \u001b[0;34m=\u001b[0m \u001b[0msocket\u001b[0m\u001b[0;34m.\u001b[0m\u001b[0mrecv_multipart\u001b[0m\u001b[0;34m(\u001b[0m\u001b[0mmode\u001b[0m\u001b[0;34m,\u001b[0m \u001b[0mcopy\u001b[0m\u001b[0;34m=\u001b[0m\u001b[0mcopy\u001b[0m\u001b[0;34m)\u001b[0m\u001b[0;34m\u001b[0m\u001b[0;34m\u001b[0m\u001b[0m\n\u001b[0m\u001b[1;32m    804\u001b[0m         \u001b[0;32mexcept\u001b[0m \u001b[0mzmq\u001b[0m\u001b[0;34m.\u001b[0m\u001b[0mZMQError\u001b[0m \u001b[0;32mas\u001b[0m \u001b[0me\u001b[0m\u001b[0;34m:\u001b[0m\u001b[0;34m\u001b[0m\u001b[0;34m\u001b[0m\u001b[0m\n",
            "\u001b[0;32m/usr/local/lib/python3.7/dist-packages/zmq/sugar/socket.py\u001b[0m in \u001b[0;36mrecv_multipart\u001b[0;34m(self, flags, copy, track)\u001b[0m\n\u001b[1;32m    582\u001b[0m         \"\"\"\n\u001b[0;32m--> 583\u001b[0;31m         \u001b[0mparts\u001b[0m \u001b[0;34m=\u001b[0m \u001b[0;34m[\u001b[0m\u001b[0mself\u001b[0m\u001b[0;34m.\u001b[0m\u001b[0mrecv\u001b[0m\u001b[0;34m(\u001b[0m\u001b[0mflags\u001b[0m\u001b[0;34m,\u001b[0m \u001b[0mcopy\u001b[0m\u001b[0;34m=\u001b[0m\u001b[0mcopy\u001b[0m\u001b[0;34m,\u001b[0m \u001b[0mtrack\u001b[0m\u001b[0;34m=\u001b[0m\u001b[0mtrack\u001b[0m\u001b[0;34m)\u001b[0m\u001b[0;34m]\u001b[0m\u001b[0;34m\u001b[0m\u001b[0;34m\u001b[0m\u001b[0m\n\u001b[0m\u001b[1;32m    584\u001b[0m         \u001b[0;31m# have first part already, only loop while more to receive\u001b[0m\u001b[0;34m\u001b[0m\u001b[0;34m\u001b[0m\u001b[0;34m\u001b[0m\u001b[0m\n",
            "\u001b[0;32mzmq/backend/cython/socket.pyx\u001b[0m in \u001b[0;36mzmq.backend.cython.socket.Socket.recv\u001b[0;34m()\u001b[0m\n",
            "\u001b[0;32mzmq/backend/cython/socket.pyx\u001b[0m in \u001b[0;36mzmq.backend.cython.socket.Socket.recv\u001b[0;34m()\u001b[0m\n",
            "\u001b[0;32mzmq/backend/cython/socket.pyx\u001b[0m in \u001b[0;36mzmq.backend.cython.socket._recv_copy\u001b[0;34m()\u001b[0m\n",
            "\u001b[0;32m/usr/local/lib/python3.7/dist-packages/zmq/backend/cython/checkrc.pxd\u001b[0m in \u001b[0;36mzmq.backend.cython.checkrc._check_rc\u001b[0;34m()\u001b[0m\n",
            "\u001b[0;31mKeyboardInterrupt\u001b[0m: ",
            "\nDuring handling of the above exception, another exception occurred:\n",
            "\u001b[0;31mKeyboardInterrupt\u001b[0m                         Traceback (most recent call last)",
            "\u001b[0;32m<ipython-input-124-ab5dc16245ad>\u001b[0m in \u001b[0;36m<module>\u001b[0;34m()\u001b[0m\n\u001b[1;32m      1\u001b[0m \u001b[0;32mwhile\u001b[0m \u001b[0;32mTrue\u001b[0m\u001b[0;34m:\u001b[0m\u001b[0;34m\u001b[0m\u001b[0;34m\u001b[0m\u001b[0m\n\u001b[0;32m----> 2\u001b[0;31m     \u001b[0ma\u001b[0m\u001b[0;34m,\u001b[0m \u001b[0mb\u001b[0m \u001b[0;34m=\u001b[0m \u001b[0mmap\u001b[0m\u001b[0;34m(\u001b[0m\u001b[0mint\u001b[0m\u001b[0;34m,\u001b[0m \u001b[0minput\u001b[0m\u001b[0;34m(\u001b[0m\u001b[0;34m)\u001b[0m\u001b[0;34m.\u001b[0m\u001b[0msplit\u001b[0m\u001b[0;34m(\u001b[0m\u001b[0;34m)\u001b[0m\u001b[0;34m)\u001b[0m\u001b[0;34m\u001b[0m\u001b[0;34m\u001b[0m\u001b[0m\n\u001b[0m\u001b[1;32m      3\u001b[0m     \u001b[0mprint\u001b[0m\u001b[0;34m(\u001b[0m\u001b[0ma\u001b[0m\u001b[0;34m+\u001b[0m\u001b[0mb\u001b[0m\u001b[0;34m)\u001b[0m\u001b[0;34m\u001b[0m\u001b[0;34m\u001b[0m\u001b[0m\n",
            "\u001b[0;32m/usr/local/lib/python3.7/dist-packages/ipykernel/kernelbase.py\u001b[0m in \u001b[0;36mraw_input\u001b[0;34m(self, prompt)\u001b[0m\n\u001b[1;32m    702\u001b[0m             \u001b[0mself\u001b[0m\u001b[0;34m.\u001b[0m\u001b[0m_parent_ident\u001b[0m\u001b[0;34m,\u001b[0m\u001b[0;34m\u001b[0m\u001b[0;34m\u001b[0m\u001b[0m\n\u001b[1;32m    703\u001b[0m             \u001b[0mself\u001b[0m\u001b[0;34m.\u001b[0m\u001b[0m_parent_header\u001b[0m\u001b[0;34m,\u001b[0m\u001b[0;34m\u001b[0m\u001b[0;34m\u001b[0m\u001b[0m\n\u001b[0;32m--> 704\u001b[0;31m             \u001b[0mpassword\u001b[0m\u001b[0;34m=\u001b[0m\u001b[0;32mFalse\u001b[0m\u001b[0;34m,\u001b[0m\u001b[0;34m\u001b[0m\u001b[0;34m\u001b[0m\u001b[0m\n\u001b[0m\u001b[1;32m    705\u001b[0m         )\n\u001b[1;32m    706\u001b[0m \u001b[0;34m\u001b[0m\u001b[0m\n",
            "\u001b[0;32m/usr/local/lib/python3.7/dist-packages/ipykernel/kernelbase.py\u001b[0m in \u001b[0;36m_input_request\u001b[0;34m(self, prompt, ident, parent, password)\u001b[0m\n\u001b[1;32m    732\u001b[0m             \u001b[0;32mexcept\u001b[0m \u001b[0mKeyboardInterrupt\u001b[0m\u001b[0;34m:\u001b[0m\u001b[0;34m\u001b[0m\u001b[0;34m\u001b[0m\u001b[0m\n\u001b[1;32m    733\u001b[0m                 \u001b[0;31m# re-raise KeyboardInterrupt, to truncate traceback\u001b[0m\u001b[0;34m\u001b[0m\u001b[0;34m\u001b[0m\u001b[0;34m\u001b[0m\u001b[0m\n\u001b[0;32m--> 734\u001b[0;31m                 \u001b[0;32mraise\u001b[0m \u001b[0mKeyboardInterrupt\u001b[0m\u001b[0;34m\u001b[0m\u001b[0;34m\u001b[0m\u001b[0m\n\u001b[0m\u001b[1;32m    735\u001b[0m             \u001b[0;32melse\u001b[0m\u001b[0;34m:\u001b[0m\u001b[0;34m\u001b[0m\u001b[0;34m\u001b[0m\u001b[0m\n\u001b[1;32m    736\u001b[0m                 \u001b[0;32mbreak\u001b[0m\u001b[0;34m\u001b[0m\u001b[0;34m\u001b[0m\u001b[0m\n",
            "\u001b[0;31mKeyboardInterrupt\u001b[0m: "
          ]
        }
      ]
    },
    {
      "cell_type": "code",
      "metadata": {
        "colab": {
          "base_uri": "https://localhost:8080/"
        },
        "id": "qecQS6UBDoZx",
        "outputId": "521bdf72-df2b-4cd3-c4a7-fb1ae766f8a1"
      },
      "source": [
        "index = 0\n",
        "num_1 = input()\n",
        "num_2 = num_1\n",
        "\n",
        "if int(num_1) < 10:\n",
        "    num_2 = '0' + num_2\n",
        "\n",
        "while True:\n",
        "\n",
        "    index += 1\n",
        "    a = int(num_2[0]) + int(num_2[1])\n",
        "    \n",
        "    if a < 10:\n",
        "        a = '0' + str(a)\n",
        "    else: \n",
        "        a = str(a)\n",
        "    \n",
        "    num_2 = num_2[1] + a[1]\n",
        "\n",
        "    if num_1 == num_2:\n",
        "        break\n",
        "\n",
        "print(index)"
      ],
      "execution_count": null,
      "outputs": [
        {
          "output_type": "stream",
          "text": [
            "26\n",
            "4\n"
          ],
          "name": "stdout"
        }
      ]
    },
    {
      "cell_type": "code",
      "metadata": {
        "colab": {
          "base_uri": "https://localhost:8080/"
        },
        "id": "9WZevftDSKqN",
        "outputId": "b8f6b798-682a-4f5c-db7f-374be8f0d147"
      },
      "source": [
        "n = int(input())\n",
        "a = list(map(int, input().split()))\n",
        "print(min(a), max(a))"
      ],
      "execution_count": null,
      "outputs": [
        {
          "output_type": "stream",
          "text": [
            "5\n",
            "20 10 35 30 7\n",
            "7 35\n"
          ],
          "name": "stdout"
        }
      ]
    },
    {
      "cell_type": "code",
      "metadata": {
        "colab": {
          "base_uri": "https://localhost:8080/"
        },
        "id": "iHK4yoI4UufA",
        "outputId": "f69d2fdc-7de8-4af3-f45a-338a80991d27"
      },
      "source": [
        "a = list(map(int, input().split()))\n",
        "print(max(a), a.index(max(a)) + 1)"
      ],
      "execution_count": null,
      "outputs": [
        {
          "output_type": "stream",
          "text": [
            "3 29 38 12 57 74 40 85 61\n",
            "85 8\n"
          ],
          "name": "stdout"
        }
      ]
    },
    {
      "cell_type": "code",
      "metadata": {
        "colab": {
          "base_uri": "https://localhost:8080/"
        },
        "id": "dJlrVd1gVeMD",
        "outputId": "38b02591-7e81-4c01-8203-924ffa9f5b7c"
      },
      "source": [
        "a, b, c = map(int, input().split())\n",
        "x = a * b * c\n",
        "x = list(str(x))\n",
        "\n",
        "for i in range(10):\n",
        "    z = 0\n",
        "    for j in x:\n",
        "        if int(j) == i:\n",
        "            z += 1\n",
        "    print(z)"
      ],
      "execution_count": null,
      "outputs": [
        {
          "output_type": "stream",
          "text": [
            "150 266 427\n",
            "3\n",
            "1\n",
            "0\n",
            "2\n",
            "0\n",
            "0\n",
            "0\n",
            "2\n",
            "0\n",
            "0\n"
          ],
          "name": "stdout"
        }
      ]
    },
    {
      "cell_type": "code",
      "metadata": {
        "colab": {
          "base_uri": "https://localhost:8080/"
        },
        "id": "Zl3N3Kosdu_p",
        "outputId": "972b75b5-6f0c-455a-99a2-bedc8c1f3890"
      },
      "source": [
        "x=[]\n",
        "z = 0\n",
        "for i in range(10):\n",
        "    a = int(input())%42\n",
        "    x.append(a)\n",
        "for i in x:\n",
        "    for j in x:\n",
        "        if i != j:\n",
        "            z += 1\n",
        "print(z)"
      ],
      "execution_count": null,
      "outputs": [
        {
          "output_type": "stream",
          "text": [
            "1\n",
            "2\n",
            "3\n",
            "4\n",
            "5\n",
            "6\n",
            "7\n",
            "8\n",
            "9\n",
            "10\n",
            "90\n"
          ],
          "name": "stdout"
        }
      ]
    },
    {
      "cell_type": "code",
      "metadata": {
        "colab": {
          "base_uri": "https://localhost:8080/"
        },
        "id": "CnLWlj17eveq",
        "outputId": "906cd003-3844-40c0-8bdb-d03155f590e2"
      },
      "source": [
        "n = int(input())\n",
        "x = []\n",
        "for i in range(n):\n",
        "    a = int(input())\n",
        "    x.append(a)\n",
        "m = sum(x)/max(x)/n*100\n",
        "print(m)"
      ],
      "execution_count": null,
      "outputs": [
        {
          "output_type": "stream",
          "text": [
            "3\n",
            "40\n",
            "80\n",
            "60\n",
            "75.0\n"
          ],
          "name": "stdout"
        }
      ]
    },
    {
      "cell_type": "code",
      "metadata": {
        "colab": {
          "base_uri": "https://localhost:8080/"
        },
        "id": "e4bq8COoqXeP",
        "outputId": "d595be88-8611-458b-d703-722bb20bf1a3"
      },
      "source": [
        "a ={'국어':80,'영어':75,'수학':55}\n",
        "sum(a.values())/len(a)"
      ],
      "execution_count": null,
      "outputs": [
        {
          "output_type": "execute_result",
          "data": {
            "text/plain": [
              "70.0"
            ]
          },
          "metadata": {
            "tags": []
          },
          "execution_count": 7
        }
      ]
    },
    {
      "cell_type": "code",
      "metadata": {
        "colab": {
          "base_uri": "https://localhost:8080/"
        },
        "id": "E30U7gCOhlQ8",
        "outputId": "2ccfaa39-e9df-40c9-ee56-441408b7c8b5"
      },
      "source": [
        "a = 13\n",
        "if a%2 == 0:\n",
        "    print(\"짝수\")\n",
        "else: print(\"홀수\")"
      ],
      "execution_count": null,
      "outputs": [
        {
          "output_type": "stream",
          "text": [
            "홀수\n"
          ],
          "name": "stdout"
        }
      ]
    },
    {
      "cell_type": "code",
      "metadata": {
        "colab": {
          "base_uri": "https://localhost:8080/",
          "height": 35
        },
        "id": "ZTZf9tmYiBKw",
        "outputId": "9200fd07-1cf0-436d-bd21-a18852cf6b44"
      },
      "source": [
        "a = \"881120-1068234\"\n",
        "a[:a.index(\"-\")]\n",
        "a[a.index(\"-\")+1 :]\n",
        "\n",
        "yyyymmdd = a[:6]\n",
        "num = a[7:]\n",
        "print(yyyymmdd)\n",
        "print(num)"
      ],
      "execution_count": null,
      "outputs": [
        {
          "output_type": "execute_result",
          "data": {
            "application/vnd.google.colaboratory.intrinsic+json": {
              "type": "string"
            },
            "text/plain": [
              "'1068234'"
            ]
          },
          "metadata": {
            "tags": []
          },
          "execution_count": 28
        }
      ]
    },
    {
      "cell_type": "code",
      "metadata": {
        "colab": {
          "base_uri": "https://localhost:8080/",
          "height": 35
        },
        "id": "hOFpsmGuiJeh",
        "outputId": "6d7ef0e3-9489-4a54-a6b5-e152641b3ef0"
      },
      "source": [
        "a = \"a:b:c:d\"\n",
        "a.replace(\":\",\"#\")"
      ],
      "execution_count": null,
      "outputs": [
        {
          "output_type": "execute_result",
          "data": {
            "application/vnd.google.colaboratory.intrinsic+json": {
              "type": "string"
            },
            "text/plain": [
              "'a#b#c#d'"
            ]
          },
          "metadata": {
            "tags": []
          },
          "execution_count": 29
        }
      ]
    },
    {
      "cell_type": "code",
      "metadata": {
        "colab": {
          "base_uri": "https://localhost:8080/"
        },
        "id": "ALw-D6ySjc_f",
        "outputId": "feb87675-4c03-41e4-d0d9-9175330cb63d"
      },
      "source": [
        "a = [1,3,5,4,2]\n",
        "a.sort(reverse=True)\n",
        "a"
      ],
      "execution_count": null,
      "outputs": [
        {
          "output_type": "execute_result",
          "data": {
            "text/plain": [
              "[5, 4, 3, 2, 1]"
            ]
          },
          "metadata": {
            "tags": []
          },
          "execution_count": 43
        }
      ]
    },
    {
      "cell_type": "code",
      "metadata": {
        "colab": {
          "base_uri": "https://localhost:8080/",
          "height": 35
        },
        "id": "0VDNbGB2jgmo",
        "outputId": "2769a001-dd34-435a-f972-358264517da6"
      },
      "source": [
        "a = ['Life', 'is', 'too', 'short']\n",
        "result = \" \".join(a)\n",
        "result"
      ],
      "execution_count": null,
      "outputs": [
        {
          "output_type": "execute_result",
          "data": {
            "application/vnd.google.colaboratory.intrinsic+json": {
              "type": "string"
            },
            "text/plain": [
              "'Life is too short'"
            ]
          },
          "metadata": {
            "tags": []
          },
          "execution_count": 58
        }
      ]
    },
    {
      "cell_type": "code",
      "metadata": {
        "colab": {
          "base_uri": "https://localhost:8080/"
        },
        "id": "rp2TofwFkUUr",
        "outputId": "43b50693-456a-4ce2-8f6c-936dee26a911"
      },
      "source": [
        "a = 1,2,3\n",
        "a = a + (4,)\n",
        "a"
      ],
      "execution_count": null,
      "outputs": [
        {
          "output_type": "execute_result",
          "data": {
            "text/plain": [
              "(1, 2, 3, 4)"
            ]
          },
          "metadata": {
            "tags": []
          },
          "execution_count": 59
        }
      ]
    },
    {
      "cell_type": "code",
      "metadata": {
        "colab": {
          "base_uri": "https://localhost:8080/"
        },
        "id": "K-fDzLfnk8WB",
        "outputId": "385eed89-c68a-43dd-eec4-65e2defcba2f"
      },
      "source": [
        "a = {'A':90, 'B':80, 'C':70}\n",
        "a.pop('B')"
      ],
      "execution_count": null,
      "outputs": [
        {
          "output_type": "execute_result",
          "data": {
            "text/plain": [
              "80"
            ]
          },
          "metadata": {
            "tags": []
          },
          "execution_count": 61
        }
      ]
    },
    {
      "cell_type": "code",
      "metadata": {
        "colab": {
          "base_uri": "https://localhost:8080/"
        },
        "id": "P6RWuSV9mQbH",
        "outputId": "b8cfb290-364a-4aac-cfd0-453fedf5eecf"
      },
      "source": [
        "a = [1,1,1,2,2,3,3,3,4,4,5]\n",
        "a = set(a)\n",
        "a"
      ],
      "execution_count": null,
      "outputs": [
        {
          "output_type": "execute_result",
          "data": {
            "text/plain": [
              "{1, 2, 3, 4, 5}"
            ]
          },
          "metadata": {
            "tags": []
          },
          "execution_count": 64
        }
      ]
    },
    {
      "cell_type": "code",
      "metadata": {
        "colab": {
          "base_uri": "https://localhost:8080/"
        },
        "id": "qOAJiaDFoRHi",
        "outputId": "cf8bb73a-df46-453e-c65f-0d0b1661b47e"
      },
      "source": [
        "sum = 0\n",
        "while i <= 1000:\n",
        "    if i % 3 == 0:\n",
        "        sum += i\n",
        "    i += 1\n",
        "print(sum)"
      ],
      "execution_count": null,
      "outputs": [
        {
          "output_type": "stream",
          "text": [
            "165150\n"
          ],
          "name": "stdout"
        }
      ]
    },
    {
      "cell_type": "code",
      "metadata": {
        "colab": {
          "base_uri": "https://localhost:8080/"
        },
        "id": "W5FoJlsduy5s",
        "outputId": "d152e2da-153b-4290-aabd-8e5d08f1e1bd"
      },
      "source": [
        "for i in range(101):\n",
        "    print(i)"
      ],
      "execution_count": null,
      "outputs": [
        {
          "output_type": "stream",
          "text": [
            "0\n",
            "1\n",
            "2\n",
            "3\n",
            "4\n",
            "5\n",
            "6\n",
            "7\n",
            "8\n",
            "9\n",
            "10\n",
            "11\n",
            "12\n",
            "13\n",
            "14\n",
            "15\n",
            "16\n",
            "17\n",
            "18\n",
            "19\n",
            "20\n",
            "21\n",
            "22\n",
            "23\n",
            "24\n",
            "25\n",
            "26\n",
            "27\n",
            "28\n",
            "29\n",
            "30\n",
            "31\n",
            "32\n",
            "33\n",
            "34\n",
            "35\n",
            "36\n",
            "37\n",
            "38\n",
            "39\n",
            "40\n",
            "41\n",
            "42\n",
            "43\n",
            "44\n",
            "45\n",
            "46\n",
            "47\n",
            "48\n",
            "49\n",
            "50\n",
            "51\n",
            "52\n",
            "53\n",
            "54\n",
            "55\n",
            "56\n",
            "57\n",
            "58\n",
            "59\n",
            "60\n",
            "61\n",
            "62\n",
            "63\n",
            "64\n",
            "65\n",
            "66\n",
            "67\n",
            "68\n",
            "69\n",
            "70\n",
            "71\n",
            "72\n",
            "73\n",
            "74\n",
            "75\n",
            "76\n",
            "77\n",
            "78\n",
            "79\n",
            "80\n",
            "81\n",
            "82\n",
            "83\n",
            "84\n",
            "85\n",
            "86\n",
            "87\n",
            "88\n",
            "89\n",
            "90\n",
            "91\n",
            "92\n",
            "93\n",
            "94\n",
            "95\n",
            "96\n",
            "97\n",
            "98\n",
            "99\n",
            "100\n"
          ],
          "name": "stdout"
        }
      ]
    },
    {
      "cell_type": "code",
      "metadata": {
        "colab": {
          "base_uri": "https://localhost:8080/"
        },
        "id": "pDxhV3gCvVOJ",
        "outputId": "ee02e881-0033-42c1-cf76-c10352c5d9f3"
      },
      "source": [
        "a = [70,60,55,75,95,90,80,80,85,100]\n",
        "sum = 0\n",
        "for i in a:\n",
        "    sum += i\n",
        "avg = sum/len(a)\n",
        "avg"
      ],
      "execution_count": null,
      "outputs": [
        {
          "output_type": "execute_result",
          "data": {
            "text/plain": [
              "79.0"
            ]
          },
          "metadata": {
            "tags": []
          },
          "execution_count": 71
        }
      ]
    },
    {
      "cell_type": "code",
      "metadata": {
        "colab": {
          "base_uri": "https://localhost:8080/"
        },
        "id": "RApcizwDvsQE",
        "outputId": "510b78e3-8b14-4e52-8434-9d24b95ab1f4"
      },
      "source": [
        "numbers = [1,2,3,4,5]\n",
        "result = [n*2 for n in numbers if n%2==1]\n",
        "result"
      ],
      "execution_count": null,
      "outputs": [
        {
          "output_type": "execute_result",
          "data": {
            "text/plain": [
              "[2, 6, 10]"
            ]
          },
          "metadata": {
            "tags": []
          },
          "execution_count": 92
        }
      ]
    },
    {
      "cell_type": "code",
      "metadata": {
        "colab": {
          "base_uri": "https://localhost:8080/"
        },
        "id": "_qAk__s0DHVh",
        "outputId": "32564771-e014-404b-875f-07c05a65e282"
      },
      "source": [
        "def is_odd(a):\n",
        "    if a %2 ==0:\n",
        "        print(\"짝수\")\n",
        "    else: \n",
        "        print(\"홀수\")\n",
        "is_odd(3)"
      ],
      "execution_count": null,
      "outputs": [
        {
          "output_type": "stream",
          "text": [
            "홀수\n"
          ],
          "name": "stdout"
        }
      ]
    },
    {
      "cell_type": "code",
      "metadata": {
        "colab": {
          "base_uri": "https://localhost:8080/"
        },
        "id": "iPWUOD9KZwKJ",
        "outputId": "f5434296-96ab-4a75-88bb-465c4c5bc9b8"
      },
      "source": [
        "def avg(*a):\n",
        "    result = 0\n",
        "    for i in a:\n",
        "        result += i\n",
        "    return result/len(a)\n",
        "\n",
        "avg(1,2,3,4,5)"
      ],
      "execution_count": null,
      "outputs": [
        {
          "output_type": "execute_result",
          "data": {
            "text/plain": [
              "3.0"
            ]
          },
          "metadata": {
            "tags": []
          },
          "execution_count": 96
        }
      ]
    },
    {
      "cell_type": "code",
      "metadata": {
        "colab": {
          "base_uri": "https://localhost:8080/"
        },
        "id": "FuYP49f3aca5",
        "outputId": "fd857da9-346f-479b-8b0a-5f9a722b95ed"
      },
      "source": [
        "input1 = input(\"첫번째 숫자를 입력하세요:\")\n",
        "input2 = input(\"두번째 숫자를 입력하세요:\")\n",
        "\n",
        "total = int(input1) + int(input2)\n",
        "print(\"두 수의 합은 %s 입니다\"% total)"
      ],
      "execution_count": null,
      "outputs": [
        {
          "output_type": "stream",
          "text": [
            "첫번째 숫자를 입력하세요:3\n",
            "두번째 숫자를 입력하세요:6\n",
            "두 수의 합은 9 입니다\n"
          ],
          "name": "stdout"
        }
      ]
    },
    {
      "cell_type": "code",
      "metadata": {
        "colab": {
          "base_uri": "https://localhost:8080/"
        },
        "id": "gZZcdggObs-w",
        "outputId": "1beca5f4-81c6-41e2-9ec2-9598390cb1fb"
      },
      "source": [
        "a = int(input())\n",
        "for i in range(a):\n",
        "    x = input()\n",
        "    count = 0\n",
        "    sum = 0\n",
        "    for j in range(len(x)):\n",
        "        if x[j] == \"O\":\n",
        "            count += 1\n",
        "            sum += count\n",
        "        else:\n",
        "            count = 0\n",
        "    print(sum)"
      ],
      "execution_count": null,
      "outputs": [
        {
          "output_type": "stream",
          "text": [
            "5\n",
            "OOXXOXXOOO\n",
            "10\n",
            "OOXXOOXXOO\n",
            "9\n",
            "OXOXOXOXOXOXOX\n",
            "7\n",
            "OOOOOOOOOO\n",
            "55\n",
            "OOOOXOOOOXOOOOX\n",
            "30\n"
          ],
          "name": "stdout"
        }
      ]
    },
    {
      "cell_type": "code",
      "metadata": {
        "colab": {
          "base_uri": "https://localhost:8080/"
        },
        "id": "bzbGdc9dlLsl",
        "outputId": "1cb8b524-23eb-4a57-b20f-534eb831e59b"
      },
      "source": [
        "a = int(input())\n",
        "for i in range(a):\n",
        "    b = 0\n",
        "    sum = 0\n",
        "    count = 0\n",
        "\n",
        "    b = int(input())\n",
        "    c = list(map(int,input().split()))\n",
        "\n",
        "    for k in c:\n",
        "        sum += k\n",
        "    avg = sum/b\n",
        "    \n",
        "    for k in c:\n",
        "        if k > avg:\n",
        "            count += 1\n",
        "\n",
        "    print(f'{count/b*100:0.3f}'\"%\")\n"
      ],
      "execution_count": null,
      "outputs": [
        {
          "output_type": "stream",
          "text": [
            "5\n",
            "5\n",
            "50 50 70 80 100\n",
            "40.000%\n",
            "7\n",
            "100 95 90 80 70 60 50\n",
            "57.143%\n",
            "3\n",
            "70 90 80\n",
            "33.333%\n",
            "3\n",
            "70 90 81\n",
            "66.667%\n",
            "9\n",
            "100 99 98 97 96 95 94 93 91\n",
            "55.556%\n"
          ],
          "name": "stdout"
        }
      ]
    },
    {
      "cell_type": "code",
      "metadata": {
        "colab": {
          "base_uri": "https://localhost:8080/"
        },
        "id": "G8ziewkA0_p6",
        "outputId": "fcdbf75d-a45d-40e1-a5d6-6b493c84e6ae"
      },
      "source": [
        "def solve(*a):\n",
        "    x = sum(a[:])\n",
        "    return x\n",
        "\n",
        "solve(1,2,3,4,5)"
      ],
      "execution_count": null,
      "outputs": [
        {
          "output_type": "execute_result",
          "data": {
            "text/plain": [
              "15"
            ]
          },
          "metadata": {
            "tags": []
          },
          "execution_count": 4
        }
      ]
    },
    {
      "cell_type": "code",
      "metadata": {
        "id": "j-dzWWBqPUAh"
      },
      "source": [
        "def n_1():\n",
        "    i = 1\n",
        "    for i in range(10000):\n",
        "\n",
        "        a = [i]\n",
        "        while i < 10000:    # 수열 만들기\n",
        "            sum = 0\n",
        "            i = str(i)\n",
        "            \n",
        "            for j in range(len(i)):  \n",
        "                k = int(i[j])\n",
        "                sum += k\n",
        "            i = int(i)\n",
        "            i = i + sum\n",
        "            \n",
        "            if i not in a:  \n",
        "                a.append(i)\n",
        "\n",
        "            i += 1\n",
        "\n",
        "        if len(a) <= 1:\n",
        "            print(i)\n",
        "    # for i in range(1, x+1):\n",
        "    #     if i not in a:\n",
        "    #         print(i)\n",
        "        \n",
        "        # if x > 10000:   # 10000 이상이면 빠져나오기\n",
        "        #     break\n",
        "        \n",
        "n_1()"
      ],
      "execution_count": null,
      "outputs": []
    },
    {
      "cell_type": "code",
      "metadata": {
        "colab": {
          "base_uri": "https://localhost:8080/"
        },
        "id": "mcFREEipifW6",
        "outputId": "c8cc499d-c882-4618-a406-86515d2d9db5"
      },
      "source": [
        "count = 0\n",
        "x = input()\n",
        "if int(x) < 100:        # 100이하일땐 전부 한수\n",
        "    for i in range(int(x)):\n",
        "        count += 1\n",
        "    print(count)\n",
        "\n",
        "elif int(x) <= 1000:\n",
        "    for i in range(100, int(x)+1):\n",
        "        i = str(i)\n",
        "        if (int(i[1])-int(i[0])) == (int(i[2]) - int(i[1])):\n",
        "            count += 1\n",
        "    print(count+99)"
      ],
      "execution_count": null,
      "outputs": [
        {
          "output_type": "stream",
          "text": [
            "1000\n",
            "144\n"
          ],
          "name": "stdout"
        }
      ]
    },
    {
      "cell_type": "code",
      "metadata": {
        "colab": {
          "base_uri": "https://localhost:8080/"
        },
        "id": "Oo1tA9tkcQo0",
        "outputId": "967d111b-e5cc-42d9-9437-b0ef365906ae"
      },
      "source": [
        "a = input()\n",
        "print(ord(a))"
      ],
      "execution_count": null,
      "outputs": [
        {
          "output_type": "stream",
          "text": [
            "A\n",
            "65\n"
          ],
          "name": "stdout"
        }
      ]
    },
    {
      "cell_type": "code",
      "metadata": {
        "colab": {
          "base_uri": "https://localhost:8080/"
        },
        "id": "TZ08GcWAikF4",
        "outputId": "61e43c36-5c57-4a26-9b92-afd8acc8de25"
      },
      "source": [
        "T = int(input())\n",
        "\n",
        "for i in range(T):\n",
        "    num, a = list(input().split())\n",
        "    \n",
        "    num = int(num)\n",
        "    a = str(a)\n",
        "\n",
        "    for j in a:\n",
        "        print(num*j)\n",
        "    print('\\n')\n"
      ],
      "execution_count": null,
      "outputs": [
        {
          "output_type": "stream",
          "text": [
            "2\n",
            "3 ABC\n",
            "AAABBBCCC\n",
            "\n",
            "5 /HTP\n",
            "/////HHHHHTTTTTPPPPP\n",
            "\n"
          ],
          "name": "stdout"
        }
      ]
    },
    {
      "cell_type": "code",
      "metadata": {
        "colab": {
          "base_uri": "https://localhost:8080/"
        },
        "id": "oSMquzLb7XcE",
        "outputId": "d2a885e8-07d2-4d0c-824a-442ae3f0814c"
      },
      "source": [
        "a = input() # 입력받기\n",
        "b = [] # 문자열 카운트 저장 리스트\n",
        "c = list(map(chr, range(97, 123))) # 아스키코드 리스트\n",
        "\n",
        "for i in c: # 아스키코드로 문자열 카운트\n",
        "    count = 0 \n",
        "    for j in a: \n",
        "        if j.lower() == i: \n",
        "            count += 1\n",
        "    b.append(count) # 각 알파벳 위치에 카운트 저장\n",
        "print(b)\n",
        "\n",
        "# c = b.index(max(b)) # max값 알파벳 위치 보내기\n",
        "print(c[b.index(max(b))])\n",
        "\n"
      ],
      "execution_count": null,
      "outputs": [
        {
          "output_type": "stream",
          "text": [
            "aabbbc\n",
            "[2, 3, 1, 0, 0, 0, 0, 0, 0, 0, 0, 0, 0, 0, 0, 0, 0, 0, 0, 0, 0, 0, 0, 0, 0, 0]\n",
            "b\n"
          ],
          "name": "stdout"
        }
      ]
    },
    {
      "cell_type": "code",
      "metadata": {
        "colab": {
          "base_uri": "https://localhost:8080/"
        },
        "id": "sG0ES2jKBeV-",
        "outputId": "043e717e-64cf-4765-905c-05c30490fab4"
      },
      "source": [
        "a = input() # 입력 받기\n",
        "b = [] # 카운트 저장소 \n",
        "\n",
        "a = a.upper() # 문자열 대문자로 바꿔주기\n",
        "a_1 = list(set(a)) # 중복값 제거한 a 리스트 만들기\n",
        "\n",
        "for i in a_1: # 카운트\n",
        "    count = 0\n",
        "    for j in a:\n",
        "        if i == j:\n",
        "            count += 1\n",
        "    b.append(count)\n",
        "\n",
        "if b.count(max(b)) > 1: # max값이 2개 이상이면 ? 출력\n",
        "    print(\"?\")\n",
        "else: \n",
        "    print(a_1[b.index(max(b))]) # 1개면 max값 출력"
      ],
      "execution_count": null,
      "outputs": [
        {
          "output_type": "stream",
          "text": [
            "Mississipi\n",
            "?\n"
          ],
          "name": "stdout"
        }
      ]
    },
    {
      "cell_type": "markdown",
      "metadata": {
        "id": "TNTpmK9xeB8-"
      },
      "source": [
        "set 쓰면 안에 순서가 바뀌기 때문에 변수명에 넣어서 고정하기\n",
        "\n",
        "count, max 같은 내장함수 쓰면 되니까 for문 두번 돌려서 확인 ㄴㄴ해 \n",
        "\n"
      ]
    },
    {
      "cell_type": "code",
      "metadata": {
        "colab": {
          "base_uri": "https://localhost:8080/"
        },
        "id": "8HVBU8UhgB6l",
        "outputId": "eda3625f-5ad2-41d3-833f-55a5bb5571de"
      },
      "source": [
        "a = list(input().split())\n",
        "len(a)"
      ],
      "execution_count": null,
      "outputs": [
        {
          "output_type": "stream",
          "text": [
            "Mazatneunde Wae Teullyeoyo\n"
          ],
          "name": "stdout"
        },
        {
          "output_type": "execute_result",
          "data": {
            "text/plain": [
              "3"
            ]
          },
          "metadata": {
            "tags": []
          },
          "execution_count": 93
        }
      ]
    },
    {
      "cell_type": "code",
      "metadata": {
        "colab": {
          "base_uri": "https://localhost:8080/"
        },
        "id": "vyqXfcCngU-0",
        "outputId": "ad16871c-38bb-40aa-952e-c6bef5d04329"
      },
      "source": [
        "a,b = input().split()\n",
        "\n",
        "a = int(a[::-1])\n",
        "b = int(b[::-1])\n",
        "\n",
        "if a>b:\n",
        "    print(a)\n",
        "else: \n",
        "    print(b)"
      ],
      "execution_count": null,
      "outputs": [
        {
          "output_type": "stream",
          "text": [
            "734 893\n",
            "437\n"
          ],
          "name": "stdout"
        }
      ]
    },
    {
      "cell_type": "code",
      "metadata": {
        "colab": {
          "base_uri": "https://localhost:8080/"
        },
        "id": "vc587vY9tJfl",
        "outputId": "1660974f-426b-49b9-ed49-594b2034047f"
      },
      "source": [
        "a = input()\n",
        "dial = [\"ABC\",\"DEF\",\"GHI\",\"JKL\",\"MNO\",\"PQRS\",\"TUV\",\"WXYZ\"]\n",
        "b = []\n",
        "\n",
        "for i in a:\n",
        "    for j in range(len(dial)):\n",
        "        if i in dial[j]:\n",
        "            num = j+2\n",
        "    b.append(num)\n",
        "print(b)\n",
        "print(sum(b)+len(a))"
      ],
      "execution_count": null,
      "outputs": [
        {
          "output_type": "stream",
          "text": [
            "UNUCIC\n",
            "[8, 6, 8, 2, 4, 2]\n",
            "36\n"
          ],
          "name": "stdout"
        }
      ]
    },
    {
      "cell_type": "code",
      "metadata": {
        "colab": {
          "base_uri": "https://localhost:8080/"
        },
        "id": "QBJ3vtxOw_dT",
        "outputId": "40f1a502-cddd-4859-bc23-092fd1eac529"
      },
      "source": [
        "a = input()\n",
        "a = a.replace('c=',' ')\n",
        "a = a.replace('c-',' ')\n",
        "a = a.replace('dz=',' ')\n",
        "a = a.replace('d-',' ')\n",
        "a = a.replace('lj',' ')\n",
        "a = a.replace('nj',' ')\n",
        "a = a.replace('s=',' ')\n",
        "a = a.replace('z=',' ')\n",
        "len(a)\n"
      ],
      "execution_count": null,
      "outputs": [
        {
          "output_type": "stream",
          "text": [
            "c=c=\n"
          ],
          "name": "stdout"
        },
        {
          "output_type": "execute_result",
          "data": {
            "text/plain": [
              "2"
            ]
          },
          "metadata": {
            "tags": []
          },
          "execution_count": 34
        }
      ]
    },
    {
      "cell_type": "code",
      "metadata": {
        "colab": {
          "base_uri": "https://localhost:8080/"
        },
        "id": "rDcUDbfJFELb",
        "outputId": "e7e2616f-77cc-4e1f-aaa6-f9c92c289250"
      },
      "source": [
        "char = ['c=', 'c-', 'dz=', 'd-', 'lj', 'nj', 's=', 'z=']\n",
        "a = input()\n",
        "\n",
        "for i in char:\n",
        "    a = a.replace(i,\" \")\n",
        "\n",
        "len(a)"
      ],
      "execution_count": null,
      "outputs": [
        {
          "output_type": "stream",
          "text": [
            "c=c=\n"
          ],
          "name": "stdout"
        },
        {
          "output_type": "execute_result",
          "data": {
            "text/plain": [
              "2"
            ]
          },
          "metadata": {
            "tags": []
          },
          "execution_count": 39
        }
      ]
    },
    {
      "cell_type": "code",
      "metadata": {
        "colab": {
          "base_uri": "https://localhost:8080/"
        },
        "id": "b0EZ082QhOK0",
        "outputId": "b50e10d1-5c13-40e3-fa09-6e2edd31499f"
      },
      "source": [
        "num = int(input())\n",
        "count = 0\n",
        "\n",
        "for j in range(num):\n",
        "    a = input()\n",
        "    chr=[]\n",
        "    cou = 0\n",
        "\n",
        "    for i in range(len(a)):\n",
        "        cou += 1\n",
        "        if a[i] not in chr:\n",
        "            chr.append(a[i])\n",
        "\n",
        "        elif a[i] != a[i-1]:\n",
        "            break\n",
        "\n",
        "        if cou == len(a):\n",
        "            count += 1        \n",
        "   \n",
        "print(count)"
      ],
      "execution_count": null,
      "outputs": [
        {
          "output_type": "stream",
          "text": [
            "4\n",
            "aba\n",
            "abab\n",
            "abcabc\n",
            "a\n",
            "1\n"
          ],
          "name": "stdout"
        }
      ]
    },
    {
      "cell_type": "code",
      "metadata": {
        "colab": {
          "base_uri": "https://localhost:8080/"
        },
        "id": "wjDzCWB6sNCw",
        "outputId": "a6c6ee03-4f3e-4cb5-94d3-d74e35fcf2ad"
      },
      "source": [
        "a,b,c = map(int,input().split())\n",
        "\n",
        "if a < 0 or b>=c: \n",
        "    print(\"-1\")\n",
        "else: \n",
        "    i = a/(c-b)\n",
        "    print(int(i+1))"
      ],
      "execution_count": null,
      "outputs": [
        {
          "output_type": "stream",
          "text": [
            "3 3 3\n",
            "-1\n"
          ],
          "name": "stdout"
        }
      ]
    },
    {
      "cell_type": "code",
      "metadata": {
        "id": "arAoqUjobIyt",
        "colab": {
          "base_uri": "https://localhost:8080/"
        },
        "outputId": "26399602-beb2-4ed6-dbdf-57c569d1efd4"
      },
      "source": [
        "a = int(input())\n",
        "b = 1\n",
        "count = 1\n",
        "\n",
        "while a > b:\n",
        "    count += 1\n",
        "    b += 6*(count-1)\n",
        "print(count)"
      ],
      "execution_count": null,
      "outputs": [
        {
          "output_type": "stream",
          "text": [
            "91\n",
            "6\n"
          ],
          "name": "stdout"
        }
      ]
    },
    {
      "cell_type": "code",
      "metadata": {
        "colab": {
          "base_uri": "https://localhost:8080/"
        },
        "id": "wupO5DAK8teo",
        "outputId": "4c470298-6c8b-4494-dc5f-de02cfd5d4fc"
      },
      "source": [
        "a = int(input())\n",
        "b = a\n",
        "num = 0\n",
        "count = 0\n",
        "\n",
        "# 분수 층 계산\n",
        "while b - num > 0:\n",
        "    b -= num\n",
        "    count += num\n",
        "    num += 1\n",
        "\n",
        "# 짝수일때 홀수일때 분자 분모\n",
        "if num % 2 == 0:\n",
        "    i = a - count\n",
        "    j = num - (a - count - 1)\n",
        "else:\n",
        "    j = a - count\n",
        "    i = num - (a - count - 1)\n",
        "\n",
        "print('{}/{}'.format(i,j))"
      ],
      "execution_count": null,
      "outputs": [
        {
          "output_type": "stream",
          "text": [
            "14\n",
            "1 14 0\n",
            "2 13 1\n",
            "3 11 3\n",
            "4 8 6\n",
            "5 4 10\n",
            "2/4\n"
          ],
          "name": "stdout"
        }
      ]
    },
    {
      "cell_type": "code",
      "metadata": {
        "id": "JaFMgsWtCXoB",
        "colab": {
          "base_uri": "https://localhost:8080/"
        },
        "outputId": "45854f2d-a36e-4d61-d7d2-b4837b36cf12"
      },
      "source": [
        "A, B, V = map(int, input().split())\n",
        "C = A\n",
        "count = 1\n",
        "\n",
        "while V - C > 0:\n",
        "    count += 1\n",
        "    C += A - B\n",
        "    if C >= V:\n",
        "        break\n",
        "print(count)"
      ],
      "execution_count": null,
      "outputs": [
        {
          "output_type": "stream",
          "text": [
            "5 1 6\n",
            "2\n"
          ],
          "name": "stdout"
        }
      ]
    },
    {
      "cell_type": "code",
      "metadata": {
        "colab": {
          "base_uri": "https://localhost:8080/"
        },
        "id": "96CAZHB6aspW",
        "outputId": "0e66f6ba-3328-4019-9381-fef4ceba97d2"
      },
      "source": [
        "a, b, c = map(int, input().split())\n",
        "\n",
        "count = (c-a)//(a-b)\n",
        "if (c-a)%(a-b) > 0:\n",
        "    count += 1\n",
        "print(int(count+1))"
      ],
      "execution_count": null,
      "outputs": [
        {
          "output_type": "stream",
          "text": [
            "100 99 1000000000\n",
            "999999901\n"
          ],
          "name": "stdout"
        }
      ]
    },
    {
      "cell_type": "code",
      "metadata": {
        "colab": {
          "base_uri": "https://localhost:8080/"
        },
        "id": "m_aseCiLi1_1",
        "outputId": "e61c8f0c-35ec-46fc-d666-1253848b8548"
      },
      "source": [
        "T = int(input())\n",
        "\n",
        "for i in range(T):\n",
        "    h, w, n = map(int, input().split())\n",
        "\n",
        "    a = n//h\n",
        "    b = n%h\n",
        "    if b == 0:\n",
        "        b = h\n",
        "        a -= 1\n",
        "    print(b*100+a+1)"
      ],
      "execution_count": null,
      "outputs": [
        {
          "output_type": "stream",
          "text": [
            "2\n",
            "6 12 10\n",
            "402\n",
            "30 50 72\n",
            "1203\n"
          ],
          "name": "stdout"
        }
      ]
    },
    {
      "cell_type": "code",
      "metadata": {
        "id": "1gFqTKmkwtO4",
        "colab": {
          "base_uri": "https://localhost:8080/",
          "height": 262
        },
        "outputId": "a95f5ea2-18f1-4e2f-f5c0-5540becacb88"
      },
      "source": [
        "import sys\n",
        "\n",
        "num = int(input())\n",
        "stack = []\n",
        "\n",
        "for i in range(num):\n",
        "\n",
        "    a = sys.stdin.readline().split()\n",
        "\n",
        "    if a[0] == 'push':\n",
        "        stack.append(int(a[1]))\n",
        "\n",
        "    elif a[0] == 'pop':\n",
        "        if len(stack) == 0:\n",
        "            print(\"-1\")\n",
        "        else: print(stack.pop())\n",
        "\n",
        "    elif a[0] == 'size':\n",
        "        print(len(stack))\n",
        "\n",
        "    elif a[0] == 'empty':\n",
        "        if len(stack) == 0:\n",
        "            print(\"1\")\n",
        "        else: print(\"0\")\n",
        "    \n",
        "    elif a[0] == 'top':\n",
        "        if len(stack) == 0:\n",
        "            print(\"-1\")\n",
        "        else: print(stack[-1])"
      ],
      "execution_count": null,
      "outputs": [
        {
          "output_type": "stream",
          "text": [
            "14\n"
          ],
          "name": "stdout"
        },
        {
          "output_type": "error",
          "ename": "IndexError",
          "evalue": "ignored",
          "traceback": [
            "\u001b[0;31m---------------------------------------------------------------------------\u001b[0m",
            "\u001b[0;31mIndexError\u001b[0m                                Traceback (most recent call last)",
            "\u001b[0;32m<ipython-input-17-68801c97910b>\u001b[0m in \u001b[0;36m<module>\u001b[0;34m()\u001b[0m\n\u001b[1;32m      7\u001b[0m     \u001b[0ma\u001b[0m \u001b[0;34m=\u001b[0m \u001b[0msys\u001b[0m\u001b[0;34m.\u001b[0m\u001b[0mstdin\u001b[0m\u001b[0;34m.\u001b[0m\u001b[0mreadline\u001b[0m\u001b[0;34m(\u001b[0m\u001b[0;34m)\u001b[0m\u001b[0;34m.\u001b[0m\u001b[0mstrip\u001b[0m\u001b[0;34m(\u001b[0m\u001b[0;34m)\u001b[0m\u001b[0;34m\u001b[0m\u001b[0;34m\u001b[0m\u001b[0m\n\u001b[1;32m      8\u001b[0m \u001b[0;34m\u001b[0m\u001b[0m\n\u001b[0;32m----> 9\u001b[0;31m     \u001b[0;32mif\u001b[0m \u001b[0ma\u001b[0m\u001b[0;34m[\u001b[0m\u001b[0;36m0\u001b[0m\u001b[0;34m]\u001b[0m \u001b[0;34m==\u001b[0m \u001b[0;34m'push'\u001b[0m\u001b[0;34m:\u001b[0m\u001b[0;34m\u001b[0m\u001b[0;34m\u001b[0m\u001b[0m\n\u001b[0m\u001b[1;32m     10\u001b[0m         \u001b[0mstack\u001b[0m\u001b[0;34m.\u001b[0m\u001b[0mappend\u001b[0m\u001b[0;34m(\u001b[0m\u001b[0mint\u001b[0m\u001b[0;34m(\u001b[0m\u001b[0ma\u001b[0m\u001b[0;34m[\u001b[0m\u001b[0;36m1\u001b[0m\u001b[0;34m]\u001b[0m\u001b[0;34m)\u001b[0m\u001b[0;34m)\u001b[0m\u001b[0;34m\u001b[0m\u001b[0;34m\u001b[0m\u001b[0m\n\u001b[1;32m     11\u001b[0m \u001b[0;34m\u001b[0m\u001b[0m\n",
            "\u001b[0;31mIndexError\u001b[0m: string index out of range"
          ]
        }
      ]
    },
    {
      "cell_type": "code",
      "metadata": {
        "id": "G4-legZ9Wiav",
        "colab": {
          "base_uri": "https://localhost:8080/"
        },
        "outputId": "62b41b3f-ce7f-4303-8a03-d3bb880078c4"
      },
      "source": [
        "n = int(input())\n",
        "num = [0]\n",
        "count = 1\n",
        "a = [input() for i in range(n)]\n",
        "result = []\n",
        "i = 0\n",
        "\n",
        "while  True:\n",
        "    # 수열보다 크면 append\n",
        "    if int(a[i]) > num[-1]:\n",
        "        num.append(count)\n",
        "        count += 1\n",
        "        result += \"+\"\n",
        "\n",
        "    # 같은 값이면 pop\n",
        "    elif int(a[i]) == num[-1]:\n",
        "        num.pop()\n",
        "        result += \"-\"\n",
        "        # i값 업데이트\n",
        "        i += 1\n",
        "        # \n",
        "        if i == n:\n",
        "            break\n",
        "    else:\n",
        "        result = \"NO\"\n",
        "        break\n",
        "\n",
        "if result == \"NO\":\n",
        "    print(result)\n",
        "else:\n",
        "    for i in result:\n",
        "        print(i)"
      ],
      "execution_count": null,
      "outputs": [
        {
          "output_type": "stream",
          "text": [
            "8\n",
            "4\n",
            "3\n",
            "6\n",
            "8\n",
            "7\n",
            "5\n",
            "2\n",
            "1\n",
            "+\n",
            "+\n",
            "+\n",
            "+\n",
            "-\n",
            "-\n",
            "+\n",
            "+\n",
            "-\n",
            "+\n",
            "+\n",
            "-\n",
            "-\n",
            "-\n",
            "-\n",
            "-\n"
          ],
          "name": "stdout"
        }
      ]
    },
    {
      "cell_type": "code",
      "metadata": {
        "id": "dO_H8-opV06U",
        "colab": {
          "base_uri": "https://localhost:8080/"
        },
        "outputId": "2dd9fa81-a3bf-44d8-ebf1-c842680ed8d4"
      },
      "source": [
        "import sys\n",
        "\n",
        "T = int(input())\n",
        "\n",
        "for j in range(T):\n",
        "    a = sys.stdin.readline()\n",
        "    b = []\n",
        "    c = 0\n",
        "\n",
        "    for i in a:\n",
        "        if i == \"(\":\n",
        "            b.append(i)\n",
        "\n",
        "        elif i == \")\":\n",
        "            try: b.pop()\n",
        "\n",
        "            # 예외 처리, 오류가 나면 (b 리스트 안에 \"(\"가 없으면) c =1 \n",
        "            except: \n",
        "                c = 1\n",
        "                break\n",
        "\n",
        "    # \"(\" 가 남으면 c = 1\n",
        "    if len(b) >= 1:\n",
        "        c = 1\n",
        "\n",
        "    if c == 1:\n",
        "        print(\"NO\")\n",
        "    else: print(\"YES\")\n"
      ],
      "execution_count": null,
      "outputs": [
        {
          "output_type": "stream",
          "text": [
            "6\n",
            "(())())\n",
            "NO\n",
            "(((()())()\n",
            "NO\n",
            "(()())((()))\n",
            "YES\n",
            "((()()(()))(((())))()\n",
            "NO\n",
            "()()()()(()()())()\n",
            "YES\n",
            "(()((())()(\n",
            "NO\n"
          ],
          "name": "stdout"
        }
      ]
    },
    {
      "cell_type": "code",
      "metadata": {
        "id": "hUCKlo46e_jc",
        "colab": {
          "base_uri": "https://localhost:8080/"
        },
        "outputId": "b681b7b6-987e-492c-eeb9-978ec4e797e1"
      },
      "source": [
        "T = int(input())\n",
        "a = [int(input()) for i in range(T)]\n",
        "b = a[-1]\n",
        "count = 1\n",
        "\n",
        "for n in range(1, len(a)+1):\n",
        "    if a[-n] > b:\n",
        "        count += 1\n",
        "        b = a[-n]\n",
        "print(count)"
      ],
      "execution_count": null,
      "outputs": [
        {
          "output_type": "stream",
          "text": [
            "5\n",
            "5\n",
            "4\n",
            "3\n",
            "2\n",
            "1\n",
            "5\n"
          ],
          "name": "stdout"
        }
      ]
    },
    {
      "cell_type": "code",
      "metadata": {
        "colab": {
          "base_uri": "https://localhost:8080/"
        },
        "id": "VpLhzAjUBVfb",
        "outputId": "b3f589c1-5b06-4a64-f60f-0ab6fef24556"
      },
      "source": [
        "A, B, C = map(int,input().split())\n",
        "\n",
        "print((A+B)%C)\n",
        "print(((A%C)+(B%C))%C)\n",
        "print((A*B)%C)\n",
        "print(((A%C)*(B%C))%C)"
      ],
      "execution_count": null,
      "outputs": [
        {
          "output_type": "stream",
          "text": [
            "5 8 4\n",
            "1\n",
            "1\n",
            "0\n",
            "0\n"
          ],
          "name": "stdout"
        }
      ]
    },
    {
      "cell_type": "code",
      "metadata": {
        "colab": {
          "base_uri": "https://localhost:8080/"
        },
        "id": "DaDWKtjJh268",
        "outputId": "1a5b58bb-7350-4fc2-a912-7ed5092f0c4a"
      },
      "source": [
        "a = int(input())\n",
        "b = input()\n",
        "\n",
        "print(a * int(b[-1]))\n",
        "print(a * int(b[-2]))\n",
        "print(a * int(b[-3]))\n",
        "print(a * int(b))"
      ],
      "execution_count": null,
      "outputs": [
        {
          "output_type": "stream",
          "text": [
            "472\n",
            "385\n",
            "2360\n",
            "3776\n",
            "1416\n",
            "181720\n"
          ],
          "name": "stdout"
        }
      ]
    },
    {
      "cell_type": "code",
      "metadata": {
        "colab": {
          "base_uri": "https://localhost:8080/"
        },
        "id": "gH4luZsfi2xH",
        "outputId": "3137a0eb-3368-49bf-ebc5-63543a25e293"
      },
      "source": [
        "a, b = map(int,input().split())\n",
        "print(a/b)"
      ],
      "execution_count": null,
      "outputs": [
        {
          "output_type": "stream",
          "text": [
            "1 3\n",
            "0.3333333333333333\n"
          ],
          "name": "stdout"
        }
      ]
    },
    {
      "cell_type": "code",
      "metadata": {
        "colab": {
          "base_uri": "https://localhost:8080/"
        },
        "id": "AGEb1NBejKNn",
        "outputId": "2c7973f7-f234-4cf8-9c74-9389c662aca8"
      },
      "source": [
        "a = int(input())\n",
        "b = 0\n",
        "for i in range(a+1):\n",
        "    b += i\n",
        "print(b)"
      ],
      "execution_count": null,
      "outputs": [
        {
          "output_type": "stream",
          "text": [
            "3\n",
            "6\n"
          ],
          "name": "stdout"
        }
      ]
    },
    {
      "cell_type": "code",
      "metadata": {
        "colab": {
          "base_uri": "https://localhost:8080/"
        },
        "id": "T6qkr-ARjjlx",
        "outputId": "5c3a6826-94bd-4a2f-d261-12b0ddaf3342"
      },
      "source": [
        "N = int(input())\n",
        "\n",
        "for i in range(N, 0, -1):\n",
        "    print(i)"
      ],
      "execution_count": null,
      "outputs": [
        {
          "output_type": "stream",
          "text": [
            "5\n",
            "5\n",
            "4\n",
            "3\n",
            "2\n",
            "1\n"
          ],
          "name": "stdout"
        }
      ]
    },
    {
      "cell_type": "code",
      "metadata": {
        "colab": {
          "base_uri": "https://localhost:8080/"
        },
        "id": "pEGg48B4obWI",
        "outputId": "8a47038c-f4a7-4cda-edbe-d310fc01aefc"
      },
      "source": [
        "T = int(input())\n",
        "\n",
        "for i in range(1, T+1):\n",
        "    a, b = map(int,input().split())\n",
        "    print('Case #{}: {}'.format(i, a+b))"
      ],
      "execution_count": null,
      "outputs": [
        {
          "output_type": "stream",
          "text": [
            "5\n",
            "1 1\n",
            "Case #1: 2\n",
            "2 3\n",
            "Case #2: 5\n",
            "3 4\n",
            "Case #3: 7\n",
            "9 8\n",
            "Case #4: 17\n",
            "5 2\n",
            "Case #5: 7\n"
          ],
          "name": "stdout"
        }
      ]
    },
    {
      "cell_type": "code",
      "metadata": {
        "colab": {
          "base_uri": "https://localhost:8080/"
        },
        "id": "OiH20B4yr4ds",
        "outputId": "cbe96e73-4128-4ba7-d002-fa3b87c60be5"
      },
      "source": [
        "T = int(input())\n",
        "\n",
        "for i in range(1, T+1):\n",
        "    a, b = map(int,input().split())\n",
        "    print('Case #{}: {} + {} = {}'.format(i, a, b, a+b))"
      ],
      "execution_count": null,
      "outputs": [
        {
          "output_type": "stream",
          "text": [
            "5\n",
            "1 1\n",
            "Case #1: 1 + 1 = 2\n",
            "2 2\n",
            "Case #2: 2 + 2 = 4\n",
            "3 3\n",
            "Case #3: 3 + 3 = 6\n",
            "4 4\n",
            "Case #4: 4 + 4 = 8\n",
            "5 5\n",
            "Case #5: 5 + 5 = 10\n"
          ],
          "name": "stdout"
        }
      ]
    },
    {
      "cell_type": "code",
      "metadata": {
        "id": "F20Yh2TLzSBr",
        "colab": {
          "base_uri": "https://localhost:8080/",
          "height": 536
        },
        "outputId": "61e0b62b-f79f-4ca7-da5c-1c3d3fa0b737"
      },
      "source": [
        "import sys\n",
        "\n",
        "N = int(input())\n",
        "a = [int(x) for x in input().strip().split()]\n",
        "\n",
        "for i in a:\n",
        "    count = 0\n",
        "    for j in a:\n",
        "        if a.index(i) <= a.index(j):\n",
        "            if i < j:\n",
        "                print(j, end=\" \")\n",
        "                count = 1\n",
        "                break\n",
        "    if count == 0:\n",
        "        print(\"-1\", end= \" \")  \n",
        "\n",
        "while "
      ],
      "execution_count": null,
      "outputs": [
        {
          "output_type": "error",
          "ename": "KeyboardInterrupt",
          "evalue": "ignored",
          "traceback": [
            "\u001b[0;31m---------------------------------------------------------------------------\u001b[0m",
            "\u001b[0;31mKeyboardInterrupt\u001b[0m                         Traceback (most recent call last)",
            "\u001b[0;32m/usr/local/lib/python3.7/dist-packages/ipykernel/kernelbase.py\u001b[0m in \u001b[0;36m_input_request\u001b[0;34m(self, prompt, ident, parent, password)\u001b[0m\n\u001b[1;32m    728\u001b[0m             \u001b[0;32mtry\u001b[0m\u001b[0;34m:\u001b[0m\u001b[0;34m\u001b[0m\u001b[0;34m\u001b[0m\u001b[0m\n\u001b[0;32m--> 729\u001b[0;31m                 \u001b[0mident\u001b[0m\u001b[0;34m,\u001b[0m \u001b[0mreply\u001b[0m \u001b[0;34m=\u001b[0m \u001b[0mself\u001b[0m\u001b[0;34m.\u001b[0m\u001b[0msession\u001b[0m\u001b[0;34m.\u001b[0m\u001b[0mrecv\u001b[0m\u001b[0;34m(\u001b[0m\u001b[0mself\u001b[0m\u001b[0;34m.\u001b[0m\u001b[0mstdin_socket\u001b[0m\u001b[0;34m,\u001b[0m \u001b[0;36m0\u001b[0m\u001b[0;34m)\u001b[0m\u001b[0;34m\u001b[0m\u001b[0;34m\u001b[0m\u001b[0m\n\u001b[0m\u001b[1;32m    730\u001b[0m             \u001b[0;32mexcept\u001b[0m \u001b[0mException\u001b[0m\u001b[0;34m:\u001b[0m\u001b[0;34m\u001b[0m\u001b[0;34m\u001b[0m\u001b[0m\n",
            "\u001b[0;32m/usr/local/lib/python3.7/dist-packages/jupyter_client/session.py\u001b[0m in \u001b[0;36mrecv\u001b[0;34m(self, socket, mode, content, copy)\u001b[0m\n\u001b[1;32m    802\u001b[0m         \u001b[0;32mtry\u001b[0m\u001b[0;34m:\u001b[0m\u001b[0;34m\u001b[0m\u001b[0;34m\u001b[0m\u001b[0m\n\u001b[0;32m--> 803\u001b[0;31m             \u001b[0mmsg_list\u001b[0m \u001b[0;34m=\u001b[0m \u001b[0msocket\u001b[0m\u001b[0;34m.\u001b[0m\u001b[0mrecv_multipart\u001b[0m\u001b[0;34m(\u001b[0m\u001b[0mmode\u001b[0m\u001b[0;34m,\u001b[0m \u001b[0mcopy\u001b[0m\u001b[0;34m=\u001b[0m\u001b[0mcopy\u001b[0m\u001b[0;34m)\u001b[0m\u001b[0;34m\u001b[0m\u001b[0;34m\u001b[0m\u001b[0m\n\u001b[0m\u001b[1;32m    804\u001b[0m         \u001b[0;32mexcept\u001b[0m \u001b[0mzmq\u001b[0m\u001b[0;34m.\u001b[0m\u001b[0mZMQError\u001b[0m \u001b[0;32mas\u001b[0m \u001b[0me\u001b[0m\u001b[0;34m:\u001b[0m\u001b[0;34m\u001b[0m\u001b[0;34m\u001b[0m\u001b[0m\n",
            "\u001b[0;32m/usr/local/lib/python3.7/dist-packages/zmq/sugar/socket.py\u001b[0m in \u001b[0;36mrecv_multipart\u001b[0;34m(self, flags, copy, track)\u001b[0m\n\u001b[1;32m    582\u001b[0m         \"\"\"\n\u001b[0;32m--> 583\u001b[0;31m         \u001b[0mparts\u001b[0m \u001b[0;34m=\u001b[0m \u001b[0;34m[\u001b[0m\u001b[0mself\u001b[0m\u001b[0;34m.\u001b[0m\u001b[0mrecv\u001b[0m\u001b[0;34m(\u001b[0m\u001b[0mflags\u001b[0m\u001b[0;34m,\u001b[0m \u001b[0mcopy\u001b[0m\u001b[0;34m=\u001b[0m\u001b[0mcopy\u001b[0m\u001b[0;34m,\u001b[0m \u001b[0mtrack\u001b[0m\u001b[0;34m=\u001b[0m\u001b[0mtrack\u001b[0m\u001b[0;34m)\u001b[0m\u001b[0;34m]\u001b[0m\u001b[0;34m\u001b[0m\u001b[0;34m\u001b[0m\u001b[0m\n\u001b[0m\u001b[1;32m    584\u001b[0m         \u001b[0;31m# have first part already, only loop while more to receive\u001b[0m\u001b[0;34m\u001b[0m\u001b[0;34m\u001b[0m\u001b[0;34m\u001b[0m\u001b[0m\n",
            "\u001b[0;32mzmq/backend/cython/socket.pyx\u001b[0m in \u001b[0;36mzmq.backend.cython.socket.Socket.recv\u001b[0;34m()\u001b[0m\n",
            "\u001b[0;32mzmq/backend/cython/socket.pyx\u001b[0m in \u001b[0;36mzmq.backend.cython.socket.Socket.recv\u001b[0;34m()\u001b[0m\n",
            "\u001b[0;32mzmq/backend/cython/socket.pyx\u001b[0m in \u001b[0;36mzmq.backend.cython.socket._recv_copy\u001b[0;34m()\u001b[0m\n",
            "\u001b[0;32m/usr/local/lib/python3.7/dist-packages/zmq/backend/cython/checkrc.pxd\u001b[0m in \u001b[0;36mzmq.backend.cython.checkrc._check_rc\u001b[0;34m()\u001b[0m\n",
            "\u001b[0;31mKeyboardInterrupt\u001b[0m: ",
            "\nDuring handling of the above exception, another exception occurred:\n",
            "\u001b[0;31mKeyboardInterrupt\u001b[0m                         Traceback (most recent call last)",
            "\u001b[0;32m<ipython-input-49-da8c2dc95fc2>\u001b[0m in \u001b[0;36m<module>\u001b[0;34m()\u001b[0m\n\u001b[1;32m      1\u001b[0m \u001b[0;32mimport\u001b[0m \u001b[0msys\u001b[0m\u001b[0;34m\u001b[0m\u001b[0;34m\u001b[0m\u001b[0m\n\u001b[1;32m      2\u001b[0m \u001b[0;34m\u001b[0m\u001b[0m\n\u001b[0;32m----> 3\u001b[0;31m \u001b[0mN\u001b[0m \u001b[0;34m=\u001b[0m \u001b[0mint\u001b[0m\u001b[0;34m(\u001b[0m\u001b[0minput\u001b[0m\u001b[0;34m(\u001b[0m\u001b[0;34m)\u001b[0m\u001b[0;34m)\u001b[0m\u001b[0;34m\u001b[0m\u001b[0;34m\u001b[0m\u001b[0m\n\u001b[0m\u001b[1;32m      4\u001b[0m \u001b[0ma\u001b[0m \u001b[0;34m=\u001b[0m \u001b[0;34m[\u001b[0m\u001b[0mint\u001b[0m\u001b[0;34m(\u001b[0m\u001b[0mx\u001b[0m\u001b[0;34m)\u001b[0m \u001b[0;32mfor\u001b[0m \u001b[0mx\u001b[0m \u001b[0;32min\u001b[0m \u001b[0msys\u001b[0m\u001b[0;34m.\u001b[0m\u001b[0mstdin\u001b[0m\u001b[0;34m.\u001b[0m\u001b[0mreadline\u001b[0m\u001b[0;34m(\u001b[0m\u001b[0;34m)\u001b[0m\u001b[0;34m.\u001b[0m\u001b[0mstrip\u001b[0m\u001b[0;34m(\u001b[0m\u001b[0;34m)\u001b[0m\u001b[0;34m.\u001b[0m\u001b[0msplit\u001b[0m\u001b[0;34m(\u001b[0m\u001b[0;34m)\u001b[0m\u001b[0;34m]\u001b[0m\u001b[0;34m\u001b[0m\u001b[0;34m\u001b[0m\u001b[0m\n\u001b[1;32m      5\u001b[0m \u001b[0;34m\u001b[0m\u001b[0m\n",
            "\u001b[0;32m/usr/local/lib/python3.7/dist-packages/ipykernel/kernelbase.py\u001b[0m in \u001b[0;36mraw_input\u001b[0;34m(self, prompt)\u001b[0m\n\u001b[1;32m    702\u001b[0m             \u001b[0mself\u001b[0m\u001b[0;34m.\u001b[0m\u001b[0m_parent_ident\u001b[0m\u001b[0;34m,\u001b[0m\u001b[0;34m\u001b[0m\u001b[0;34m\u001b[0m\u001b[0m\n\u001b[1;32m    703\u001b[0m             \u001b[0mself\u001b[0m\u001b[0;34m.\u001b[0m\u001b[0m_parent_header\u001b[0m\u001b[0;34m,\u001b[0m\u001b[0;34m\u001b[0m\u001b[0;34m\u001b[0m\u001b[0m\n\u001b[0;32m--> 704\u001b[0;31m             \u001b[0mpassword\u001b[0m\u001b[0;34m=\u001b[0m\u001b[0;32mFalse\u001b[0m\u001b[0;34m,\u001b[0m\u001b[0;34m\u001b[0m\u001b[0;34m\u001b[0m\u001b[0m\n\u001b[0m\u001b[1;32m    705\u001b[0m         )\n\u001b[1;32m    706\u001b[0m \u001b[0;34m\u001b[0m\u001b[0m\n",
            "\u001b[0;32m/usr/local/lib/python3.7/dist-packages/ipykernel/kernelbase.py\u001b[0m in \u001b[0;36m_input_request\u001b[0;34m(self, prompt, ident, parent, password)\u001b[0m\n\u001b[1;32m    732\u001b[0m             \u001b[0;32mexcept\u001b[0m \u001b[0mKeyboardInterrupt\u001b[0m\u001b[0;34m:\u001b[0m\u001b[0;34m\u001b[0m\u001b[0;34m\u001b[0m\u001b[0m\n\u001b[1;32m    733\u001b[0m                 \u001b[0;31m# re-raise KeyboardInterrupt, to truncate traceback\u001b[0m\u001b[0;34m\u001b[0m\u001b[0;34m\u001b[0m\u001b[0;34m\u001b[0m\u001b[0m\n\u001b[0;32m--> 734\u001b[0;31m                 \u001b[0;32mraise\u001b[0m \u001b[0mKeyboardInterrupt\u001b[0m\u001b[0;34m\u001b[0m\u001b[0;34m\u001b[0m\u001b[0m\n\u001b[0m\u001b[1;32m    735\u001b[0m             \u001b[0;32melse\u001b[0m\u001b[0;34m:\u001b[0m\u001b[0;34m\u001b[0m\u001b[0;34m\u001b[0m\u001b[0m\n\u001b[1;32m    736\u001b[0m                 \u001b[0;32mbreak\u001b[0m\u001b[0;34m\u001b[0m\u001b[0;34m\u001b[0m\u001b[0m\n",
            "\u001b[0;31mKeyboardInterrupt\u001b[0m: "
          ]
        }
      ]
    },
    {
      "cell_type": "code",
      "metadata": {
        "colab": {
          "base_uri": "https://localhost:8080/"
        },
        "id": "5oRisVNklmTu",
        "outputId": "3f6cf7b5-e59d-4d9c-b011-4a8676da22b2"
      },
      "source": [
        "import sys\n",
        "\n",
        "N = int(input())\n",
        "a = [int(x) for x in input().strip().split()]\n",
        "\n",
        "for _ in range(len(a)):\n",
        "    if a[0] == max(a): \n",
        "        print(\"-1\", end = \" \")\n",
        "\n",
        "    else:\n",
        "        for i in range(len(a)):\n",
        "            b = a[i]\n",
        "            \n",
        "            if a[0] < b:\n",
        "                print(b, end= \" \")\n",
        "                break\n",
        "\n",
        "    a.pop(0)"
      ],
      "execution_count": null,
      "outputs": [
        {
          "output_type": "stream",
          "text": [
            "-1 8 8 -1 "
          ],
          "name": "stdout"
        }
      ]
    },
    {
      "cell_type": "code",
      "metadata": {
        "colab": {
          "base_uri": "https://localhost:8080/"
        },
        "id": "yzQ0JzwcvJOZ",
        "outputId": "0b342ae8-c8d5-44be-e6b5-60f390419d27"
      },
      "source": [
        "N = int(input())\n",
        "lst = [-1 for y in range(N)]\n",
        "\n",
        "a = [int(x) for x in input().strip().split()]\n",
        "\n",
        "for n in range(len(a)):\n",
        "    for i in range(len(a)):\n",
        "        b = a[i]\n",
        "        if a[0] < b:\n",
        "            lst[n] = b\n",
        "            break\n",
        "\n",
        "    a.pop(0)\n",
        "\n",
        "for j in lst:\n",
        "    print(j, end = \" \")"
      ],
      "execution_count": null,
      "outputs": [
        {
          "output_type": "stream",
          "text": [
            "4\n",
            "9 5 4 8\n",
            "-1 8 8 -1 "
          ],
          "name": "stdout"
        }
      ]
    },
    {
      "cell_type": "code",
      "metadata": {
        "colab": {
          "base_uri": "https://localhost:8080/",
          "height": 235
        },
        "id": "rng4ZUvEs1_B",
        "outputId": "76912f33-6f0d-49d1-f9ec-0c0fdbe8414d"
      },
      "source": [
        "a = [3, 5, 2, 7]\n",
        "lst = []\n",
        "\n",
        "# b보다 크면 카운트\n",
        "for n in a:\n",
        "    while True:\n",
        "        b = a[i]\n",
        "        if a[n] < b:\n",
        "            lst.append(b)\n",
        "            count = 1\n",
        "            break\n",
        "        a.pop()\n",
        "        # elif a[n] == b:\n",
        "        #     lst.append(\"-1\")\n",
        "        i += 1\n",
        "\n",
        "# for i in lst:\n",
        "#     print(i, end = \" \")"
      ],
      "execution_count": null,
      "outputs": [
        {
          "output_type": "error",
          "ename": "IndexError",
          "evalue": "ignored",
          "traceback": [
            "\u001b[0;31m---------------------------------------------------------------------------\u001b[0m",
            "\u001b[0;31mIndexError\u001b[0m                                Traceback (most recent call last)",
            "\u001b[0;32m<ipython-input-30-cd1174eed096>\u001b[0m in \u001b[0;36m<module>\u001b[0;34m()\u001b[0m\n\u001b[1;32m      6\u001b[0m     \u001b[0;32mwhile\u001b[0m \u001b[0;32mTrue\u001b[0m\u001b[0;34m:\u001b[0m\u001b[0;34m\u001b[0m\u001b[0;34m\u001b[0m\u001b[0m\n\u001b[1;32m      7\u001b[0m         \u001b[0mb\u001b[0m \u001b[0;34m=\u001b[0m \u001b[0ma\u001b[0m\u001b[0;34m[\u001b[0m\u001b[0mi\u001b[0m\u001b[0;34m]\u001b[0m\u001b[0;34m\u001b[0m\u001b[0;34m\u001b[0m\u001b[0m\n\u001b[0;32m----> 8\u001b[0;31m         \u001b[0;32mif\u001b[0m \u001b[0ma\u001b[0m\u001b[0;34m[\u001b[0m\u001b[0mn\u001b[0m\u001b[0;34m]\u001b[0m \u001b[0;34m<\u001b[0m \u001b[0mb\u001b[0m\u001b[0;34m:\u001b[0m\u001b[0;34m\u001b[0m\u001b[0;34m\u001b[0m\u001b[0m\n\u001b[0m\u001b[1;32m      9\u001b[0m             \u001b[0mlst\u001b[0m\u001b[0;34m.\u001b[0m\u001b[0mappend\u001b[0m\u001b[0;34m(\u001b[0m\u001b[0mb\u001b[0m\u001b[0;34m)\u001b[0m\u001b[0;34m\u001b[0m\u001b[0;34m\u001b[0m\u001b[0m\n\u001b[1;32m     10\u001b[0m             \u001b[0mcount\u001b[0m \u001b[0;34m=\u001b[0m \u001b[0;36m1\u001b[0m\u001b[0;34m\u001b[0m\u001b[0;34m\u001b[0m\u001b[0m\n",
            "\u001b[0;31mIndexError\u001b[0m: list index out of range"
          ]
        }
      ]
    },
    {
      "cell_type": "code",
      "metadata": {
        "id": "DwtIlP-DzwIR",
        "colab": {
          "base_uri": "https://localhost:8080/"
        },
        "outputId": "0f06adb5-0208-427a-b8a6-3d602085c05f"
      },
      "source": [
        "N, M = map(int, input().split())\n",
        "card = [int(x) for x in input().strip().split()]\n",
        "\n",
        "a = 0\n",
        "\n",
        "for i in range(0, N):\n",
        "    for j in range(0, N):\n",
        "        for k in range(0, N):\n",
        "            if i != j and j != k and k != i:         # 숫자 세개가 겹치지 않는 순열 조합\n",
        "                sum = card[i] + card[j] + card[k] # 숫자 세개 조합의 합\n",
        "                if a <= sum <= M:               \n",
        "                    a = sum                     # sum이 a 보다 크고 M보다 작으면 a 업데이트\n",
        "print(a)                                           # for문이 다 돌았을 때 M보다 작은 가장 큰 값 프린트"
      ],
      "execution_count": null,
      "outputs": [
        {
          "output_type": "stream",
          "text": [
            "10 500\n",
            "93 181 245 214 315 36 185 138 216 295\n",
            "497\n"
          ],
          "name": "stdout"
        }
      ]
    },
    {
      "cell_type": "code",
      "metadata": {
        "colab": {
          "base_uri": "https://localhost:8080/"
        },
        "id": "xCe455J7VDHZ",
        "outputId": "6d90c64f-cf32-46dc-f36b-435b4f0c8f4a"
      },
      "source": [
        "def fec(N):\n",
        "    return N * fec(N-1) if N>1 else 1\n",
        "\n",
        "N = int(input())\n",
        "print(fec(N))"
      ],
      "execution_count": null,
      "outputs": [
        {
          "output_type": "stream",
          "text": [
            "10\n"
          ],
          "name": "stdout"
        },
        {
          "output_type": "execute_result",
          "data": {
            "text/plain": [
              "3628800"
            ]
          },
          "metadata": {
            "tags": []
          },
          "execution_count": 82
        }
      ]
    },
    {
      "cell_type": "code",
      "metadata": {
        "colab": {
          "base_uri": "https://localhost:8080/"
        },
        "id": "sAFh9qUqgSok",
        "outputId": "331c726c-7f31-4a18-df55-86a85d594ebd"
      },
      "source": [
        "def fibo(n):\n",
        "    if n <= 1:\n",
        "        return n\n",
        "    return fibo(n-1) + fibo(n-2)\n",
        "\n",
        "n = int(input())\n",
        "print(fibo(n))"
      ],
      "execution_count": null,
      "outputs": [
        {
          "output_type": "stream",
          "text": [
            "10\n",
            "55\n"
          ],
          "name": "stdout"
        }
      ]
    },
    {
      "cell_type": "code",
      "metadata": {
        "colab": {
          "base_uri": "https://localhost:8080/"
        },
        "id": "JLeT1eGzjU-L",
        "outputId": "7a6389cb-5ef7-4aef-ec35-b39daf9d6f0c"
      },
      "source": [
        "N, X = map(int, input().split())\n",
        "a = [int(x) for x in input().strip().split()]\n",
        "\n",
        "for i in a:\n",
        "    if i < X:\n",
        "        print(i, end = \" \")"
      ],
      "execution_count": null,
      "outputs": [
        {
          "output_type": "stream",
          "text": [
            "10 5\n",
            "1 10 4 9 2 3 8 5 7 6\n",
            "1 4 2 3 "
          ],
          "name": "stdout"
        }
      ]
    },
    {
      "cell_type": "code",
      "metadata": {
        "colab": {
          "base_uri": "https://localhost:8080/"
        },
        "id": "J1m7sU8-r8he",
        "outputId": "0867f8b6-c1eb-4964-ff3c-cf08d86fa5ac"
      },
      "source": [
        "while True:\n",
        "    a, b = map(int, input().split())\n",
        "    if a == 0 and b == 0:\n",
        "        break\n",
        "    print(a+b)"
      ],
      "execution_count": null,
      "outputs": [
        {
          "output_type": "stream",
          "text": [
            "1 1\n",
            "2\n",
            "2 3\n",
            "5\n",
            "3 4\n",
            "7\n",
            "9 8\n",
            "17\n",
            "5 2\n",
            "7\n",
            "0 0\n"
          ],
          "name": "stdout"
        }
      ]
    },
    {
      "cell_type": "code",
      "metadata": {
        "id": "18oy70hCs2Kf",
        "colab": {
          "base_uri": "https://localhost:8080/"
        },
        "outputId": "344e8e26-5744-49a1-fbb7-34bd458762c8"
      },
      "source": [
        "N = int(input())\n",
        "sum = (N//10 + N%10)%10 + N%10*10\n",
        "count = 1\n",
        "\n",
        "while sum != N:\n",
        "    sum = (sum//10 + sum%10)%10 + sum%10*10\n",
        "    count += 1\n",
        "print(count)"
      ],
      "execution_count": null,
      "outputs": [
        {
          "output_type": "stream",
          "text": [
            "1\n"
          ],
          "name": "stdout"
        }
      ]
    },
    {
      "cell_type": "code",
      "metadata": {
        "colab": {
          "base_uri": "https://localhost:8080/"
        },
        "id": "vHfvK2sFGbp7",
        "outputId": "9dc6070f-25f8-444c-f626-e736f46872c1"
      },
      "source": [
        "import sys\n",
        "\n",
        "N = int(input())\n",
        "A = [int(x) for x in sys.stdin.readline().strip().split()]\n",
        "\n",
        "cnt = []\n",
        "\n",
        "for i in reversed(range(len(A))):\n",
        "    c = 0\n",
        "    for j in range(i, len(A)):\n",
        "        if A[j] > A[i]:\n",
        "            cnt.append(A[j])\n",
        "            c = A[j]\n",
        "            break\n",
        "\n",
        "    if c == 0:\n",
        "        cnt.append(-1)\n",
        "\n",
        "cnt = reversed(cnt)\n",
        "print(*cnt)"
      ],
      "execution_count": null,
      "outputs": [
        {
          "output_type": "stream",
          "text": [
            "-1 8 8 -1\n"
          ],
          "name": "stdout"
        }
      ]
    },
    {
      "cell_type": "code",
      "metadata": {
        "id": "F36W9oy_R0hB"
      },
      "source": [
        "N = 4\n",
        "A = [3, 5, 2, 7]\n",
        "cnt = []\n",
        "sum = []\n",
        "\n",
        "for i in reversed(range(len(A))):\n",
        "    sum.append(A[i])\n",
        "    for j in sum:\n",
        "        if A[i] > j:\n",
        "            sum.pop()\n",
        "            sum.append(A[i])\n",
        "#         if i == N-1 and j == N-1:\n",
        "#             cnt.append(-1)\n",
        "\n",
        "#         elif A[j] > A[i]:\n",
        "#             cnt.append(A[j])\n",
        "#             break\n",
        "\n",
        "# if A[0] == max(A):\n",
        "#     cnt.append(-1)\n",
        "\n",
        "# for k in reversed(cnt):\n",
        "#     print(k, end = \" \")"
      ],
      "execution_count": null,
      "outputs": []
    },
    {
      "cell_type": "code",
      "metadata": {
        "colab": {
          "base_uri": "https://localhost:8080/"
        },
        "id": "d8RxsnKdKjXw",
        "outputId": "e429274a-0c80-4d18-bfe5-897d27130f90"
      },
      "source": [
        "C = int(input())\n",
        "for i in range(C):\n",
        "    count = 0\n",
        "    a = [int(i) for i in input().split()]\n",
        "    avg = (sum(a) - a[0])/a[0]\n",
        "    for j in range(1, a[0]+1):\n",
        "        if a[j] > avg:\n",
        "            count += 1\n",
        "    print('{:.3f}%'.format(count/a[0]*100))"
      ],
      "execution_count": null,
      "outputs": [
        {
          "output_type": "stream",
          "text": [
            "1\n",
            "5 50 50 70 80 100\n",
            "40.000%\n"
          ],
          "name": "stdout"
        }
      ]
    },
    {
      "cell_type": "code",
      "metadata": {
        "colab": {
          "base_uri": "https://localhost:8080/"
        },
        "id": "1PcPct_nWH8z",
        "outputId": "c2ebf214-7e89-4744-c0e1-56d8c250a15a"
      },
      "source": [
        "N = int(input())\n",
        "a = input()\n",
        "sum = 0\n",
        "for i in a:\n",
        "    sum += int(i)\n",
        "print(sum)"
      ],
      "execution_count": null,
      "outputs": [
        {
          "output_type": "stream",
          "text": [
            "25\n",
            "7000000000000000000000000\n",
            "7\n"
          ],
          "name": "stdout"
        }
      ]
    },
    {
      "cell_type": "code",
      "metadata": {
        "colab": {
          "base_uri": "https://localhost:8080/"
        },
        "id": "QE2JS3KhpgUB",
        "outputId": "10dc2e74-5631-4d84-f7ed-528a89d2e271"
      },
      "source": [
        "def num(a):\n",
        "    for j in list(map(chr, range(97, 123))):\n",
        "        for i in set(a):\n",
        "            if i == j:\n",
        "                print(a.index(i), end = \" \")\n",
        "        if j not in a:\n",
        "            print(\"-1\", end = \" \")\n",
        "        \n",
        "a = input()\n",
        "num(a)"
      ],
      "execution_count": null,
      "outputs": [
        {
          "output_type": "stream",
          "text": [
            "baekjoon\n",
            "1 0 -1 -1 2 -1 -1 -1 -1 4 3 -1 -1 7 5 -1 -1 -1 -1 -1 -1 -1 -1 -1 -1 -1 "
          ],
          "name": "stdout"
        }
      ]
    },
    {
      "cell_type": "code",
      "metadata": {
        "colab": {
          "base_uri": "https://localhost:8080/",
          "height": 536
        },
        "id": "4L9qsMCCtv_n",
        "outputId": "0f60e86b-f62c-4981-fb22-f1b63a3043f5"
      },
      "source": [
        "T = int(input())\n",
        "for j in range(T):\n",
        "    a, b = input().split()\n",
        "    for i in b:\n",
        "        i * int(a)\n"
      ],
      "execution_count": null,
      "outputs": [
        {
          "output_type": "error",
          "ename": "KeyboardInterrupt",
          "evalue": "ignored",
          "traceback": [
            "\u001b[0;31m---------------------------------------------------------------------------\u001b[0m",
            "\u001b[0;31mKeyboardInterrupt\u001b[0m                         Traceback (most recent call last)",
            "\u001b[0;32m/usr/local/lib/python3.7/dist-packages/ipykernel/kernelbase.py\u001b[0m in \u001b[0;36m_input_request\u001b[0;34m(self, prompt, ident, parent, password)\u001b[0m\n\u001b[1;32m    728\u001b[0m             \u001b[0;32mtry\u001b[0m\u001b[0;34m:\u001b[0m\u001b[0;34m\u001b[0m\u001b[0;34m\u001b[0m\u001b[0m\n\u001b[0;32m--> 729\u001b[0;31m                 \u001b[0mident\u001b[0m\u001b[0;34m,\u001b[0m \u001b[0mreply\u001b[0m \u001b[0;34m=\u001b[0m \u001b[0mself\u001b[0m\u001b[0;34m.\u001b[0m\u001b[0msession\u001b[0m\u001b[0;34m.\u001b[0m\u001b[0mrecv\u001b[0m\u001b[0;34m(\u001b[0m\u001b[0mself\u001b[0m\u001b[0;34m.\u001b[0m\u001b[0mstdin_socket\u001b[0m\u001b[0;34m,\u001b[0m \u001b[0;36m0\u001b[0m\u001b[0;34m)\u001b[0m\u001b[0;34m\u001b[0m\u001b[0;34m\u001b[0m\u001b[0m\n\u001b[0m\u001b[1;32m    730\u001b[0m             \u001b[0;32mexcept\u001b[0m \u001b[0mException\u001b[0m\u001b[0;34m:\u001b[0m\u001b[0;34m\u001b[0m\u001b[0;34m\u001b[0m\u001b[0m\n",
            "\u001b[0;32m/usr/local/lib/python3.7/dist-packages/jupyter_client/session.py\u001b[0m in \u001b[0;36mrecv\u001b[0;34m(self, socket, mode, content, copy)\u001b[0m\n\u001b[1;32m    802\u001b[0m         \u001b[0;32mtry\u001b[0m\u001b[0;34m:\u001b[0m\u001b[0;34m\u001b[0m\u001b[0;34m\u001b[0m\u001b[0m\n\u001b[0;32m--> 803\u001b[0;31m             \u001b[0mmsg_list\u001b[0m \u001b[0;34m=\u001b[0m \u001b[0msocket\u001b[0m\u001b[0;34m.\u001b[0m\u001b[0mrecv_multipart\u001b[0m\u001b[0;34m(\u001b[0m\u001b[0mmode\u001b[0m\u001b[0;34m,\u001b[0m \u001b[0mcopy\u001b[0m\u001b[0;34m=\u001b[0m\u001b[0mcopy\u001b[0m\u001b[0;34m)\u001b[0m\u001b[0;34m\u001b[0m\u001b[0;34m\u001b[0m\u001b[0m\n\u001b[0m\u001b[1;32m    804\u001b[0m         \u001b[0;32mexcept\u001b[0m \u001b[0mzmq\u001b[0m\u001b[0;34m.\u001b[0m\u001b[0mZMQError\u001b[0m \u001b[0;32mas\u001b[0m \u001b[0me\u001b[0m\u001b[0;34m:\u001b[0m\u001b[0;34m\u001b[0m\u001b[0;34m\u001b[0m\u001b[0m\n",
            "\u001b[0;32m/usr/local/lib/python3.7/dist-packages/zmq/sugar/socket.py\u001b[0m in \u001b[0;36mrecv_multipart\u001b[0;34m(self, flags, copy, track)\u001b[0m\n\u001b[1;32m    582\u001b[0m         \"\"\"\n\u001b[0;32m--> 583\u001b[0;31m         \u001b[0mparts\u001b[0m \u001b[0;34m=\u001b[0m \u001b[0;34m[\u001b[0m\u001b[0mself\u001b[0m\u001b[0;34m.\u001b[0m\u001b[0mrecv\u001b[0m\u001b[0;34m(\u001b[0m\u001b[0mflags\u001b[0m\u001b[0;34m,\u001b[0m \u001b[0mcopy\u001b[0m\u001b[0;34m=\u001b[0m\u001b[0mcopy\u001b[0m\u001b[0;34m,\u001b[0m \u001b[0mtrack\u001b[0m\u001b[0;34m=\u001b[0m\u001b[0mtrack\u001b[0m\u001b[0;34m)\u001b[0m\u001b[0;34m]\u001b[0m\u001b[0;34m\u001b[0m\u001b[0;34m\u001b[0m\u001b[0m\n\u001b[0m\u001b[1;32m    584\u001b[0m         \u001b[0;31m# have first part already, only loop while more to receive\u001b[0m\u001b[0;34m\u001b[0m\u001b[0;34m\u001b[0m\u001b[0;34m\u001b[0m\u001b[0m\n",
            "\u001b[0;32mzmq/backend/cython/socket.pyx\u001b[0m in \u001b[0;36mzmq.backend.cython.socket.Socket.recv\u001b[0;34m()\u001b[0m\n",
            "\u001b[0;32mzmq/backend/cython/socket.pyx\u001b[0m in \u001b[0;36mzmq.backend.cython.socket.Socket.recv\u001b[0;34m()\u001b[0m\n",
            "\u001b[0;32mzmq/backend/cython/socket.pyx\u001b[0m in \u001b[0;36mzmq.backend.cython.socket._recv_copy\u001b[0;34m()\u001b[0m\n",
            "\u001b[0;32m/usr/local/lib/python3.7/dist-packages/zmq/backend/cython/checkrc.pxd\u001b[0m in \u001b[0;36mzmq.backend.cython.checkrc._check_rc\u001b[0;34m()\u001b[0m\n",
            "\u001b[0;31mKeyboardInterrupt\u001b[0m: ",
            "\nDuring handling of the above exception, another exception occurred:\n",
            "\u001b[0;31mKeyboardInterrupt\u001b[0m                         Traceback (most recent call last)",
            "\u001b[0;32m<ipython-input-30-9b7c5e874188>\u001b[0m in \u001b[0;36m<module>\u001b[0;34m()\u001b[0m\n\u001b[0;32m----> 1\u001b[0;31m \u001b[0mT\u001b[0m \u001b[0;34m=\u001b[0m \u001b[0mint\u001b[0m\u001b[0;34m(\u001b[0m\u001b[0minput\u001b[0m\u001b[0;34m(\u001b[0m\u001b[0;34m)\u001b[0m\u001b[0;34m)\u001b[0m\u001b[0;34m\u001b[0m\u001b[0;34m\u001b[0m\u001b[0m\n\u001b[0m\u001b[1;32m      2\u001b[0m \u001b[0;32mfor\u001b[0m \u001b[0mj\u001b[0m \u001b[0;32min\u001b[0m \u001b[0mrange\u001b[0m\u001b[0;34m(\u001b[0m\u001b[0mT\u001b[0m\u001b[0;34m)\u001b[0m\u001b[0;34m:\u001b[0m\u001b[0;34m\u001b[0m\u001b[0;34m\u001b[0m\u001b[0m\n\u001b[1;32m      3\u001b[0m     \u001b[0ma\u001b[0m\u001b[0;34m,\u001b[0m \u001b[0mb\u001b[0m \u001b[0;34m=\u001b[0m \u001b[0minput\u001b[0m\u001b[0;34m(\u001b[0m\u001b[0;34m)\u001b[0m\u001b[0;34m.\u001b[0m\u001b[0msplit\u001b[0m\u001b[0;34m(\u001b[0m\u001b[0;34m)\u001b[0m\u001b[0;34m\u001b[0m\u001b[0;34m\u001b[0m\u001b[0m\n\u001b[1;32m      4\u001b[0m     \u001b[0;32mfor\u001b[0m \u001b[0mi\u001b[0m \u001b[0;32min\u001b[0m \u001b[0mb\u001b[0m\u001b[0;34m:\u001b[0m\u001b[0;34m\u001b[0m\u001b[0;34m\u001b[0m\u001b[0m\n\u001b[1;32m      5\u001b[0m         \u001b[0mi\u001b[0m \u001b[0;34m*\u001b[0m \u001b[0mint\u001b[0m\u001b[0;34m(\u001b[0m\u001b[0ma\u001b[0m\u001b[0;34m)\u001b[0m\u001b[0;34m\u001b[0m\u001b[0;34m\u001b[0m\u001b[0m\n",
            "\u001b[0;32m/usr/local/lib/python3.7/dist-packages/ipykernel/kernelbase.py\u001b[0m in \u001b[0;36mraw_input\u001b[0;34m(self, prompt)\u001b[0m\n\u001b[1;32m    702\u001b[0m             \u001b[0mself\u001b[0m\u001b[0;34m.\u001b[0m\u001b[0m_parent_ident\u001b[0m\u001b[0;34m,\u001b[0m\u001b[0;34m\u001b[0m\u001b[0;34m\u001b[0m\u001b[0m\n\u001b[1;32m    703\u001b[0m             \u001b[0mself\u001b[0m\u001b[0;34m.\u001b[0m\u001b[0m_parent_header\u001b[0m\u001b[0;34m,\u001b[0m\u001b[0;34m\u001b[0m\u001b[0;34m\u001b[0m\u001b[0m\n\u001b[0;32m--> 704\u001b[0;31m             \u001b[0mpassword\u001b[0m\u001b[0;34m=\u001b[0m\u001b[0;32mFalse\u001b[0m\u001b[0;34m,\u001b[0m\u001b[0;34m\u001b[0m\u001b[0;34m\u001b[0m\u001b[0m\n\u001b[0m\u001b[1;32m    705\u001b[0m         )\n\u001b[1;32m    706\u001b[0m \u001b[0;34m\u001b[0m\u001b[0m\n",
            "\u001b[0;32m/usr/local/lib/python3.7/dist-packages/ipykernel/kernelbase.py\u001b[0m in \u001b[0;36m_input_request\u001b[0;34m(self, prompt, ident, parent, password)\u001b[0m\n\u001b[1;32m    732\u001b[0m             \u001b[0;32mexcept\u001b[0m \u001b[0mKeyboardInterrupt\u001b[0m\u001b[0;34m:\u001b[0m\u001b[0;34m\u001b[0m\u001b[0;34m\u001b[0m\u001b[0m\n\u001b[1;32m    733\u001b[0m                 \u001b[0;31m# re-raise KeyboardInterrupt, to truncate traceback\u001b[0m\u001b[0;34m\u001b[0m\u001b[0;34m\u001b[0m\u001b[0;34m\u001b[0m\u001b[0m\n\u001b[0;32m--> 734\u001b[0;31m                 \u001b[0;32mraise\u001b[0m \u001b[0mKeyboardInterrupt\u001b[0m\u001b[0;34m\u001b[0m\u001b[0;34m\u001b[0m\u001b[0m\n\u001b[0m\u001b[1;32m    735\u001b[0m             \u001b[0;32melse\u001b[0m\u001b[0;34m:\u001b[0m\u001b[0;34m\u001b[0m\u001b[0;34m\u001b[0m\u001b[0m\n\u001b[1;32m    736\u001b[0m                 \u001b[0;32mbreak\u001b[0m\u001b[0;34m\u001b[0m\u001b[0;34m\u001b[0m\u001b[0m\n",
            "\u001b[0;31mKeyboardInterrupt\u001b[0m: "
          ]
        }
      ]
    },
    {
      "cell_type": "code",
      "metadata": {
        "colab": {
          "base_uri": "https://localhost:8080/"
        },
        "id": "gvzZbQm3uwGa",
        "outputId": "56c666a7-f73c-48fe-dabc-3c0da23ff01d"
      },
      "source": [
        "cnt = []\n",
        "for i in range(1, 10001):\n",
        "    for j in str(i):\n",
        "        i += int(j)\n",
        "    cnt.append(i)\n",
        "num = [x for x in range(1, 10001)]\n",
        "\n",
        "a = [x for x in num if x not in set(cnt)]\n",
        "for j in a:\n",
        "    print(j)"
      ],
      "execution_count": null,
      "outputs": [
        {
          "output_type": "stream",
          "text": [
            "1\n",
            "3\n",
            "5\n",
            "7\n",
            "9\n",
            "20\n",
            "31\n",
            "42\n",
            "53\n",
            "64\n",
            "75\n",
            "86\n",
            "97\n",
            "108\n",
            "110\n",
            "121\n",
            "132\n",
            "143\n",
            "154\n",
            "165\n",
            "176\n",
            "187\n",
            "198\n",
            "209\n",
            "211\n",
            "222\n",
            "233\n",
            "244\n",
            "255\n",
            "266\n",
            "277\n",
            "288\n",
            "299\n",
            "310\n",
            "312\n",
            "323\n",
            "334\n",
            "345\n",
            "356\n",
            "367\n",
            "378\n",
            "389\n",
            "400\n",
            "411\n",
            "413\n",
            "424\n",
            "435\n",
            "446\n",
            "457\n",
            "468\n",
            "479\n",
            "490\n",
            "501\n",
            "512\n",
            "514\n",
            "525\n",
            "536\n",
            "547\n",
            "558\n",
            "569\n",
            "580\n",
            "591\n",
            "602\n",
            "613\n",
            "615\n",
            "626\n",
            "637\n",
            "648\n",
            "659\n",
            "670\n",
            "681\n",
            "692\n",
            "703\n",
            "714\n",
            "716\n",
            "727\n",
            "738\n",
            "749\n",
            "760\n",
            "771\n",
            "782\n",
            "793\n",
            "804\n",
            "815\n",
            "817\n",
            "828\n",
            "839\n",
            "850\n",
            "861\n",
            "872\n",
            "883\n",
            "894\n",
            "905\n",
            "916\n",
            "918\n",
            "929\n",
            "940\n",
            "951\n",
            "962\n",
            "973\n",
            "984\n",
            "995\n",
            "1006\n",
            "1021\n",
            "1032\n",
            "1043\n",
            "1054\n",
            "1065\n",
            "1076\n",
            "1087\n",
            "1098\n",
            "1109\n",
            "1111\n",
            "1122\n",
            "1133\n",
            "1144\n",
            "1155\n",
            "1166\n",
            "1177\n",
            "1188\n",
            "1199\n",
            "1210\n",
            "1212\n",
            "1223\n",
            "1234\n",
            "1245\n",
            "1256\n",
            "1267\n",
            "1278\n",
            "1289\n",
            "1300\n",
            "1311\n",
            "1313\n",
            "1324\n",
            "1335\n",
            "1346\n",
            "1357\n",
            "1368\n",
            "1379\n",
            "1390\n",
            "1401\n",
            "1412\n",
            "1414\n",
            "1425\n",
            "1436\n",
            "1447\n",
            "1458\n",
            "1469\n",
            "1480\n",
            "1491\n",
            "1502\n",
            "1513\n",
            "1515\n",
            "1526\n",
            "1537\n",
            "1548\n",
            "1559\n",
            "1570\n",
            "1581\n",
            "1592\n",
            "1603\n",
            "1614\n",
            "1616\n",
            "1627\n",
            "1638\n",
            "1649\n",
            "1660\n",
            "1671\n",
            "1682\n",
            "1693\n",
            "1704\n",
            "1715\n",
            "1717\n",
            "1728\n",
            "1739\n",
            "1750\n",
            "1761\n",
            "1772\n",
            "1783\n",
            "1794\n",
            "1805\n",
            "1816\n",
            "1818\n",
            "1829\n",
            "1840\n",
            "1851\n",
            "1862\n",
            "1873\n",
            "1884\n",
            "1895\n",
            "1906\n",
            "1917\n",
            "1919\n",
            "1930\n",
            "1941\n",
            "1952\n",
            "1963\n",
            "1974\n",
            "1985\n",
            "1996\n",
            "2007\n",
            "2022\n",
            "2033\n",
            "2044\n",
            "2055\n",
            "2066\n",
            "2077\n",
            "2088\n",
            "2099\n",
            "2110\n",
            "2112\n",
            "2123\n",
            "2134\n",
            "2145\n",
            "2156\n",
            "2167\n",
            "2178\n",
            "2189\n",
            "2200\n",
            "2211\n",
            "2213\n",
            "2224\n",
            "2235\n",
            "2246\n",
            "2257\n",
            "2268\n",
            "2279\n",
            "2290\n",
            "2301\n",
            "2312\n",
            "2314\n",
            "2325\n",
            "2336\n",
            "2347\n",
            "2358\n",
            "2369\n",
            "2380\n",
            "2391\n",
            "2402\n",
            "2413\n",
            "2415\n",
            "2426\n",
            "2437\n",
            "2448\n",
            "2459\n",
            "2470\n",
            "2481\n",
            "2492\n",
            "2503\n",
            "2514\n",
            "2516\n",
            "2527\n",
            "2538\n",
            "2549\n",
            "2560\n",
            "2571\n",
            "2582\n",
            "2593\n",
            "2604\n",
            "2615\n",
            "2617\n",
            "2628\n",
            "2639\n",
            "2650\n",
            "2661\n",
            "2672\n",
            "2683\n",
            "2694\n",
            "2705\n",
            "2716\n",
            "2718\n",
            "2729\n",
            "2740\n",
            "2751\n",
            "2762\n",
            "2773\n",
            "2784\n",
            "2795\n",
            "2806\n",
            "2817\n",
            "2819\n",
            "2830\n",
            "2841\n",
            "2852\n",
            "2863\n",
            "2874\n",
            "2885\n",
            "2896\n",
            "2907\n",
            "2918\n",
            "2920\n",
            "2931\n",
            "2942\n",
            "2953\n",
            "2964\n",
            "2975\n",
            "2986\n",
            "2997\n",
            "3008\n",
            "3023\n",
            "3034\n",
            "3045\n",
            "3056\n",
            "3067\n",
            "3078\n",
            "3089\n",
            "3100\n",
            "3111\n",
            "3113\n",
            "3124\n",
            "3135\n",
            "3146\n",
            "3157\n",
            "3168\n",
            "3179\n",
            "3190\n",
            "3201\n",
            "3212\n",
            "3214\n",
            "3225\n",
            "3236\n",
            "3247\n",
            "3258\n",
            "3269\n",
            "3280\n",
            "3291\n",
            "3302\n",
            "3313\n",
            "3315\n",
            "3326\n",
            "3337\n",
            "3348\n",
            "3359\n",
            "3370\n",
            "3381\n",
            "3392\n",
            "3403\n",
            "3414\n",
            "3416\n",
            "3427\n",
            "3438\n",
            "3449\n",
            "3460\n",
            "3471\n",
            "3482\n",
            "3493\n",
            "3504\n",
            "3515\n",
            "3517\n",
            "3528\n",
            "3539\n",
            "3550\n",
            "3561\n",
            "3572\n",
            "3583\n",
            "3594\n",
            "3605\n",
            "3616\n",
            "3618\n",
            "3629\n",
            "3640\n",
            "3651\n",
            "3662\n",
            "3673\n",
            "3684\n",
            "3695\n",
            "3706\n",
            "3717\n",
            "3719\n",
            "3730\n",
            "3741\n",
            "3752\n",
            "3763\n",
            "3774\n",
            "3785\n",
            "3796\n",
            "3807\n",
            "3818\n",
            "3820\n",
            "3831\n",
            "3842\n",
            "3853\n",
            "3864\n",
            "3875\n",
            "3886\n",
            "3897\n",
            "3908\n",
            "3919\n",
            "3921\n",
            "3932\n",
            "3943\n",
            "3954\n",
            "3965\n",
            "3976\n",
            "3987\n",
            "3998\n",
            "4009\n",
            "4024\n",
            "4035\n",
            "4046\n",
            "4057\n",
            "4068\n",
            "4079\n",
            "4090\n",
            "4101\n",
            "4112\n",
            "4114\n",
            "4125\n",
            "4136\n",
            "4147\n",
            "4158\n",
            "4169\n",
            "4180\n",
            "4191\n",
            "4202\n",
            "4213\n",
            "4215\n",
            "4226\n",
            "4237\n",
            "4248\n",
            "4259\n",
            "4270\n",
            "4281\n",
            "4292\n",
            "4303\n",
            "4314\n",
            "4316\n",
            "4327\n",
            "4338\n",
            "4349\n",
            "4360\n",
            "4371\n",
            "4382\n",
            "4393\n",
            "4404\n",
            "4415\n",
            "4417\n",
            "4428\n",
            "4439\n",
            "4450\n",
            "4461\n",
            "4472\n",
            "4483\n",
            "4494\n",
            "4505\n",
            "4516\n",
            "4518\n",
            "4529\n",
            "4540\n",
            "4551\n",
            "4562\n",
            "4573\n",
            "4584\n",
            "4595\n",
            "4606\n",
            "4617\n",
            "4619\n",
            "4630\n",
            "4641\n",
            "4652\n",
            "4663\n",
            "4674\n",
            "4685\n",
            "4696\n",
            "4707\n",
            "4718\n",
            "4720\n",
            "4731\n",
            "4742\n",
            "4753\n",
            "4764\n",
            "4775\n",
            "4786\n",
            "4797\n",
            "4808\n",
            "4819\n",
            "4821\n",
            "4832\n",
            "4843\n",
            "4854\n",
            "4865\n",
            "4876\n",
            "4887\n",
            "4898\n",
            "4909\n",
            "4920\n",
            "4922\n",
            "4933\n",
            "4944\n",
            "4955\n",
            "4966\n",
            "4977\n",
            "4988\n",
            "4999\n",
            "5010\n",
            "5025\n",
            "5036\n",
            "5047\n",
            "5058\n",
            "5069\n",
            "5080\n",
            "5091\n",
            "5102\n",
            "5113\n",
            "5115\n",
            "5126\n",
            "5137\n",
            "5148\n",
            "5159\n",
            "5170\n",
            "5181\n",
            "5192\n",
            "5203\n",
            "5214\n",
            "5216\n",
            "5227\n",
            "5238\n",
            "5249\n",
            "5260\n",
            "5271\n",
            "5282\n",
            "5293\n",
            "5304\n",
            "5315\n",
            "5317\n",
            "5328\n",
            "5339\n",
            "5350\n",
            "5361\n",
            "5372\n",
            "5383\n",
            "5394\n",
            "5405\n",
            "5416\n",
            "5418\n",
            "5429\n",
            "5440\n",
            "5451\n",
            "5462\n",
            "5473\n",
            "5484\n",
            "5495\n",
            "5506\n",
            "5517\n",
            "5519\n",
            "5530\n",
            "5541\n",
            "5552\n",
            "5563\n",
            "5574\n",
            "5585\n",
            "5596\n",
            "5607\n",
            "5618\n",
            "5620\n",
            "5631\n",
            "5642\n",
            "5653\n",
            "5664\n",
            "5675\n",
            "5686\n",
            "5697\n",
            "5708\n",
            "5719\n",
            "5721\n",
            "5732\n",
            "5743\n",
            "5754\n",
            "5765\n",
            "5776\n",
            "5787\n",
            "5798\n",
            "5809\n",
            "5820\n",
            "5822\n",
            "5833\n",
            "5844\n",
            "5855\n",
            "5866\n",
            "5877\n",
            "5888\n",
            "5899\n",
            "5910\n",
            "5921\n",
            "5923\n",
            "5934\n",
            "5945\n",
            "5956\n",
            "5967\n",
            "5978\n",
            "5989\n",
            "6000\n",
            "6011\n",
            "6026\n",
            "6037\n",
            "6048\n",
            "6059\n",
            "6070\n",
            "6081\n",
            "6092\n",
            "6103\n",
            "6114\n",
            "6116\n",
            "6127\n",
            "6138\n",
            "6149\n",
            "6160\n",
            "6171\n",
            "6182\n",
            "6193\n",
            "6204\n",
            "6215\n",
            "6217\n",
            "6228\n",
            "6239\n",
            "6250\n",
            "6261\n",
            "6272\n",
            "6283\n",
            "6294\n",
            "6305\n",
            "6316\n",
            "6318\n",
            "6329\n",
            "6340\n",
            "6351\n",
            "6362\n",
            "6373\n",
            "6384\n",
            "6395\n",
            "6406\n",
            "6417\n",
            "6419\n",
            "6430\n",
            "6441\n",
            "6452\n",
            "6463\n",
            "6474\n",
            "6485\n",
            "6496\n",
            "6507\n",
            "6518\n",
            "6520\n",
            "6531\n",
            "6542\n",
            "6553\n",
            "6564\n",
            "6575\n",
            "6586\n",
            "6597\n",
            "6608\n",
            "6619\n",
            "6621\n",
            "6632\n",
            "6643\n",
            "6654\n",
            "6665\n",
            "6676\n",
            "6687\n",
            "6698\n",
            "6709\n",
            "6720\n",
            "6722\n",
            "6733\n",
            "6744\n",
            "6755\n",
            "6766\n",
            "6777\n",
            "6788\n",
            "6799\n",
            "6810\n",
            "6821\n",
            "6823\n",
            "6834\n",
            "6845\n",
            "6856\n",
            "6867\n",
            "6878\n",
            "6889\n",
            "6900\n",
            "6911\n",
            "6922\n",
            "6924\n",
            "6935\n",
            "6946\n",
            "6957\n",
            "6968\n",
            "6979\n",
            "6990\n",
            "7001\n",
            "7012\n",
            "7027\n",
            "7038\n",
            "7049\n",
            "7060\n",
            "7071\n",
            "7082\n",
            "7093\n",
            "7104\n",
            "7115\n",
            "7117\n",
            "7128\n",
            "7139\n",
            "7150\n",
            "7161\n",
            "7172\n",
            "7183\n",
            "7194\n",
            "7205\n",
            "7216\n",
            "7218\n",
            "7229\n",
            "7240\n",
            "7251\n",
            "7262\n",
            "7273\n",
            "7284\n",
            "7295\n",
            "7306\n",
            "7317\n",
            "7319\n",
            "7330\n",
            "7341\n",
            "7352\n",
            "7363\n",
            "7374\n",
            "7385\n",
            "7396\n",
            "7407\n",
            "7418\n",
            "7420\n",
            "7431\n",
            "7442\n",
            "7453\n",
            "7464\n",
            "7475\n",
            "7486\n",
            "7497\n",
            "7508\n",
            "7519\n",
            "7521\n",
            "7532\n",
            "7543\n",
            "7554\n",
            "7565\n",
            "7576\n",
            "7587\n",
            "7598\n",
            "7609\n",
            "7620\n",
            "7622\n",
            "7633\n",
            "7644\n",
            "7655\n",
            "7666\n",
            "7677\n",
            "7688\n",
            "7699\n",
            "7710\n",
            "7721\n",
            "7723\n",
            "7734\n",
            "7745\n",
            "7756\n",
            "7767\n",
            "7778\n",
            "7789\n",
            "7800\n",
            "7811\n",
            "7822\n",
            "7824\n",
            "7835\n",
            "7846\n",
            "7857\n",
            "7868\n",
            "7879\n",
            "7890\n",
            "7901\n",
            "7912\n",
            "7923\n",
            "7925\n",
            "7936\n",
            "7947\n",
            "7958\n",
            "7969\n",
            "7980\n",
            "7991\n",
            "8002\n",
            "8013\n",
            "8028\n",
            "8039\n",
            "8050\n",
            "8061\n",
            "8072\n",
            "8083\n",
            "8094\n",
            "8105\n",
            "8116\n",
            "8118\n",
            "8129\n",
            "8140\n",
            "8151\n",
            "8162\n",
            "8173\n",
            "8184\n",
            "8195\n",
            "8206\n",
            "8217\n",
            "8219\n",
            "8230\n",
            "8241\n",
            "8252\n",
            "8263\n",
            "8274\n",
            "8285\n",
            "8296\n",
            "8307\n",
            "8318\n",
            "8320\n",
            "8331\n",
            "8342\n",
            "8353\n",
            "8364\n",
            "8375\n",
            "8386\n",
            "8397\n",
            "8408\n",
            "8419\n",
            "8421\n",
            "8432\n",
            "8443\n",
            "8454\n",
            "8465\n",
            "8476\n",
            "8487\n",
            "8498\n",
            "8509\n",
            "8520\n",
            "8522\n",
            "8533\n",
            "8544\n",
            "8555\n",
            "8566\n",
            "8577\n",
            "8588\n",
            "8599\n",
            "8610\n",
            "8621\n",
            "8623\n",
            "8634\n",
            "8645\n",
            "8656\n",
            "8667\n",
            "8678\n",
            "8689\n",
            "8700\n",
            "8711\n",
            "8722\n",
            "8724\n",
            "8735\n",
            "8746\n",
            "8757\n",
            "8768\n",
            "8779\n",
            "8790\n",
            "8801\n",
            "8812\n",
            "8823\n",
            "8825\n",
            "8836\n",
            "8847\n",
            "8858\n",
            "8869\n",
            "8880\n",
            "8891\n",
            "8902\n",
            "8913\n",
            "8924\n",
            "8926\n",
            "8937\n",
            "8948\n",
            "8959\n",
            "8970\n",
            "8981\n",
            "8992\n",
            "9003\n",
            "9014\n",
            "9029\n",
            "9040\n",
            "9051\n",
            "9062\n",
            "9073\n",
            "9084\n",
            "9095\n",
            "9106\n",
            "9117\n",
            "9119\n",
            "9130\n",
            "9141\n",
            "9152\n",
            "9163\n",
            "9174\n",
            "9185\n",
            "9196\n",
            "9207\n",
            "9218\n",
            "9220\n",
            "9231\n",
            "9242\n",
            "9253\n",
            "9264\n",
            "9275\n",
            "9286\n",
            "9297\n",
            "9308\n",
            "9319\n",
            "9321\n",
            "9332\n",
            "9343\n",
            "9354\n",
            "9365\n",
            "9376\n",
            "9387\n",
            "9398\n",
            "9409\n",
            "9420\n",
            "9422\n",
            "9433\n",
            "9444\n",
            "9455\n",
            "9466\n",
            "9477\n",
            "9488\n",
            "9499\n",
            "9510\n",
            "9521\n",
            "9523\n",
            "9534\n",
            "9545\n",
            "9556\n",
            "9567\n",
            "9578\n",
            "9589\n",
            "9600\n",
            "9611\n",
            "9622\n",
            "9624\n",
            "9635\n",
            "9646\n",
            "9657\n",
            "9668\n",
            "9679\n",
            "9690\n",
            "9701\n",
            "9712\n",
            "9723\n",
            "9725\n",
            "9736\n",
            "9747\n",
            "9758\n",
            "9769\n",
            "9780\n",
            "9791\n",
            "9802\n",
            "9813\n",
            "9824\n",
            "9826\n",
            "9837\n",
            "9848\n",
            "9859\n",
            "9870\n",
            "9881\n",
            "9892\n",
            "9903\n",
            "9914\n",
            "9925\n",
            "9927\n",
            "9938\n",
            "9949\n",
            "9960\n",
            "9971\n",
            "9982\n",
            "9993\n"
          ],
          "name": "stdout"
        }
      ]
    },
    {
      "cell_type": "code",
      "metadata": {
        "colab": {
          "base_uri": "https://localhost:8080/"
        },
        "id": "-2X2hwb9XWPB",
        "outputId": "7e2ea598-7a64-45c0-bd51-817e807ee9fd"
      },
      "source": [
        "N = int(input())\n",
        "cnt = []\n",
        "num = []\n",
        "for enu, i in enumerate(range(N)):\n",
        "    for j in str(i):\n",
        "        i += int(j)\n",
        "    cnt.append(i)\n",
        "\n",
        "    if i == N:\n",
        "        num.append(enu)\n",
        "    \n",
        "if len(num) == 0:\n",
        "    print(0)\n",
        "else: \n",
        "    print(min(num))"
      ],
      "execution_count": null,
      "outputs": [
        {
          "output_type": "stream",
          "text": [
            "101\n",
            "91\n"
          ],
          "name": "stdout"
        }
      ]
    },
    {
      "cell_type": "code",
      "metadata": {
        "colab": {
          "base_uri": "https://localhost:8080/"
        },
        "id": "FTz63JKDh2vr",
        "outputId": "b44a8bac-9e1e-4cd2-ed62-fef4b66973d2"
      },
      "source": [
        "a = input().split()\n",
        "len(a)"
      ],
      "execution_count": null,
      "outputs": [
        {
          "output_type": "stream",
          "text": [
            "\n"
          ],
          "name": "stdout"
        },
        {
          "output_type": "execute_result",
          "data": {
            "text/plain": [
              "0"
            ]
          },
          "metadata": {
            "tags": []
          },
          "execution_count": 22
        }
      ]
    },
    {
      "cell_type": "code",
      "metadata": {
        "colab": {
          "base_uri": "https://localhost:8080/"
        },
        "id": "BWmU_FqWJUUx",
        "outputId": "c9136f50-8942-446c-a51b-8dbc00ce7db4"
      },
      "source": [
        "K = int(input())\n",
        "cnt = []\n",
        "for i in range(K):\n",
        "    a = int(input())\n",
        "\n",
        "    if a != 0:\n",
        "        cnt.append(a)\n",
        "    else: cnt.pop()\n",
        "\n",
        "print(sum(cnt))"
      ],
      "execution_count": null,
      "outputs": [
        {
          "output_type": "stream",
          "text": [
            "10\n",
            "1\n",
            "3\n",
            "5\n",
            "4\n",
            "0\n",
            "0\n",
            "7\n",
            "0\n",
            "0\n",
            "6\n",
            "7\n"
          ],
          "name": "stdout"
        }
      ]
    },
    {
      "cell_type": "code",
      "metadata": {
        "colab": {
          "base_uri": "https://localhost:8080/"
        },
        "id": "m_-WQ4GgKtwe",
        "outputId": "bc609cb0-4fca-4063-cd29-4c1a7434fcbe"
      },
      "source": [
        "a = input()\n",
        "cnt = []\n",
        "b = 1\n",
        "for i in a:\n",
        "    if i == '(':\n",
        "        cnt.append(i)\n",
        "    elif i == '[':\n",
        "        cnt.append(i)\n",
        "    elif i == ')':\n",
        "        if cnt[-1] == '(':\n",
        "            cnt.pop()\n",
        "        else: \n",
        "            b = 0\n",
        "            break\n",
        "    elif i == ']':\n",
        "        if cnt[-1] == '[':\n",
        "            cnt.pop()\n",
        "        else: \n",
        "            b = 0\n",
        "            break\n",
        "    elif i == \".\":\n",
        "        break\n",
        "\n",
        "if b == 0:\n",
        "    print(\"NO\")\n",
        "else: print(\"YES\")"
      ],
      "execution_count": null,
      "outputs": [
        {
          "output_type": "stream",
          "text": [
            "So when I die (the [first] I will see in (heaven) is a score list).\n",
            "YES\n"
          ],
          "name": "stdout"
        }
      ]
    },
    {
      "cell_type": "code",
      "metadata": {
        "colab": {
          "base_uri": "https://localhost:8080/"
        },
        "id": "dK2zv7ggMYB7",
        "outputId": "e406274c-e7a6-4da2-e63e-865f3ed0acea"
      },
      "source": [
        "N = int(input())\n",
        "l = []\n",
        "c = []\n",
        "for i in range(N):\n",
        "    a = input()\n",
        "    l.append(a)\n",
        "    b = l[i].split()\n",
        "\n",
        "    for j in range(1, len(b)+1):\n",
        "        c.append(b[-j])\n",
        "    print('Case #{}: {}'.format(i+1, *c), end = \" \")"
      ],
      "execution_count": null,
      "outputs": [
        {
          "output_type": "stream",
          "text": [
            "1\n",
            "this is a test\n",
            "Case #1: test "
          ],
          "name": "stdout"
        }
      ]
    },
    {
      "cell_type": "code",
      "metadata": {
        "id": "x7S-Zql3nJyl",
        "colab": {
          "base_uri": "https://localhost:8080/"
        },
        "outputId": "aeb7dbf2-93c9-46aa-ad3b-24f80d5d4164"
      },
      "source": [
        "N = int(input())\n",
        "lst = []\n",
        "for _ in range(N):\n",
        "    k = list(map(int, input().split()))\n",
        "    lst.append(k)\n",
        "num = []\n",
        " \n",
        "for i in range(N):\n",
        "    cnt = 1\n",
        "    for j in range(N):\n",
        "        if lst[i][0] < lst[j][0] and lst[i][1] < lst[j][1]:\n",
        "            cnt +=1\n",
        "    num.append(cnt)\n",
        "print(*num)"
      ],
      "execution_count": null,
      "outputs": [
        {
          "output_type": "stream",
          "text": [
            "2 2 1 2 5\n"
          ],
          "name": "stdout"
        }
      ]
    },
    {
      "cell_type": "code",
      "metadata": {
        "id": "oxvzl7pjgWRn",
        "colab": {
          "base_uri": "https://localhost:8080/"
        },
        "outputId": "43a36f35-b2ea-4918-d1c2-610ebb4ba174"
      },
      "source": [
        "import sys\n",
        "\n",
        "a = list(input())\n",
        "n = int(input())\n",
        "j = len(a)\n",
        "\n",
        "for i in range(n):\n",
        "    b = sys.stdin.readline().split()\n",
        "    if b[0] == \"L\":\n",
        "        if j == 0:\n",
        "            pass\n",
        "        else: j -= 1\n",
        "    \n",
        "    elif b[0] == \"D\":\n",
        "        if j == len(a)-1:\n",
        "            pass\n",
        "        else: j += 1\n",
        "    \n",
        "    elif b[0] == \"B\":\n",
        "        if j == 0:\n",
        "            pass\n",
        "        else: \n",
        "            a.remove(a[j-1])\n",
        "    \n",
        "    elif b[0] == \"P\":\n",
        "        a.insert(j, b[1])\n",
        "        j += 1\n",
        "\n",
        "s = ''.join(a)\n",
        "print(s)"
      ],
      "execution_count": null,
      "outputs": [
        {
          "output_type": "stream",
          "text": [
            "abc\n",
            "9\n",
            "L\n",
            "L\n",
            "L\n",
            "L\n",
            "L\n",
            "P x\n",
            "L\n",
            "B\n",
            "P y\n",
            "yxabc\n"
          ],
          "name": "stdout"
        }
      ]
    },
    {
      "cell_type": "code",
      "metadata": {
        "colab": {
          "base_uri": "https://localhost:8080/"
        },
        "id": "tI8GFywDZDvk",
        "outputId": "96422e38-6582-4631-f400-18916dfef2ed"
      },
      "source": [
        "import sys\n",
        "\n",
        "n = int(input())\n",
        "stack = []\n",
        "\n",
        "for i in range(n):\n",
        "\n",
        "    a = sys.stdin.readline().split()\n",
        "    # a = input().split()\n",
        "\n",
        "    if a[0] == 'push':\n",
        "        stack.append(int(a[1]))\n",
        "\n",
        "    elif a[0] == 'pop':\n",
        "        if len(stack) == 0:\n",
        "            print(\"-1\")\n",
        "        else: print(stack.pop(0))\n",
        "\n",
        "    elif a[0] == 'size':\n",
        "        print(len(stack))\n",
        "\n",
        "    elif a[0] == 'empty':\n",
        "        if len(stack) == 0:\n",
        "            print(\"1\")\n",
        "        else: print(\"0\")\n",
        "    \n",
        "    elif a[0] == 'front':\n",
        "        if len(stack) == 0:\n",
        "            print(\"-1\")\n",
        "        else: print(stack[0])\n",
        "\n",
        "    elif a[0] == 'back':\n",
        "        if len(stack) == 0:\n",
        "            print(\"-1\")\n",
        "        else: print(stack[-1])"
      ],
      "execution_count": null,
      "outputs": [
        {
          "output_type": "stream",
          "text": [
            "15\n",
            "push 1\n",
            "push 2\n",
            "front\n",
            "1\n",
            "back\n",
            "2\n",
            "size\n",
            "2\n",
            "empty\n",
            "0\n",
            "pop\n",
            "1\n",
            "pop\n",
            "2\n",
            "pop\n",
            "-1\n",
            "size\n",
            "0\n",
            "empty\n",
            "1\n",
            "pop\n",
            "-1\n",
            "push 3\n",
            "empty\n",
            "0\n",
            "front\n",
            "3\n"
          ],
          "name": "stdout"
        }
      ]
    },
    {
      "cell_type": "code",
      "metadata": {
        "colab": {
          "base_uri": "https://localhost:8080/"
        },
        "id": "VXlXRGMciwXB",
        "outputId": "3e4afd92-4a1a-42b0-bc15-2ebf89e162f4"
      },
      "source": [
        "n = int(input())\n",
        "i = 0\n",
        "\n",
        "while True:\n",
        "    if (n - 3*i) % 5 == 0:\n",
        "        print(int(i + (n-3*i)/5))\n",
        "        break\n",
        "    elif n < 3 * i:\n",
        "        print(-1)\n",
        "        break\n",
        "    else: i += 1"
      ],
      "execution_count": null,
      "outputs": [
        {
          "output_type": "stream",
          "text": [
            "11\n",
            "3\n"
          ],
          "name": "stdout"
        }
      ]
    },
    {
      "cell_type": "code",
      "metadata": {
        "colab": {
          "base_uri": "https://localhost:8080/"
        },
        "id": "RNwPHDjws1Rm",
        "outputId": "34c64104-8160-4f7d-8d6e-6854c2020253"
      },
      "source": [
        "lst = ['ABC', 'DEF', 'GHI', 'JKL', 'MNO', 'PQRS', 'TUV', 'WXYZ']\n",
        "\n",
        "a = input()\n",
        "cnt = 0\n",
        "for i in a:\n",
        "    for j in range(len(lst)):\n",
        "        if i in lst[j]:\n",
        "            cnt += 3 + j\n",
        "print(cnt)"
      ],
      "execution_count": null,
      "outputs": [
        {
          "output_type": "stream",
          "text": [
            "UNUCIC\n",
            "6\n",
            "4\n",
            "6\n",
            "0\n",
            "2\n",
            "0\n",
            "36\n"
          ],
          "name": "stdout"
        }
      ]
    },
    {
      "cell_type": "code",
      "metadata": {
        "colab": {
          "base_uri": "https://localhost:8080/"
        },
        "id": "wbRueuQQuDDj",
        "outputId": "db9f953f-8186-4a61-8560-095cb6e7f77d"
      },
      "source": [
        "lst = ['c=', 'c-', 'dz=', 'd-', 'lj', 'nj', 's=', 'z=']\n",
        "\n",
        "a = input()\n",
        "\n",
        "for i in range(len(lst)):\n",
        "    if lst[i] in a:\n",
        "        a = a.replace(lst[i], \"1\")\n",
        "\n",
        "print(len(a))"
      ],
      "execution_count": null,
      "outputs": [
        {
          "output_type": "stream",
          "text": [
            "ljes=njak\n",
            "6 1e11ak\n"
          ],
          "name": "stdout"
        }
      ]
    },
    {
      "cell_type": "code",
      "metadata": {
        "colab": {
          "base_uri": "https://localhost:8080/"
        },
        "id": "iUsUdC3_3O0I",
        "outputId": "4cbf57de-d48d-41ed-85db-1d865dbba766"
      },
      "source": [
        "T = int(input())\n",
        "for k in range(T):\n",
        "    a = input().split()\n",
        "    for i in a[1]:\n",
        "        for j in range(int(a[0])):\n",
        "            print(i, end = \"\")\n",
        "    print(end = \"\\n\")"
      ],
      "execution_count": null,
      "outputs": [
        {
          "output_type": "stream",
          "text": [
            "2\n",
            "3 ABC\n",
            "AAABBBCCC\n",
            "5 /HTP\n",
            "/////HHHHHTTTTTPPPPP\n"
          ],
          "name": "stdout"
        }
      ]
    },
    {
      "cell_type": "code",
      "metadata": {
        "id": "iBuT3rcd452X",
        "colab": {
          "base_uri": "https://localhost:8080/"
        },
        "outputId": "6d0f4472-1102-4a44-ad7c-a809e901a18a"
      },
      "source": [
        "import sys\n",
        "\n",
        "n, m = map(int, input().split())\n",
        "\n",
        "lst = [sys.stdin.readline() for _ in range(n)]\n",
        "\n",
        "num_1 = []\n",
        "num_2 = []\n",
        "\n",
        "for x in range(n-7):\n",
        "    for y in range(m-7):\n",
        "        cnt_1 = 0\n",
        "        for i in range(x, x+8):\n",
        "            for j in range(y, y+8):\n",
        "                if (i-x) % 2 == 0 and (j-y) % 2 == 0 and lst[i][j] != 'W':\n",
        "                    cnt_1 += 1\n",
        "                elif (i-x) % 2 != 0 and (j-y) % 2 == 0 and lst[i][j] != 'B':\n",
        "                    cnt_1 += 1\n",
        "                elif (i-x) % 2 != 0 and (j-y) % 2 != 0 and lst[i][j] != 'W':\n",
        "                    cnt_1 += 1\n",
        "                elif (i-x) % 2 == 0 and (j-y) % 2 != 0 and lst[i][j] != 'B':\n",
        "                    cnt_1 += 1\n",
        "        num_1.append(cnt_1)\n",
        "\n",
        "        cnt_2 = 0\n",
        "        for i in range(x, x+8):\n",
        "            for j in range(y, y+8):\n",
        "                if (i-x) % 2 == 0 and (j-y) % 2 == 0 and lst[i][j] != 'B':\n",
        "                    cnt_2 += 1\n",
        "                elif (i-x) % 2 != 0 and (j-y) % 2 == 0 and lst[i][j] != 'W':\n",
        "                    cnt_2 += 1\n",
        "                elif (i-x) % 2 != 0 and (j-y) % 2 != 0 and lst[i][j] != 'B':\n",
        "                    cnt_2 += 1\n",
        "                elif (i-x) % 2 == 0 and (j-y) % 2 != 0 and lst[i][j] != 'W':\n",
        "                    cnt_2 += 1\n",
        "\n",
        "        num_2.append(cnt_2)\n",
        "num = num_1 + num_2\n",
        "\n",
        "print(min(num))"
      ],
      "execution_count": null,
      "outputs": [
        {
          "output_type": "stream",
          "text": [
            "12\n"
          ],
          "name": "stdout"
        }
      ]
    },
    {
      "cell_type": "code",
      "metadata": {
        "id": "yMg5pwf5ydIp",
        "colab": {
          "base_uri": "https://localhost:8080/",
          "height": 380
        },
        "outputId": "62be1734-d2a0-4594-d2ec-761ece4d805e"
      },
      "source": [
        "lst = ['0 0 0 0 0 0 0 0 0 0 0 0 0 0 0 0 0 0 0',\n",
        "'0 0 0 0 0 0 0 0 0 0 0 0 0 0 0 0 0 0 0',\n",
        "'0 1 2 0 0 2 2 2 1 0 0 0 0 0 0 0 0 0 0',\n",
        "'0 0 1 2 0 0 0 0 1 0 0 0 0 0 0 0 0 0 0',\n",
        "'0 0 0 1 2 0 0 0 0 0 0 0 0 0 0 0 0 0 0',\n",
        "'0 0 0 0 1 2 2 0 0 0 0 0 0 0 0 0 0 0 0',\n",
        "'0 0 1 1 0 1 0 0 0 0 0 0 0 0 0 0 0 0 0',\n",
        "'0 0 0 0 0 0 2 1 0 0 0 0 0 0 0 0 0 0 0',\n",
        "'0 0 0 0 0 0 0 0 0 0 0 0 0 0 0 0 0 0 0',\n",
        "'0 0 0 0 0 0 0 0 0 0 0 0 0 0 0 0 0 0 0',\n",
        "'0 0 0 0 0 0 0 0 0 0 0 0 0 0 0 0 0 0 0',\n",
        "'0 0 0 0 0 0 0 0 0 0 0 0 0 0 0 0 0 0 0',\n",
        "'0 0 0 0 0 0 0 0 0 0 0 0 0 0 0 0 0 0 0',\n",
        "'0 0 0 0 0 0 0 0 0 0 0 0 0 0 0 0 0 0 0',\n",
        "'0 0 0 0 0 0 0 0 0 0 0 0 0 0 0 0 0 0 0',\n",
        "'0 0 0 0 0 0 0 0 0 0 0 0 0 0 0 0 0 0 0',\n",
        "'0 0 0 0 0 0 0 0 0 0 0 0 0 0 0 0 0 0 0',\n",
        "'0 0 0 0 0 0 0 0 0 0 0 0 0 0 0 0 0 0 0',\n",
        "'0 0 0 0 0 0 0 0 0 0 0 0 0 0 0 0 0 0 0']\n",
        "\n",
        "lst = [i.replace(\" \",\"\") for i in lst]\n",
        "\n",
        "def col(y):\n",
        "    return [row[y] for row in lst]\n",
        "\n",
        "def dia(x,y):\n",
        "    return [di[y-j] for di in lst]\n",
        "\n",
        "for i in range(15):\n",
        "    for j in range(15):\n",
        "        for x in range(i, i+5):\n",
        "            for y in range(j, j+5):\n",
        "                if lst[x].count('1') == 5 or lst[x].count('2') == 5:\n",
        "                    print(i)\n",
        "                elif col(y).count('1') == 5 or col(y).count('2') == 5:\n",
        "                    print(i)\n",
        "                elif dia(x,y).count('1') == 5 or dia(x,y).count('2') == 5:\n",
        "                    print(i)\n",
        "\n"
      ],
      "execution_count": null,
      "outputs": [
        {
          "output_type": "error",
          "ename": "IndexError",
          "evalue": "ignored",
          "traceback": [
            "\u001b[0;31m---------------------------------------------------------------------------\u001b[0m",
            "\u001b[0;31mIndexError\u001b[0m                                Traceback (most recent call last)",
            "\u001b[0;32m<ipython-input-19-1c6923a3c844>\u001b[0m in \u001b[0;36m<module>\u001b[0;34m()\u001b[0m\n\u001b[1;32m     33\u001b[0m                 \u001b[0;32mif\u001b[0m \u001b[0mlst\u001b[0m\u001b[0;34m[\u001b[0m\u001b[0mx\u001b[0m\u001b[0;34m]\u001b[0m\u001b[0;34m.\u001b[0m\u001b[0mcount\u001b[0m\u001b[0;34m(\u001b[0m\u001b[0;34m'1'\u001b[0m\u001b[0;34m)\u001b[0m \u001b[0;34m==\u001b[0m \u001b[0;36m5\u001b[0m \u001b[0;32mor\u001b[0m \u001b[0mlst\u001b[0m\u001b[0;34m[\u001b[0m\u001b[0mx\u001b[0m\u001b[0;34m]\u001b[0m\u001b[0;34m.\u001b[0m\u001b[0mcount\u001b[0m\u001b[0;34m(\u001b[0m\u001b[0;34m'2'\u001b[0m\u001b[0;34m)\u001b[0m \u001b[0;34m==\u001b[0m \u001b[0;36m5\u001b[0m\u001b[0;34m:\u001b[0m\u001b[0;34m\u001b[0m\u001b[0;34m\u001b[0m\u001b[0m\n\u001b[1;32m     34\u001b[0m                     \u001b[0mprint\u001b[0m\u001b[0;34m(\u001b[0m\u001b[0mi\u001b[0m\u001b[0;34m)\u001b[0m\u001b[0;34m\u001b[0m\u001b[0;34m\u001b[0m\u001b[0m\n\u001b[0;32m---> 35\u001b[0;31m                 \u001b[0;32melif\u001b[0m \u001b[0mcol\u001b[0m\u001b[0;34m(\u001b[0m\u001b[0my\u001b[0m\u001b[0;34m)\u001b[0m\u001b[0;34m.\u001b[0m\u001b[0mcount\u001b[0m\u001b[0;34m(\u001b[0m\u001b[0;34m'1'\u001b[0m\u001b[0;34m)\u001b[0m \u001b[0;34m==\u001b[0m \u001b[0;36m5\u001b[0m \u001b[0;32mor\u001b[0m \u001b[0mcol\u001b[0m\u001b[0;34m(\u001b[0m\u001b[0my\u001b[0m\u001b[0;34m)\u001b[0m\u001b[0;34m.\u001b[0m\u001b[0mcount\u001b[0m\u001b[0;34m(\u001b[0m\u001b[0;34m'2'\u001b[0m\u001b[0;34m)\u001b[0m \u001b[0;34m==\u001b[0m \u001b[0;36m5\u001b[0m\u001b[0;34m:\u001b[0m\u001b[0;34m\u001b[0m\u001b[0;34m\u001b[0m\u001b[0m\n\u001b[0m\u001b[1;32m     36\u001b[0m                     \u001b[0mprint\u001b[0m\u001b[0;34m(\u001b[0m\u001b[0mi\u001b[0m\u001b[0;34m)\u001b[0m\u001b[0;34m\u001b[0m\u001b[0;34m\u001b[0m\u001b[0m\n\u001b[1;32m     37\u001b[0m                 \u001b[0;32melif\u001b[0m \u001b[0mdia\u001b[0m\u001b[0;34m(\u001b[0m\u001b[0mx\u001b[0m\u001b[0;34m,\u001b[0m\u001b[0my\u001b[0m\u001b[0;34m)\u001b[0m\u001b[0;34m.\u001b[0m\u001b[0mcount\u001b[0m\u001b[0;34m(\u001b[0m\u001b[0;34m'1'\u001b[0m\u001b[0;34m)\u001b[0m \u001b[0;34m==\u001b[0m \u001b[0;36m5\u001b[0m \u001b[0;32mor\u001b[0m \u001b[0mdia\u001b[0m\u001b[0;34m(\u001b[0m\u001b[0mx\u001b[0m\u001b[0;34m,\u001b[0m\u001b[0my\u001b[0m\u001b[0;34m)\u001b[0m\u001b[0;34m.\u001b[0m\u001b[0mcount\u001b[0m\u001b[0;34m(\u001b[0m\u001b[0;34m'2'\u001b[0m\u001b[0;34m)\u001b[0m \u001b[0;34m==\u001b[0m \u001b[0;36m5\u001b[0m\u001b[0;34m:\u001b[0m\u001b[0;34m\u001b[0m\u001b[0;34m\u001b[0m\u001b[0m\n",
            "\u001b[0;32m<ipython-input-19-1c6923a3c844>\u001b[0m in \u001b[0;36mcol\u001b[0;34m(y)\u001b[0m\n\u001b[1;32m     22\u001b[0m \u001b[0;34m\u001b[0m\u001b[0m\n\u001b[1;32m     23\u001b[0m \u001b[0;32mdef\u001b[0m \u001b[0mcol\u001b[0m\u001b[0;34m(\u001b[0m\u001b[0my\u001b[0m\u001b[0;34m)\u001b[0m\u001b[0;34m:\u001b[0m\u001b[0;34m\u001b[0m\u001b[0;34m\u001b[0m\u001b[0m\n\u001b[0;32m---> 24\u001b[0;31m     \u001b[0;32mreturn\u001b[0m \u001b[0;34m[\u001b[0m\u001b[0mrow\u001b[0m\u001b[0;34m[\u001b[0m\u001b[0my\u001b[0m\u001b[0;34m]\u001b[0m \u001b[0;32mfor\u001b[0m \u001b[0mrow\u001b[0m \u001b[0;32min\u001b[0m \u001b[0mlst\u001b[0m\u001b[0;34m[\u001b[0m\u001b[0mi\u001b[0m\u001b[0;34m]\u001b[0m\u001b[0;34m]\u001b[0m\u001b[0;34m\u001b[0m\u001b[0;34m\u001b[0m\u001b[0m\n\u001b[0m\u001b[1;32m     25\u001b[0m \u001b[0;34m\u001b[0m\u001b[0m\n\u001b[1;32m     26\u001b[0m \u001b[0;32mdef\u001b[0m \u001b[0mdia\u001b[0m\u001b[0;34m(\u001b[0m\u001b[0mx\u001b[0m\u001b[0;34m,\u001b[0m\u001b[0my\u001b[0m\u001b[0;34m)\u001b[0m\u001b[0;34m:\u001b[0m\u001b[0;34m\u001b[0m\u001b[0;34m\u001b[0m\u001b[0m\n",
            "\u001b[0;32m<ipython-input-19-1c6923a3c844>\u001b[0m in \u001b[0;36m<listcomp>\u001b[0;34m(.0)\u001b[0m\n\u001b[1;32m     22\u001b[0m \u001b[0;34m\u001b[0m\u001b[0m\n\u001b[1;32m     23\u001b[0m \u001b[0;32mdef\u001b[0m \u001b[0mcol\u001b[0m\u001b[0;34m(\u001b[0m\u001b[0my\u001b[0m\u001b[0;34m)\u001b[0m\u001b[0;34m:\u001b[0m\u001b[0;34m\u001b[0m\u001b[0;34m\u001b[0m\u001b[0m\n\u001b[0;32m---> 24\u001b[0;31m     \u001b[0;32mreturn\u001b[0m \u001b[0;34m[\u001b[0m\u001b[0mrow\u001b[0m\u001b[0;34m[\u001b[0m\u001b[0my\u001b[0m\u001b[0;34m]\u001b[0m \u001b[0;32mfor\u001b[0m \u001b[0mrow\u001b[0m \u001b[0;32min\u001b[0m \u001b[0mlst\u001b[0m\u001b[0;34m[\u001b[0m\u001b[0mi\u001b[0m\u001b[0;34m]\u001b[0m\u001b[0;34m]\u001b[0m\u001b[0;34m\u001b[0m\u001b[0;34m\u001b[0m\u001b[0m\n\u001b[0m\u001b[1;32m     25\u001b[0m \u001b[0;34m\u001b[0m\u001b[0m\n\u001b[1;32m     26\u001b[0m \u001b[0;32mdef\u001b[0m \u001b[0mdia\u001b[0m\u001b[0;34m(\u001b[0m\u001b[0mx\u001b[0m\u001b[0;34m,\u001b[0m\u001b[0my\u001b[0m\u001b[0;34m)\u001b[0m\u001b[0;34m:\u001b[0m\u001b[0;34m\u001b[0m\u001b[0;34m\u001b[0m\u001b[0m\n",
            "\u001b[0;31mIndexError\u001b[0m: string index out of range"
          ]
        }
      ]
    },
    {
      "cell_type": "code",
      "metadata": {
        "id": "IHKxsDd2TRGA"
      },
      "source": [
        ""
      ],
      "execution_count": null,
      "outputs": []
    }
  ]
}