{
  "nbformat": 4,
  "nbformat_minor": 0,
  "metadata": {
    "colab": {
      "name": "Asterisk.ipynb",
      "provenance": [],
      "collapsed_sections": [],
      "authorship_tag": "ABX9TyNLsWEGxYPodydwgD4pWyha",
      "include_colab_link": true
    },
    "kernelspec": {
      "name": "python3",
      "display_name": "Python 3"
    },
    "language_info": {
      "name": "python"
    }
  },
  "cells": [
    {
      "cell_type": "markdown",
      "metadata": {
        "id": "view-in-github",
        "colab_type": "text"
      },
      "source": [
        "<a href=\"https://colab.research.google.com/github/leejukyu/nado/blob/main/Asterisk.ipynb\" target=\"_parent\"><img src=\"https://colab.research.google.com/assets/colab-badge.svg\" alt=\"Open In Colab\"/></a>"
      ]
    },
    {
      "cell_type": "markdown",
      "metadata": {
        "id": "Z2Q1xwzxRENI"
      },
      "source": [
        "Asterisk\n",
        "- 흔히 알고 있는 * 를 의미\n",
        "- 단순 곱셈, 제곱연산, 가변인자 활용 등 다양하게 사용"
      ]
    },
    {
      "cell_type": "code",
      "metadata": {
        "colab": {
          "base_uri": "https://localhost:8080/"
        },
        "id": "y0j_XALWRAjq",
        "outputId": "7a0be373-feaa-48d6-a5b6-993694098736"
      },
      "source": [
        "# *args\n",
        "def asterisk_test(a,*args):\n",
        "    print(a, args)\n",
        "    print(type(args))\n",
        "asterisk_test(1,2,3,4,5,6)"
      ],
      "execution_count": 2,
      "outputs": [
        {
          "output_type": "stream",
          "text": [
            "1 (2, 3, 4, 5, 6)\n",
            "<class 'tuple'>\n"
          ],
          "name": "stdout"
        }
      ]
    },
    {
      "cell_type": "code",
      "metadata": {
        "colab": {
          "base_uri": "https://localhost:8080/"
        },
        "id": "3rcdXGejRWip",
        "outputId": "1b82fcfc-494f-4891-fba5-8d61d152e72e"
      },
      "source": [
        "# **kargs\n",
        "def asterisk_test(a,**kargs):\n",
        "    print(a, kargs)\n",
        "    print(type(kargs))\n",
        "asterisk_test(1, b=2, c=3, d=4, e=5, f=6)"
      ],
      "execution_count": 3,
      "outputs": [
        {
          "output_type": "stream",
          "text": [
            "1 {'b': 2, 'c': 3, 'd': 4, 'e': 5, 'f': 6}\n",
            "<class 'dict'>\n"
          ],
          "name": "stdout"
        }
      ]
    },
    {
      "cell_type": "markdown",
      "metadata": {
        "id": "fXYnqgRoSaxy"
      },
      "source": [
        "Asterisk - unpacking a container\n",
        "- tuple, dict 등 자료형에 들어가 있는 값을 unpacking\n",
        "- 함수의 입력값, zip등에 유용하게 사용가능"
      ]
    },
    {
      "cell_type": "code",
      "metadata": {
        "colab": {
          "base_uri": "https://localhost:8080/"
        },
        "id": "fmmt7WL6RrSu",
        "outputId": "f09b9e1e-71c6-4215-c545-c2a137afb490"
      },
      "source": [
        "def asterisk_test(a, *args):\n",
        "    print(a, args)\n",
        "    print(type(args))\n",
        "asterisk_test(1,*(2,3,4,5,6))"
      ],
      "execution_count": 4,
      "outputs": [
        {
          "output_type": "stream",
          "text": [
            "1 (2, 3, 4, 5, 6)\n",
            "<class 'tuple'>\n"
          ],
          "name": "stdout"
        }
      ]
    },
    {
      "cell_type": "code",
      "metadata": {
        "colab": {
          "base_uri": "https://localhost:8080/"
        },
        "id": "kT7EAOMiStA2",
        "outputId": "c9a4be0f-364d-44d7-ce30-8752d79f2df1"
      },
      "source": [
        "def asterisk_test(a, args):\n",
        "    print(a, *args)\n",
        "    print(type(args))\n",
        "asterisk_test(1,(2,3,4,5,6))"
      ],
      "execution_count": 7,
      "outputs": [
        {
          "output_type": "stream",
          "text": [
            "1 2 3 4 5 6\n",
            "<class 'tuple'>\n"
          ],
          "name": "stdout"
        }
      ]
    },
    {
      "cell_type": "code",
      "metadata": {
        "id": "0WsuCORRSymu"
      },
      "source": [
        " "
      ],
      "execution_count": null,
      "outputs": []
    }
  ]
}