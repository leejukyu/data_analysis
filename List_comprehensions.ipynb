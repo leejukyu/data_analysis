{
  "nbformat": 4,
  "nbformat_minor": 0,
  "metadata": {
    "colab": {
      "name": "List comprehensions.ipynb",
      "provenance": [],
      "collapsed_sections": [],
      "authorship_tag": "ABX9TyNlsMK+7GaHCbF9bb8HQw4O",
      "include_colab_link": true
    },
    "kernelspec": {
      "name": "python3",
      "display_name": "Python 3"
    },
    "language_info": {
      "name": "python"
    }
  },
  "cells": [
    {
      "cell_type": "markdown",
      "metadata": {
        "id": "view-in-github",
        "colab_type": "text"
      },
      "source": [
        "<a href=\"https://colab.research.google.com/github/leejukyu/nado/blob/main/List_comprehensions.ipynb\" target=\"_parent\"><img src=\"https://colab.research.google.com/assets/colab-badge.svg\" alt=\"Open In Colab\"/></a>"
      ]
    },
    {
      "cell_type": "markdown",
      "metadata": {
        "id": "RqsJIrwNSaO8"
      },
      "source": [
        "List comprehensions\n",
        "- 기존 List 사용하여 간단히 다른 List를 만드는 기법\n",
        "- 포괄적인 List, 포함되는 리스트라는 의미로 사용됨\n",
        "- 파이썬에서 가장 많이 사용되는 기법 중 하나\n",
        "- 일반적으로 for + append 보다 속도가 빠름"
      ]
    },
    {
      "cell_type": "code",
      "metadata": {
        "colab": {
          "base_uri": "https://localhost:8080/"
        },
        "id": "gny2Sh-bSpqe",
        "outputId": "e0b6aef6-89ff-4765-b88c-d7046d9b014b"
      },
      "source": [
        "result = []\n",
        "for i in range(10):\n",
        "    result.append(i)\n",
        "result"
      ],
      "execution_count": 1,
      "outputs": [
        {
          "output_type": "execute_result",
          "data": {
            "text/plain": [
              "[0, 1, 2, 3, 4, 5, 6, 7, 8, 9]"
            ]
          },
          "metadata": {
            "tags": []
          },
          "execution_count": 1
        }
      ]
    },
    {
      "cell_type": "code",
      "metadata": {
        "colab": {
          "base_uri": "https://localhost:8080/"
        },
        "id": "H7iT1cTATCEE",
        "outputId": "62dfb99c-2069-451b-c390-aba2650b05aa"
      },
      "source": [
        "result = [i for i in range(10)]\n",
        "result"
      ],
      "execution_count": 2,
      "outputs": [
        {
          "output_type": "execute_result",
          "data": {
            "text/plain": [
              "[0, 1, 2, 3, 4, 5, 6, 7, 8, 9]"
            ]
          },
          "metadata": {
            "tags": []
          },
          "execution_count": 2
        }
      ]
    },
    {
      "cell_type": "code",
      "metadata": {
        "colab": {
          "base_uri": "https://localhost:8080/"
        },
        "id": "KCUZex8RTGMO",
        "outputId": "f917f823-c8d2-4e9e-ffd0-0a96e7968692"
      },
      "source": [
        "# 조건에 맞는 것만\n",
        "result = [i for i in range(10) if i % 2 == 0]\n",
        "result "
      ],
      "execution_count": 3,
      "outputs": [
        {
          "output_type": "execute_result",
          "data": {
            "text/plain": [
              "[0, 2, 4, 6, 8]"
            ]
          },
          "metadata": {
            "tags": []
          },
          "execution_count": 3
        }
      ]
    },
    {
      "cell_type": "code",
      "metadata": {
        "colab": {
          "base_uri": "https://localhost:8080/"
        },
        "id": "NcHdpHvMTN07",
        "outputId": "80240274-1f7c-4e3e-8621-dfdf0e3dd091"
      },
      "source": [
        "word_1 = \"hello\"\n",
        "word_2 = \"world\"\n",
        "result = [i+j for i in word_1 for j in word_2] # 경우의 수 찾을 때 사용하면 좋다\n",
        "# for i in word_1:\n",
        "#    for j in word_2:\n",
        "result"
      ],
      "execution_count": 5,
      "outputs": [
        {
          "output_type": "execute_result",
          "data": {
            "text/plain": [
              "['hw',\n",
              " 'ho',\n",
              " 'hr',\n",
              " 'hl',\n",
              " 'hd',\n",
              " 'ew',\n",
              " 'eo',\n",
              " 'er',\n",
              " 'el',\n",
              " 'ed',\n",
              " 'lw',\n",
              " 'lo',\n",
              " 'lr',\n",
              " 'll',\n",
              " 'ld',\n",
              " 'lw',\n",
              " 'lo',\n",
              " 'lr',\n",
              " 'll',\n",
              " 'ld',\n",
              " 'ow',\n",
              " 'oo',\n",
              " 'or',\n",
              " 'ol',\n",
              " 'od']"
            ]
          },
          "metadata": {
            "tags": []
          },
          "execution_count": 5
        }
      ]
    },
    {
      "cell_type": "code",
      "metadata": {
        "colab": {
          "base_uri": "https://localhost:8080/"
        },
        "id": "ILKNdAZGUDBw",
        "outputId": "2cded587-8d28-408d-cec0-55a76e4b96c4"
      },
      "source": [
        "case_1 = [\"A\",\"B\",\"C\"]\n",
        "case_2 = [\"D\",\"E\",\"A\"]\n",
        "result = [i+j for i in case_1 for j in case_2]\n",
        "result"
      ],
      "execution_count": 6,
      "outputs": [
        {
          "output_type": "execute_result",
          "data": {
            "text/plain": [
              "['AD', 'AE', 'AA', 'BD', 'BE', 'BA', 'CD', 'CE', 'CA']"
            ]
          },
          "metadata": {
            "tags": []
          },
          "execution_count": 6
        }
      ]
    },
    {
      "cell_type": "code",
      "metadata": {
        "colab": {
          "base_uri": "https://localhost:8080/"
        },
        "id": "l4_z9lNNYAfT",
        "outputId": "8e29d20c-39dd-4651-e4dd-752bafd83a3e"
      },
      "source": [
        "result = [[i+j for i in case_1] for j in case_2]\n",
        "result"
      ],
      "execution_count": 12,
      "outputs": [
        {
          "output_type": "execute_result",
          "data": {
            "text/plain": [
              "[['AD', 'BD', 'CD'], ['AE', 'BE', 'CE'], ['AA', 'BA', 'CA']]"
            ]
          },
          "metadata": {
            "tags": []
          },
          "execution_count": 12
        }
      ]
    },
    {
      "cell_type": "code",
      "metadata": {
        "colab": {
          "base_uri": "https://localhost:8080/"
        },
        "id": "gHcLCcb_U2Xq",
        "outputId": "290f6c84-a67a-4114-9a30-8eb4712537c4"
      },
      "source": [
        "# j랑 i 가 같다면 list에 추가하지 않음\n",
        "result = [i+j for i in case_1 for j in case_2 if not (i==j)]\n",
        "result"
      ],
      "execution_count": 7,
      "outputs": [
        {
          "output_type": "execute_result",
          "data": {
            "text/plain": [
              "['AD', 'AE', 'BD', 'BE', 'BA', 'CD', 'CE', 'CA']"
            ]
          },
          "metadata": {
            "tags": []
          },
          "execution_count": 7
        }
      ]
    },
    {
      "cell_type": "code",
      "metadata": {
        "colab": {
          "base_uri": "https://localhost:8080/"
        },
        "id": "f9qkgw4eU_UF",
        "outputId": "3da6b1c1-7639-4d83-9c0c-d8c08f3e2514"
      },
      "source": [
        "result.sort()\n",
        "result"
      ],
      "execution_count": 8,
      "outputs": [
        {
          "output_type": "execute_result",
          "data": {
            "text/plain": [
              "['AD', 'AE', 'BA', 'BD', 'BE', 'CA', 'CD', 'CE']"
            ]
          },
          "metadata": {
            "tags": []
          },
          "execution_count": 8
        }
      ]
    },
    {
      "cell_type": "code",
      "metadata": {
        "colab": {
          "base_uri": "https://localhost:8080/"
        },
        "id": "oRNgyIBQVBqT",
        "outputId": "b575c92e-a1bb-42c8-a59d-816e059b419a"
      },
      "source": [
        "words = 'The quick brown fox jumps over the lazy dog'.split()\n",
        "print(words)"
      ],
      "execution_count": 9,
      "outputs": [
        {
          "output_type": "stream",
          "text": [
            "['The', 'quick', 'brown', 'fox', 'jumps', 'over', 'the', 'lazy', 'dog']\n"
          ],
          "name": "stdout"
        }
      ]
    },
    {
      "cell_type": "code",
      "metadata": {
        "colab": {
          "base_uri": "https://localhost:8080/"
        },
        "id": "thdVN5BKVVuB",
        "outputId": "d175cbf0-9701-49ac-9356-df23cb0371b1"
      },
      "source": [
        "# list의 각 elemente들을 대문자, 소문자, 길이로 변환하여 two dimensional list로 변환\n",
        "stuff = [[w.upper(),w.lower(),len(w)] for w in words]\n",
        "stuff"
      ],
      "execution_count": 11,
      "outputs": [
        {
          "output_type": "execute_result",
          "data": {
            "text/plain": [
              "[['THE', 'the', 3],\n",
              " ['QUICK', 'quick', 5],\n",
              " ['BROWN', 'brown', 5],\n",
              " ['FOX', 'fox', 3],\n",
              " ['JUMPS', 'jumps', 5],\n",
              " ['OVER', 'over', 4],\n",
              " ['THE', 'the', 3],\n",
              " ['LAZY', 'lazy', 4],\n",
              " ['DOG', 'dog', 3]]"
            ]
          },
          "metadata": {
            "tags": []
          },
          "execution_count": 11
        }
      ]
    },
    {
      "cell_type": "code",
      "metadata": {
        "id": "SYewX4pPVfTm"
      },
      "source": [
        ""
      ],
      "execution_count": null,
      "outputs": []
    }
  ]
}