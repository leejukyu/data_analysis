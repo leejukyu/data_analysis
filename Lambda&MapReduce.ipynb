{
  "nbformat": 4,
  "nbformat_minor": 0,
  "metadata": {
    "colab": {
      "name": "Lambda&MapReduce.ipynb",
      "provenance": [],
      "collapsed_sections": [],
      "authorship_tag": "ABX9TyNMNraei9XyE/UUN5dP8FSD",
      "include_colab_link": true
    },
    "kernelspec": {
      "name": "python3",
      "display_name": "Python 3"
    },
    "language_info": {
      "name": "python"
    }
  },
  "cells": [
    {
      "cell_type": "markdown",
      "metadata": {
        "id": "view-in-github",
        "colab_type": "text"
      },
      "source": [
        "<a href=\"https://colab.research.google.com/github/leejukyu/nado/blob/main/Lambda%26MapReduce.ipynb\" target=\"_parent\"><img src=\"https://colab.research.google.com/assets/colab-badge.svg\" alt=\"Open In Colab\"/></a>"
      ]
    },
    {
      "cell_type": "markdown",
      "metadata": {
        "id": "9iVkdC1mLPgO"
      },
      "source": [
        "Lambda\n",
        "- 함수 이름 없이, 함수처럼 쓸 수 있는 익명함수\n",
        "- 수학의 람다 대수에서 유래함\n",
        "- python 3 부터는 권장하지 않으나 여전히 많이 쓰임"
      ]
    },
    {
      "cell_type": "code",
      "metadata": {
        "colab": {
          "base_uri": "https://localhost:8080/"
        },
        "id": "wUGZHewZI6R_",
        "outputId": "acbd6479-cc53-4887-9659-93c73445a9a9"
      },
      "source": [
        "def f(x,y):\n",
        "    return x+y\n",
        "print(f(1,4))"
      ],
      "execution_count": 1,
      "outputs": [
        {
          "output_type": "stream",
          "text": [
            "5\n"
          ],
          "name": "stdout"
        }
      ]
    },
    {
      "cell_type": "code",
      "metadata": {
        "colab": {
          "base_uri": "https://localhost:8080/"
        },
        "id": "DcBdE7W1LhY_",
        "outputId": "f9aae9c3-cbfd-46c1-ccdf-ea00377caef1"
      },
      "source": [
        "f = lambda x,y: x+y\n",
        "print(f(1,4))"
      ],
      "execution_count": 2,
      "outputs": [
        {
          "output_type": "stream",
          "text": [
            "5\n"
          ],
          "name": "stdout"
        }
      ]
    },
    {
      "cell_type": "code",
      "metadata": {
        "colab": {
          "base_uri": "https://localhost:8080/"
        },
        "id": "80md_EMbLk6W",
        "outputId": "3df95ed0-b243-4d74-c66b-82f2457a41a5"
      },
      "source": [
        "print((lambda x: x+1)(5))"
      ],
      "execution_count": 3,
      "outputs": [
        {
          "output_type": "stream",
          "text": [
            "6\n"
          ],
          "name": "stdout"
        }
      ]
    },
    {
      "cell_type": "code",
      "metadata": {
        "colab": {
          "base_uri": "https://localhost:8080/"
        },
        "id": "X0jqQx_6MIW9",
        "outputId": "34cb12f2-b749-4602-e9ca-917ab601f86c"
      },
      "source": [
        "# Map : Sequence자료형(리스트, 튜플) 각 element에 동일한 function을 적용함\n",
        "# 파이썬3 에서는 앞에 list를 붙여야 실행됨\n",
        "ex = [1,2,3,4,5]\n",
        "f = lambda x: x**2\n",
        "print(list(map(f,ex)))"
      ],
      "execution_count": 4,
      "outputs": [
        {
          "output_type": "stream",
          "text": [
            "[1, 4, 9, 16, 25]\n"
          ],
          "name": "stdout"
        }
      ]
    },
    {
      "cell_type": "code",
      "metadata": {
        "colab": {
          "base_uri": "https://localhost:8080/"
        },
        "id": "BryB_RK7MgzT",
        "outputId": "0574abd7-6715-4a92-ce17-201f6ae243c3"
      },
      "source": [
        "ex = [1,2,3,4,5]\n",
        "f = lambda x,y: x+y\n",
        "print(list(map(f,ex,ex)))"
      ],
      "execution_count": 6,
      "outputs": [
        {
          "output_type": "stream",
          "text": [
            "[2, 4, 6, 8, 10]\n"
          ],
          "name": "stdout"
        }
      ]
    },
    {
      "cell_type": "code",
      "metadata": {
        "colab": {
          "base_uri": "https://localhost:8080/"
        },
        "id": "_mImnpV6M1YA",
        "outputId": "095e8943-5480-4987-a3a4-9b06bc195764"
      },
      "source": [
        "# Reduce function : map function과 달리 list에 똑같은 함수를 적용해서 통합\n",
        "from functools import reduce\n",
        "print(reduce(lambda x,y: x+y, [1,2,3,4,5]))"
      ],
      "execution_count": 8,
      "outputs": [
        {
          "output_type": "stream",
          "text": [
            "15\n"
          ],
          "name": "stdout"
        }
      ]
    },
    {
      "cell_type": "code",
      "metadata": {
        "colab": {
          "base_uri": "https://localhost:8080/"
        },
        "id": "tIldWWMVOBmH",
        "outputId": "9f5785e0-4ab7-49b8-bf82-169da219425d"
      },
      "source": [
        "def factorial(n):\n",
        "    return reduce(\n",
        "        lambda x,y: x*y, range(1,n+1)\n",
        "    )\n",
        "factorial(5)"
      ],
      "execution_count": 10,
      "outputs": [
        {
          "output_type": "execute_result",
          "data": {
            "text/plain": [
              "120"
            ]
          },
          "metadata": {
            "tags": []
          },
          "execution_count": 10
        }
      ]
    },
    {
      "cell_type": "code",
      "metadata": {
        "id": "Tpwp6Tv0OnUz"
      },
      "source": [
        ""
      ],
      "execution_count": null,
      "outputs": []
    }
  ]
}