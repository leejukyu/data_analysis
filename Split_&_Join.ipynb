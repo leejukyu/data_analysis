{
  "nbformat": 4,
  "nbformat_minor": 0,
  "metadata": {
    "colab": {
      "name": "Split & Join.ipynb",
      "provenance": [],
      "collapsed_sections": [],
      "authorship_tag": "ABX9TyOsgznrC/13GgLvf9v/Dqr1",
      "include_colab_link": true
    },
    "kernelspec": {
      "name": "python3",
      "display_name": "Python 3"
    },
    "language_info": {
      "name": "python"
    }
  },
  "cells": [
    {
      "cell_type": "markdown",
      "metadata": {
        "id": "view-in-github",
        "colab_type": "text"
      },
      "source": [
        "<a href=\"https://colab.research.google.com/github/leejukyu/nado/blob/main/Split_%26_Join.ipynb\" target=\"_parent\"><img src=\"https://colab.research.google.com/assets/colab-badge.svg\" alt=\"Open In Colab\"/></a>"
      ]
    },
    {
      "cell_type": "code",
      "metadata": {
        "colab": {
          "base_uri": "https://localhost:8080/"
        },
        "id": "oF_3-JqEPB5p",
        "outputId": "ceb0eebf-e767-4ee3-9a83-5ea72e80835e"
      },
      "source": [
        "# Split 함수\n",
        "# string type 의 값을 나눠서 list 형태로 변환\n",
        "items = 'zero, one, two, theree'.split() # 빈칸을 기준으로 문자열 나누기\n",
        "print(items)"
      ],
      "execution_count": 1,
      "outputs": [
        {
          "output_type": "stream",
          "text": [
            "['zero,', 'one,', 'two,', 'theree']\n"
          ],
          "name": "stdout"
        }
      ]
    },
    {
      "cell_type": "code",
      "metadata": {
        "colab": {
          "base_uri": "https://localhost:8080/"
        },
        "id": "57K9t0xfPVMJ",
        "outputId": "f8ef633d-05fd-424e-904a-a995571a14be"
      },
      "source": [
        "example = 'python, jquery, javascript' # \",\"을 기준으로 문자열 나누기\n",
        "example.split(\",\")"
      ],
      "execution_count": 2,
      "outputs": [
        {
          "output_type": "execute_result",
          "data": {
            "text/plain": [
              "['python', ' jquery', ' javascript']"
            ]
          },
          "metadata": {
            "tags": []
          },
          "execution_count": 2
        }
      ]
    },
    {
      "cell_type": "code",
      "metadata": {
        "id": "j_PAD43-P1Vr"
      },
      "source": [
        "# 리스트에 있는 각 값을 a, b, c 변수로 unpacking\n",
        "a, b, c = example.split(\",\")"
      ],
      "execution_count": 3,
      "outputs": []
    },
    {
      "cell_type": "code",
      "metadata": {
        "id": "O_XqZniaP9g8"
      },
      "source": [
        "# \".\"을 기준으로 문자열 나누기 -> unpacking\n",
        "example = 'cs50.gachon.edu'\n",
        "subdomain, domain, tld = example.split('.')"
      ],
      "execution_count": 4,
      "outputs": []
    },
    {
      "cell_type": "code",
      "metadata": {
        "colab": {
          "base_uri": "https://localhost:8080/",
          "height": 35
        },
        "id": "cUVVkyAXQKvU",
        "outputId": "80015013-8359-4a68-d193-7977a62383a8"
      },
      "source": [
        "# join 함수\n",
        "# string list를 합쳐 하나의 string으로 반환할 때 사용\n",
        "colors = ['red','blue','green','yellow']\n",
        "result = ''.join(colors)\n",
        "result"
      ],
      "execution_count": 6,
      "outputs": [
        {
          "output_type": "execute_result",
          "data": {
            "application/vnd.google.colaboratory.intrinsic+json": {
              "type": "string"
            },
            "text/plain": [
              "'redbluegreenyellow'"
            ]
          },
          "metadata": {
            "tags": []
          },
          "execution_count": 6
        }
      ]
    },
    {
      "cell_type": "code",
      "metadata": {
        "colab": {
          "base_uri": "https://localhost:8080/",
          "height": 35
        },
        "id": "1-PJ8IKpQh8u",
        "outputId": "832535d4-2b86-4d2e-ffb7-2e168dff8e89"
      },
      "source": [
        "# 연결 시 빈칸 1칸으로 연결\n",
        "result = ' '.join(colors)\n",
        "result"
      ],
      "execution_count": 9,
      "outputs": [
        {
          "output_type": "execute_result",
          "data": {
            "application/vnd.google.colaboratory.intrinsic+json": {
              "type": "string"
            },
            "text/plain": [
              "'red blue green yellow'"
            ]
          },
          "metadata": {
            "tags": []
          },
          "execution_count": 9
        }
      ]
    },
    {
      "cell_type": "code",
      "metadata": {
        "colab": {
          "base_uri": "https://localhost:8080/",
          "height": 35
        },
        "id": "rs3tpVVgQqR6",
        "outputId": "c6efcbdb-6961-4910-cb28-7457324edc3d"
      },
      "source": [
        "# 연결 시 \",\"으로 연결\n",
        "result =','.join(colors)\n",
        "result"
      ],
      "execution_count": 10,
      "outputs": [
        {
          "output_type": "execute_result",
          "data": {
            "application/vnd.google.colaboratory.intrinsic+json": {
              "type": "string"
            },
            "text/plain": [
              "'red,blue,green,yellow'"
            ]
          },
          "metadata": {
            "tags": []
          },
          "execution_count": 10
        }
      ]
    },
    {
      "cell_type": "code",
      "metadata": {
        "colab": {
          "base_uri": "https://localhost:8080/",
          "height": 35
        },
        "id": "wx1X_CKrQ2KS",
        "outputId": "2a269459-e367-4cd4-bce9-7fc0bb19843d"
      },
      "source": [
        "# 연결 시 \"-\"으로 연결\n",
        "result = \"-\".join(colors)\n",
        "result"
      ],
      "execution_count": 11,
      "outputs": [
        {
          "output_type": "execute_result",
          "data": {
            "application/vnd.google.colaboratory.intrinsic+json": {
              "type": "string"
            },
            "text/plain": [
              "'red-blue-green-yellow'"
            ]
          },
          "metadata": {
            "tags": []
          },
          "execution_count": 11
        }
      ]
    }
  ]
}