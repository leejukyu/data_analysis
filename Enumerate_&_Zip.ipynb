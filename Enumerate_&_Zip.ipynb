{
  "nbformat": 4,
  "nbformat_minor": 0,
  "metadata": {
    "colab": {
      "name": "Enumerate & Zip.ipynb",
      "provenance": [],
      "collapsed_sections": [],
      "authorship_tag": "ABX9TyOiDIF/XGjP0U8KYj5tV9q/",
      "include_colab_link": true
    },
    "kernelspec": {
      "name": "python3",
      "display_name": "Python 3"
    },
    "language_info": {
      "name": "python"
    }
  },
  "cells": [
    {
      "cell_type": "markdown",
      "metadata": {
        "id": "view-in-github",
        "colab_type": "text"
      },
      "source": [
        "<a href=\"https://colab.research.google.com/github/leejukyu/nado/blob/main/Enumerate_%26_Zip.ipynb\" target=\"_parent\"><img src=\"https://colab.research.google.com/assets/colab-badge.svg\" alt=\"Open In Colab\"/></a>"
      ]
    },
    {
      "cell_type": "code",
      "metadata": {
        "colab": {
          "base_uri": "https://localhost:8080/"
        },
        "id": "Sf63qX6Bzr5H",
        "outputId": "42318b19-7529-4c75-c98b-6be579962daa"
      },
      "source": [
        "# enumerate : list의 element를 추출할 때 번호를 붙여서 추출\n",
        "for i , v in enumerate(['tic','tac','toc']):\n",
        "    print(i,v)"
      ],
      "execution_count": null,
      "outputs": [
        {
          "output_type": "stream",
          "text": [
            "0 tic\n",
            "1 tac\n",
            "2 toc\n"
          ],
          "name": "stdout"
        }
      ]
    },
    {
      "cell_type": "code",
      "metadata": {
        "colab": {
          "base_uri": "https://localhost:8080/"
        },
        "id": "hxABrKSa0BVq",
        "outputId": "5438768e-6374-499e-d3a1-4b5689e57d7e"
      },
      "source": [
        "mylist = [\"a\",\"b\",\"c\",\"d\"]\n",
        "list(enumerate(mylist)) # list에 있는 index와 값을 unpacking하여 list로 저장"
      ],
      "execution_count": null,
      "outputs": [
        {
          "output_type": "execute_result",
          "data": {
            "text/plain": [
              "[(0, 'a'), (1, 'b'), (2, 'c'), (3, 'd')]"
            ]
          },
          "metadata": {
            "tags": []
          },
          "execution_count": 2
        }
      ]
    },
    {
      "cell_type": "code",
      "metadata": {
        "colab": {
          "base_uri": "https://localhost:8080/"
        },
        "id": "NGjZbNzq0fDq",
        "outputId": "aee913ec-c63b-4ce8-8b8b-50737579083c"
      },
      "source": [
        "# 문장을 list로 만들고 list의 index와 값을 unpacking하여 dict로 저장\n",
        "{i:j for i,j in enumerate('Gachon University is an academic institute located in South Korea.'.split())}"
      ],
      "execution_count": null,
      "outputs": [
        {
          "output_type": "execute_result",
          "data": {
            "text/plain": [
              "{0: 'Gachon',\n",
              " 1: 'University',\n",
              " 2: 'is',\n",
              " 3: 'an',\n",
              " 4: 'academic',\n",
              " 5: 'institute',\n",
              " 6: 'located',\n",
              " 7: 'in',\n",
              " 8: 'South',\n",
              " 9: 'Korea.'}"
            ]
          },
          "metadata": {
            "tags": []
          },
          "execution_count": 3
        }
      ]
    },
    {
      "cell_type": "code",
      "metadata": {
        "colab": {
          "base_uri": "https://localhost:8080/"
        },
        "id": "7eZAqNU80vWA",
        "outputId": "535796dd-a0a5-4ee5-d764-c66083de8c65"
      },
      "source": [
        "# Zip : 두 개의 list의 값을 병렬적으로 추출함\n",
        "alist = ['a1','a2','a3']\n",
        "blist = ['b1','b2','b3']\n",
        "for a, b in zip(alist, blist):\n",
        "    print(a,b)"
      ],
      "execution_count": null,
      "outputs": [
        {
          "output_type": "stream",
          "text": [
            "a1 b1\n",
            "a2 b2\n",
            "a3 b3\n"
          ],
          "name": "stdout"
        }
      ]
    },
    {
      "cell_type": "code",
      "metadata": {
        "colab": {
          "base_uri": "https://localhost:8080/"
        },
        "id": "OlecYCAW1Jpj",
        "outputId": "0aca2fb0-f1eb-458b-d4ab-013466fc1215"
      },
      "source": [
        "a,b,c = zip((1,2,3),(10,20,30),(100,200,300))\n",
        "[sum(x) for x in zip((1,2,3),(10,20,30),(100,200,300))]"
      ],
      "execution_count": null,
      "outputs": [
        {
          "output_type": "execute_result",
          "data": {
            "text/plain": [
              "[111, 222, 333]"
            ]
          },
          "metadata": {
            "tags": []
          },
          "execution_count": 5
        }
      ]
    },
    {
      "cell_type": "code",
      "metadata": {
        "colab": {
          "base_uri": "https://localhost:8080/"
        },
        "id": "8Apw1g9J1Y3R",
        "outputId": "27a76402-2f53-461b-c4ba-d720cc91feb2"
      },
      "source": [
        "for i, (a,b) in enumerate(zip(alist, blist)):\n",
        "    print(i,a,b) # index alist[index] blist[index] 표시"
      ],
      "execution_count": null,
      "outputs": [
        {
          "output_type": "stream",
          "text": [
            "0 a1 b1\n",
            "1 a2 b2\n",
            "2 a3 b3\n"
          ],
          "name": "stdout"
        }
      ]
    },
    {
      "cell_type": "code",
      "metadata": {
        "id": "uYN3uZgd16qu"
      },
      "source": [
        ""
      ],
      "execution_count": null,
      "outputs": []
    }
  ]
}